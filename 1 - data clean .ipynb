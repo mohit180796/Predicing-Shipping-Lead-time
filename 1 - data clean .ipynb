{
 "cells": [
  {
   "cell_type": "code",
   "execution_count": 1,
   "metadata": {},
   "outputs": [],
   "source": [
    "import pandas as pd\n",
    "import numpy as np\n",
    "import matplotlib.pyplot as plt"
   ]
  },
  {
   "cell_type": "code",
   "execution_count": 4,
   "metadata": {},
   "outputs": [],
   "source": [
    "df =  pd.read_csv('C:/Users/Delight Com/Desktop/semester project/supply data/Supply_Chain_Shipment_Pricing_Data.csv')"
   ]
  },
  {
   "cell_type": "code",
   "execution_count": 5,
   "metadata": {},
   "outputs": [
    {
     "data": {
      "text/html": [
       "<div>\n",
       "<style scoped>\n",
       "    .dataframe tbody tr th:only-of-type {\n",
       "        vertical-align: middle;\n",
       "    }\n",
       "\n",
       "    .dataframe tbody tr th {\n",
       "        vertical-align: top;\n",
       "    }\n",
       "\n",
       "    .dataframe thead th {\n",
       "        text-align: right;\n",
       "    }\n",
       "</style>\n",
       "<table border=\"1\" class=\"dataframe\">\n",
       "  <thead>\n",
       "    <tr style=\"text-align: right;\">\n",
       "      <th></th>\n",
       "      <th>id</th>\n",
       "      <th>project code</th>\n",
       "      <th>pq #</th>\n",
       "      <th>po / so #</th>\n",
       "      <th>asn/dn #</th>\n",
       "      <th>country</th>\n",
       "      <th>managed by</th>\n",
       "      <th>fulfill via</th>\n",
       "      <th>vendor inco term</th>\n",
       "      <th>shipment mode</th>\n",
       "      <th>...</th>\n",
       "      <th>unit of measure (per pack)</th>\n",
       "      <th>line item quantity</th>\n",
       "      <th>line item value</th>\n",
       "      <th>pack price</th>\n",
       "      <th>unit price</th>\n",
       "      <th>manufacturing site</th>\n",
       "      <th>first line designation</th>\n",
       "      <th>weight (kilograms)</th>\n",
       "      <th>freight cost (usd)</th>\n",
       "      <th>line item insurance (usd)</th>\n",
       "    </tr>\n",
       "  </thead>\n",
       "  <tbody>\n",
       "    <tr>\n",
       "      <td>0</td>\n",
       "      <td>1</td>\n",
       "      <td>100-CI-T01</td>\n",
       "      <td>Pre-PQ Process</td>\n",
       "      <td>SCMS-4</td>\n",
       "      <td>ASN-8</td>\n",
       "      <td>Côte d'Ivoire</td>\n",
       "      <td>PMO - US</td>\n",
       "      <td>Direct Drop</td>\n",
       "      <td>EXW</td>\n",
       "      <td>Air</td>\n",
       "      <td>...</td>\n",
       "      <td>30</td>\n",
       "      <td>19</td>\n",
       "      <td>551</td>\n",
       "      <td>29</td>\n",
       "      <td>0.97</td>\n",
       "      <td>Ranbaxy Fine Chemicals LTD</td>\n",
       "      <td>True</td>\n",
       "      <td>13</td>\n",
       "      <td>780.34</td>\n",
       "      <td>NaN</td>\n",
       "    </tr>\n",
       "    <tr>\n",
       "      <td>1</td>\n",
       "      <td>3</td>\n",
       "      <td>108-VN-T01</td>\n",
       "      <td>Pre-PQ Process</td>\n",
       "      <td>SCMS-13</td>\n",
       "      <td>ASN-85</td>\n",
       "      <td>Vietnam</td>\n",
       "      <td>PMO - US</td>\n",
       "      <td>Direct Drop</td>\n",
       "      <td>EXW</td>\n",
       "      <td>Air</td>\n",
       "      <td>...</td>\n",
       "      <td>240</td>\n",
       "      <td>1,000</td>\n",
       "      <td>6,200</td>\n",
       "      <td>6.2</td>\n",
       "      <td>0.03</td>\n",
       "      <td>Aurobindo Unit III, India</td>\n",
       "      <td>True</td>\n",
       "      <td>358</td>\n",
       "      <td>4521.5</td>\n",
       "      <td>NaN</td>\n",
       "    </tr>\n",
       "    <tr>\n",
       "      <td>2</td>\n",
       "      <td>4</td>\n",
       "      <td>100-CI-T01</td>\n",
       "      <td>Pre-PQ Process</td>\n",
       "      <td>SCMS-20</td>\n",
       "      <td>ASN-14</td>\n",
       "      <td>Côte d'Ivoire</td>\n",
       "      <td>PMO - US</td>\n",
       "      <td>Direct Drop</td>\n",
       "      <td>FCA</td>\n",
       "      <td>Air</td>\n",
       "      <td>...</td>\n",
       "      <td>100</td>\n",
       "      <td>500</td>\n",
       "      <td>40,000</td>\n",
       "      <td>80</td>\n",
       "      <td>0.80</td>\n",
       "      <td>ABBVIE GmbH &amp; Co.KG Wiesbaden</td>\n",
       "      <td>True</td>\n",
       "      <td>171</td>\n",
       "      <td>1653.78</td>\n",
       "      <td>NaN</td>\n",
       "    </tr>\n",
       "  </tbody>\n",
       "</table>\n",
       "<p>3 rows × 33 columns</p>\n",
       "</div>"
      ],
      "text/plain": [
       "  id project code            pq # po / so # asn/dn #        country  \\\n",
       "0  1   100-CI-T01  Pre-PQ Process    SCMS-4    ASN-8  Côte d'Ivoire   \n",
       "1  3   108-VN-T01  Pre-PQ Process   SCMS-13   ASN-85        Vietnam   \n",
       "2  4   100-CI-T01  Pre-PQ Process   SCMS-20   ASN-14  Côte d'Ivoire   \n",
       "\n",
       "  managed by  fulfill via vendor inco term shipment mode  ...  \\\n",
       "0   PMO - US  Direct Drop              EXW           Air  ...   \n",
       "1   PMO - US  Direct Drop              EXW           Air  ...   \n",
       "2   PMO - US  Direct Drop              FCA           Air  ...   \n",
       "\n",
       "  unit of measure (per pack) line item quantity line item value pack price  \\\n",
       "0                         30                 19             551         29   \n",
       "1                        240              1,000           6,200        6.2   \n",
       "2                        100                500          40,000         80   \n",
       "\n",
       "  unit price             manufacturing site first line designation  \\\n",
       "0       0.97     Ranbaxy Fine Chemicals LTD                   True   \n",
       "1       0.03      Aurobindo Unit III, India                   True   \n",
       "2       0.80  ABBVIE GmbH & Co.KG Wiesbaden                   True   \n",
       "\n",
       "  weight (kilograms) freight cost (usd) line item insurance (usd)  \n",
       "0                 13             780.34                       NaN  \n",
       "1                358             4521.5                       NaN  \n",
       "2                171            1653.78                       NaN  \n",
       "\n",
       "[3 rows x 33 columns]"
      ]
     },
     "execution_count": 5,
     "metadata": {},
     "output_type": "execute_result"
    }
   ],
   "source": [
    "df.head(3)"
   ]
  },
  {
   "cell_type": "markdown",
   "metadata": {},
   "source": [
    "# No duplicates in data"
   ]
  },
  {
   "cell_type": "code",
   "execution_count": 53,
   "metadata": {},
   "outputs": [
    {
     "data": {
      "text/plain": [
       "0"
      ]
     },
     "execution_count": 53,
     "metadata": {},
     "output_type": "execute_result"
    }
   ],
   "source": [
    "df.duplicated().sum()"
   ]
  },
  {
   "cell_type": "code",
   "execution_count": 8,
   "metadata": {},
   "outputs": [
    {
     "data": {
      "text/plain": [
       "id                               object\n",
       "project code                     object\n",
       "pq #                             object\n",
       "po / so #                        object\n",
       "asn/dn #                         object\n",
       "country                          object\n",
       "managed by                       object\n",
       "fulfill via                      object\n",
       "vendor inco term                 object\n",
       "shipment mode                    object\n",
       "pq first sent to client date     object\n",
       "po sent to vendor date           object\n",
       "scheduled delivery date          object\n",
       "delivered to client date         object\n",
       "delivery recorded date           object\n",
       "product group                    object\n",
       "sub classification               object\n",
       "vendor                           object\n",
       "item description                 object\n",
       "molecule/test type               object\n",
       "brand                            object\n",
       "dosage                           object\n",
       "dosage form                      object\n",
       "unit of measure (per pack)       object\n",
       "line item quantity               object\n",
       "line item value                  object\n",
       "pack price                       object\n",
       "unit price                      float64\n",
       "manufacturing site               object\n",
       "first line designation             bool\n",
       "weight (kilograms)               object\n",
       "freight cost (usd)               object\n",
       "line item insurance (usd)        object\n",
       "dtype: object"
      ]
     },
     "execution_count": 8,
     "metadata": {},
     "output_type": "execute_result"
    }
   ],
   "source": [
    "df.dtypes"
   ]
  },
  {
   "cell_type": "code",
   "execution_count": 10,
   "metadata": {},
   "outputs": [
    {
     "data": {
      "text/plain": [
       "id                                 0\n",
       "project code                       0\n",
       "pq #                               0\n",
       "po / so #                          0\n",
       "asn/dn #                           0\n",
       "country                            0\n",
       "managed by                         0\n",
       "fulfill via                        0\n",
       "vendor inco term                   0\n",
       "shipment mode                    360\n",
       "pq first sent to client date       0\n",
       "po sent to vendor date             0\n",
       "scheduled delivery date            0\n",
       "delivered to client date           0\n",
       "delivery recorded date             0\n",
       "product group                      0\n",
       "sub classification                 0\n",
       "vendor                             0\n",
       "item description                   0\n",
       "molecule/test type                 0\n",
       "brand                              0\n",
       "dosage                          1736\n",
       "dosage form                        0\n",
       "unit of measure (per pack)         0\n",
       "line item quantity                 0\n",
       "line item value                    0\n",
       "pack price                         0\n",
       "unit price                         0\n",
       "manufacturing site                 0\n",
       "first line designation             0\n",
       "weight (kilograms)                 0\n",
       "freight cost (usd)                 0\n",
       "line item insurance (usd)        287\n",
       "dtype: int64"
      ]
     },
     "execution_count": 10,
     "metadata": {},
     "output_type": "execute_result"
    }
   ],
   "source": [
    "df.isnull().sum()    "
   ]
  },
  {
   "cell_type": "markdown",
   "metadata": {},
   "source": [
    "# Removing comma from id column "
   ]
  },
  {
   "cell_type": "code",
   "execution_count": 18,
   "metadata": {},
   "outputs": [],
   "source": [
    "df['id'] = df['id'].str.replace(',', '')"
   ]
  },
  {
   "cell_type": "code",
   "execution_count": 19,
   "metadata": {
    "scrolled": true
   },
   "outputs": [
    {
     "data": {
      "text/plain": [
       "0            1\n",
       "1            3\n",
       "2            4\n",
       "3           15\n",
       "4           16\n",
       "         ...  \n",
       "10319    86818\n",
       "10320    86819\n",
       "10321    86821\n",
       "10322    86822\n",
       "10323    86823\n",
       "Name: id, Length: 10324, dtype: object"
      ]
     },
     "execution_count": 19,
     "metadata": {},
     "output_type": "execute_result"
    }
   ],
   "source": [
    "df['id']"
   ]
  },
  {
   "cell_type": "code",
   "execution_count": 22,
   "metadata": {},
   "outputs": [],
   "source": [
    "df['id'] = df['id'].astype(int)"
   ]
  },
  {
   "cell_type": "code",
   "execution_count": 23,
   "metadata": {
    "scrolled": true
   },
   "outputs": [
    {
     "data": {
      "text/plain": [
       "id                                int32\n",
       "project code                     object\n",
       "pq #                             object\n",
       "po / so #                        object\n",
       "asn/dn #                         object\n",
       "country                          object\n",
       "managed by                       object\n",
       "fulfill via                      object\n",
       "vendor inco term                 object\n",
       "shipment mode                    object\n",
       "pq first sent to client date     object\n",
       "po sent to vendor date           object\n",
       "scheduled delivery date          object\n",
       "delivered to client date         object\n",
       "delivery recorded date           object\n",
       "product group                    object\n",
       "sub classification               object\n",
       "vendor                           object\n",
       "item description                 object\n",
       "molecule/test type               object\n",
       "brand                            object\n",
       "dosage                           object\n",
       "dosage form                      object\n",
       "unit of measure (per pack)       object\n",
       "line item quantity               object\n",
       "line item value                  object\n",
       "pack price                       object\n",
       "unit price                      float64\n",
       "manufacturing site               object\n",
       "first line designation             bool\n",
       "weight (kilograms)               object\n",
       "freight cost (usd)               object\n",
       "line item insurance (usd)        object\n",
       "dtype: object"
      ]
     },
     "execution_count": 23,
     "metadata": {},
     "output_type": "execute_result"
    }
   ],
   "source": [
    "df.dtypes"
   ]
  },
  {
   "cell_type": "markdown",
   "metadata": {},
   "source": [
    "# Dealing with second column"
   ]
  },
  {
   "cell_type": "code",
   "execution_count": 24,
   "metadata": {},
   "outputs": [
    {
     "data": {
      "text/plain": [
       "142"
      ]
     },
     "execution_count": 24,
     "metadata": {},
     "output_type": "execute_result"
    }
   ],
   "source": [
    "df['project code'].nunique()"
   ]
  },
  {
   "cell_type": "code",
   "execution_count": 25,
   "metadata": {},
   "outputs": [
    {
     "data": {
      "text/plain": [
       "array(['100-CI-T01', '108-VN-T01', '112-NG-T01', '110-ZM-T01',\n",
       "       '109-TZ-T01', '102-NG-T01', '107-RW-T01', '106-HT-T01',\n",
       "       '113-ZW-T01', '108-VN-T30', '104-CI-T01', '100-HT-T01',\n",
       "       '117-ET-T01', '116-ZA-T01', '123-NG-T01', '125-HT-T01',\n",
       "       '102-GY-T01', '119-NA-T01', '131-NG-T01', '102-BW-T01',\n",
       "       '111-MZ-T01', '144-BW-T01', '102-KE-T01', '133-NG-T01',\n",
       "       '100-KZ-T01', '141-NA-T01', '114-UG-T01', '105-GY-T01',\n",
       "       '139-NA-T01', '129-KG-T01', '100-SN-T01', '128-BJ-T01',\n",
       "       '102-LS-T01', '130-NG-T01', '100-BW-T01', '100-ZW-T01',\n",
       "       '100-PK-T01', '126-NG-T01', '151-NG-T01', '100-SZ-T01',\n",
       "       '100-GH-T01', '120-AO-T01', '132-NG-T01', '153-NG-T01',\n",
       "       '100-LB-T01', '151-NG-T30', '127-KE-T01', '510-KE-T01',\n",
       "       '100-SL-T01', '136-RW-T01', '102-KE-T30', '110-ZM-T30',\n",
       "       '106-HT-T30', '105-SS-T30', '111-MZ-T30', '102-BI-T30',\n",
       "       '122-HT-T30', '161-ZA-T30', '116-ZA-T30', '133-NG-T30',\n",
       "       '103-DO-T30', '104-CI-T30', '107-RW-T30', '103-MW-T30',\n",
       "       '101-CD-T30', '102-SD-T30', '102-SZ-T30', '114-UG-T30',\n",
       "       '105-DO-T30', '113-ZW-T30', '103-CM-T30', '109-TZ-T30',\n",
       "       '800-CM-T30', '100-BJ-T30', '117-ET-T30', '900-TZ-T30',\n",
       "       '112-NG-T30', '110-PK-T30', '102-SS-T30', '105-GY-T30',\n",
       "       '102-ML-T30', 'A01-CM-T50', '901-CM-T30', '123-NG-T30',\n",
       "       '103-KE-T30', '152-HT-T30', '901-NA-T30', '103-ZW-T30',\n",
       "       '105-GH-T30', '202-GT-T30', '102-BW-T30', '102-GY-T30',\n",
       "       '102-CD-T30', '119-NA-T30', '200-ZW-T30', '101-KE-T30',\n",
       "       '900-SS-T30', '127-KE-T30', '103-SS-T30', '153-NA-T30',\n",
       "       '102-MW-T30', '102-ZW-T30', '100-ZW-T30', '144-BW-T30',\n",
       "       '100-DO-T30', '900-TG-T30', '901-GH-T30', '103-AO-T30',\n",
       "       '100-ZM-T30', '101-AF-T30', '200-DO-T30', '900-CM-T30',\n",
       "       '900-LR-T30', '103-UG-T30', '103-ML-T30', '900-UG-T30',\n",
       "       'A01-BF-T50', '101-ZA-T30', '800-LS-T30', '200-UG-T30',\n",
       "       'A02-SL-T50', '900-SZ-T30', 'A02-SN-T50', '901-LR-T30',\n",
       "       '102-AO-T30', '104-BW-T30', 'A01-ZM-T50', '203-SZ-T30',\n",
       "       '100-GN-T30', '201-UG-T30', '154-NG-T30', '901-SZ-T30',\n",
       "       '102-UG-T30', '100-GH-T30', '102-LY-T30', '102-DO-T30',\n",
       "       '103-CD-T30', '900-GH-T30', 'A01-SN-T50', '100-BZ-T30',\n",
       "       '900-GY-T30', '104-SZ-T30'], dtype=object)"
      ]
     },
     "execution_count": 25,
     "metadata": {},
     "output_type": "execute_result"
    }
   ],
   "source": [
    "df['project code'].unique()"
   ]
  },
  {
   "cell_type": "markdown",
   "metadata": {},
   "source": [
    "# Frequency based on project code"
   ]
  },
  {
   "cell_type": "code",
   "execution_count": 28,
   "metadata": {},
   "outputs": [],
   "source": [
    "a =[]\n",
    "for i in df['project code'].unique() :\n",
    "    \n",
    "    count =0 \n",
    "    for j in df['project code']:\n",
    "        if j==i:\n",
    "            count = count +1\n",
    "    a.append([i,count])"
   ]
  },
  {
   "cell_type": "code",
   "execution_count": 29,
   "metadata": {},
   "outputs": [
    {
     "data": {
      "text/plain": [
       "[['100-CI-T01', 40],\n",
       " ['108-VN-T01', 166],\n",
       " ['112-NG-T01', 139],\n",
       " ['110-ZM-T01', 260],\n",
       " ['109-TZ-T01', 135],\n",
       " ['102-NG-T01', 42],\n",
       " ['107-RW-T01', 90],\n",
       " ['106-HT-T01', 171],\n",
       " ['113-ZW-T01', 65],\n",
       " ['108-VN-T30', 522],\n",
       " ['104-CI-T01', 314],\n",
       " ['100-HT-T01', 15],\n",
       " ['117-ET-T01', 118],\n",
       " ['116-ZA-T01', 319],\n",
       " ['123-NG-T01', 52],\n",
       " ['125-HT-T01', 9],\n",
       " ['102-GY-T01', 41],\n",
       " ['119-NA-T01', 45],\n",
       " ['131-NG-T01', 18],\n",
       " ['102-BW-T01', 30],\n",
       " ['111-MZ-T01', 200],\n",
       " ['144-BW-T01', 4],\n",
       " ['102-KE-T01', 32],\n",
       " ['133-NG-T01', 13],\n",
       " ['100-KZ-T01', 2],\n",
       " ['141-NA-T01', 4],\n",
       " ['114-UG-T01', 134],\n",
       " ['105-GY-T01', 17],\n",
       " ['139-NA-T01', 5],\n",
       " ['129-KG-T01', 2],\n",
       " ['100-SN-T01', 1],\n",
       " ['128-BJ-T01', 3],\n",
       " ['102-LS-T01', 2],\n",
       " ['130-NG-T01', 17],\n",
       " ['100-BW-T01', 4],\n",
       " ['100-ZW-T01', 44],\n",
       " ['100-PK-T01', 10],\n",
       " ['126-NG-T01', 8],\n",
       " ['151-NG-T01', 65],\n",
       " ['100-SZ-T01', 5],\n",
       " ['100-GH-T01', 10],\n",
       " ['120-AO-T01', 2],\n",
       " ['132-NG-T01', 7],\n",
       " ['153-NG-T01', 3],\n",
       " ['100-LB-T01', 8],\n",
       " ['151-NG-T30', 628],\n",
       " ['127-KE-T01', 3],\n",
       " ['510-KE-T01', 3],\n",
       " ['100-SL-T01', 1],\n",
       " ['136-RW-T01', 1],\n",
       " ['102-KE-T30', 47],\n",
       " ['110-ZM-T30', 406],\n",
       " ['106-HT-T30', 450],\n",
       " ['105-SS-T30', 91],\n",
       " ['111-MZ-T30', 431],\n",
       " ['102-BI-T30', 98],\n",
       " ['122-HT-T30', 7],\n",
       " ['161-ZA-T30', 315],\n",
       " ['116-ZA-T30', 768],\n",
       " ['133-NG-T30', 145],\n",
       " ['103-DO-T30', 9],\n",
       " ['104-CI-T30', 729],\n",
       " ['107-RW-T30', 340],\n",
       " ['103-MW-T30', 4],\n",
       " ['101-CD-T30', 308],\n",
       " ['102-SD-T30', 46],\n",
       " ['102-SZ-T30', 12],\n",
       " ['114-UG-T30', 596],\n",
       " ['105-DO-T30', 15],\n",
       " ['113-ZW-T30', 263],\n",
       " ['103-CM-T30', 20],\n",
       " ['109-TZ-T30', 369],\n",
       " ['800-CM-T30', 5],\n",
       " ['100-BJ-T30', 10],\n",
       " ['117-ET-T30', 98],\n",
       " ['900-TZ-T30', 15],\n",
       " ['112-NG-T30', 13],\n",
       " ['110-PK-T30', 5],\n",
       " ['102-SS-T30', 6],\n",
       " ['105-GY-T30', 159],\n",
       " ['102-ML-T30', 12],\n",
       " ['A01-CM-T50', 2],\n",
       " ['901-CM-T30', 36],\n",
       " ['123-NG-T30', 17],\n",
       " ['103-KE-T30', 8],\n",
       " ['152-HT-T30', 3],\n",
       " ['901-NA-T30', 18],\n",
       " ['103-ZW-T30', 101],\n",
       " ['105-GH-T30', 32],\n",
       " ['202-GT-T30', 15],\n",
       " ['102-BW-T30', 11],\n",
       " ['102-GY-T30', 19],\n",
       " ['102-CD-T30', 24],\n",
       " ['119-NA-T30', 16],\n",
       " ['200-ZW-T30', 28],\n",
       " ['101-KE-T30', 8],\n",
       " ['900-SS-T30', 30],\n",
       " ['127-KE-T30', 10],\n",
       " ['103-SS-T30', 37],\n",
       " ['153-NA-T30', 7],\n",
       " ['102-MW-T30', 10],\n",
       " ['102-ZW-T30', 26],\n",
       " ['100-ZW-T30', 11],\n",
       " ['144-BW-T30', 18],\n",
       " ['100-DO-T30', 8],\n",
       " ['900-TG-T30', 3],\n",
       " ['901-GH-T30', 6],\n",
       " ['103-AO-T30', 3],\n",
       " ['100-ZM-T30', 15],\n",
       " ['101-AF-T30', 3],\n",
       " ['200-DO-T30', 10],\n",
       " ['900-CM-T30', 11],\n",
       " ['900-LR-T30', 3],\n",
       " ['103-UG-T30', 1],\n",
       " ['103-ML-T30', 5],\n",
       " ['900-UG-T30', 23],\n",
       " ['A01-BF-T50', 2],\n",
       " ['101-ZA-T30', 4],\n",
       " ['800-LS-T30', 2],\n",
       " ['200-UG-T30', 3],\n",
       " ['A02-SL-T50', 3],\n",
       " ['900-SZ-T30', 10],\n",
       " ['A02-SN-T50', 1],\n",
       " ['901-LR-T30', 3],\n",
       " ['102-AO-T30', 2],\n",
       " ['104-BW-T30', 3],\n",
       " ['A01-ZM-T50', 2],\n",
       " ['203-SZ-T30', 2],\n",
       " ['100-GN-T30', 1],\n",
       " ['201-UG-T30', 1],\n",
       " ['154-NG-T30', 27],\n",
       " ['901-SZ-T30', 5],\n",
       " ['102-UG-T30', 21],\n",
       " ['100-GH-T30', 6],\n",
       " ['102-LY-T30', 8],\n",
       " ['102-DO-T30', 10],\n",
       " ['103-CD-T30', 1],\n",
       " ['900-GH-T30', 4],\n",
       " ['A01-SN-T50', 1],\n",
       " ['100-BZ-T30', 1],\n",
       " ['900-GY-T30', 1],\n",
       " ['104-SZ-T30', 1]]"
      ]
     },
     "execution_count": 29,
     "metadata": {},
     "output_type": "execute_result"
    }
   ],
   "source": [
    "a"
   ]
  },
  {
   "cell_type": "markdown",
   "metadata": {},
   "source": [
    "## sorting based on frequency"
   ]
  },
  {
   "cell_type": "code",
   "execution_count": 40,
   "metadata": {},
   "outputs": [
    {
     "data": {
      "text/plain": [
       "[['116-ZA-T30', 768],\n",
       " ['104-CI-T30', 729],\n",
       " ['151-NG-T30', 628],\n",
       " ['114-UG-T30', 596],\n",
       " ['108-VN-T30', 522],\n",
       " ['106-HT-T30', 450],\n",
       " ['111-MZ-T30', 431],\n",
       " ['110-ZM-T30', 406],\n",
       " ['109-TZ-T30', 369],\n",
       " ['107-RW-T30', 340],\n",
       " ['116-ZA-T01', 319],\n",
       " ['161-ZA-T30', 315],\n",
       " ['104-CI-T01', 314],\n",
       " ['101-CD-T30', 308],\n",
       " ['113-ZW-T30', 263],\n",
       " ['110-ZM-T01', 260],\n",
       " ['111-MZ-T01', 200],\n",
       " ['106-HT-T01', 171],\n",
       " ['108-VN-T01', 166],\n",
       " ['105-GY-T30', 159],\n",
       " ['133-NG-T30', 145],\n",
       " ['112-NG-T01', 139],\n",
       " ['109-TZ-T01', 135],\n",
       " ['114-UG-T01', 134],\n",
       " ['117-ET-T01', 118],\n",
       " ['103-ZW-T30', 101],\n",
       " ['102-BI-T30', 98],\n",
       " ['117-ET-T30', 98],\n",
       " ['105-SS-T30', 91],\n",
       " ['107-RW-T01', 90],\n",
       " ['113-ZW-T01', 65],\n",
       " ['151-NG-T01', 65],\n",
       " ['123-NG-T01', 52],\n",
       " ['102-KE-T30', 47],\n",
       " ['102-SD-T30', 46],\n",
       " ['119-NA-T01', 45],\n",
       " ['100-ZW-T01', 44],\n",
       " ['102-NG-T01', 42],\n",
       " ['102-GY-T01', 41],\n",
       " ['100-CI-T01', 40],\n",
       " ['103-SS-T30', 37],\n",
       " ['901-CM-T30', 36],\n",
       " ['102-KE-T01', 32],\n",
       " ['105-GH-T30', 32],\n",
       " ['102-BW-T01', 30],\n",
       " ['900-SS-T30', 30],\n",
       " ['200-ZW-T30', 28],\n",
       " ['154-NG-T30', 27],\n",
       " ['102-ZW-T30', 26],\n",
       " ['102-CD-T30', 24],\n",
       " ['900-UG-T30', 23],\n",
       " ['102-UG-T30', 21],\n",
       " ['103-CM-T30', 20],\n",
       " ['102-GY-T30', 19],\n",
       " ['131-NG-T01', 18],\n",
       " ['144-BW-T30', 18],\n",
       " ['901-NA-T30', 18],\n",
       " ['105-GY-T01', 17],\n",
       " ['123-NG-T30', 17],\n",
       " ['130-NG-T01', 17],\n",
       " ['119-NA-T30', 16],\n",
       " ['100-HT-T01', 15],\n",
       " ['100-ZM-T30', 15],\n",
       " ['105-DO-T30', 15],\n",
       " ['202-GT-T30', 15],\n",
       " ['900-TZ-T30', 15],\n",
       " ['112-NG-T30', 13],\n",
       " ['133-NG-T01', 13],\n",
       " ['102-ML-T30', 12],\n",
       " ['102-SZ-T30', 12],\n",
       " ['100-ZW-T30', 11],\n",
       " ['102-BW-T30', 11],\n",
       " ['900-CM-T30', 11],\n",
       " ['100-BJ-T30', 10],\n",
       " ['100-GH-T01', 10],\n",
       " ['100-PK-T01', 10],\n",
       " ['102-DO-T30', 10],\n",
       " ['102-MW-T30', 10],\n",
       " ['127-KE-T30', 10],\n",
       " ['200-DO-T30', 10],\n",
       " ['900-SZ-T30', 10],\n",
       " ['103-DO-T30', 9],\n",
       " ['125-HT-T01', 9],\n",
       " ['100-DO-T30', 8],\n",
       " ['100-LB-T01', 8],\n",
       " ['101-KE-T30', 8],\n",
       " ['102-LY-T30', 8],\n",
       " ['103-KE-T30', 8],\n",
       " ['126-NG-T01', 8],\n",
       " ['122-HT-T30', 7],\n",
       " ['132-NG-T01', 7],\n",
       " ['153-NA-T30', 7],\n",
       " ['100-GH-T30', 6],\n",
       " ['102-SS-T30', 6],\n",
       " ['901-GH-T30', 6],\n",
       " ['100-SZ-T01', 5],\n",
       " ['103-ML-T30', 5],\n",
       " ['110-PK-T30', 5],\n",
       " ['139-NA-T01', 5],\n",
       " ['800-CM-T30', 5],\n",
       " ['901-SZ-T30', 5],\n",
       " ['100-BW-T01', 4],\n",
       " ['101-ZA-T30', 4],\n",
       " ['103-MW-T30', 4],\n",
       " ['141-NA-T01', 4],\n",
       " ['144-BW-T01', 4],\n",
       " ['900-GH-T30', 4],\n",
       " ['101-AF-T30', 3],\n",
       " ['103-AO-T30', 3],\n",
       " ['104-BW-T30', 3],\n",
       " ['127-KE-T01', 3],\n",
       " ['128-BJ-T01', 3],\n",
       " ['152-HT-T30', 3],\n",
       " ['153-NG-T01', 3],\n",
       " ['200-UG-T30', 3],\n",
       " ['510-KE-T01', 3],\n",
       " ['900-LR-T30', 3],\n",
       " ['900-TG-T30', 3],\n",
       " ['901-LR-T30', 3],\n",
       " ['A02-SL-T50', 3],\n",
       " ['100-KZ-T01', 2],\n",
       " ['102-AO-T30', 2],\n",
       " ['102-LS-T01', 2],\n",
       " ['120-AO-T01', 2],\n",
       " ['129-KG-T01', 2],\n",
       " ['203-SZ-T30', 2],\n",
       " ['800-LS-T30', 2],\n",
       " ['A01-BF-T50', 2],\n",
       " ['A01-CM-T50', 2],\n",
       " ['A01-ZM-T50', 2],\n",
       " ['100-BZ-T30', 1],\n",
       " ['100-GN-T30', 1],\n",
       " ['100-SL-T01', 1],\n",
       " ['100-SN-T01', 1],\n",
       " ['103-CD-T30', 1],\n",
       " ['103-UG-T30', 1],\n",
       " ['104-SZ-T30', 1],\n",
       " ['136-RW-T01', 1],\n",
       " ['201-UG-T30', 1],\n",
       " ['900-GY-T30', 1],\n",
       " ['A01-SN-T50', 1],\n",
       " ['A02-SN-T50', 1]]"
      ]
     },
     "execution_count": 40,
     "metadata": {},
     "output_type": "execute_result"
    }
   ],
   "source": [
    "sorted(a, key = lambda x:x[1],reverse = True)"
   ]
  },
  {
   "cell_type": "markdown",
   "metadata": {},
   "source": [
    "# Column 3- price quotation no."
   ]
  },
  {
   "cell_type": "code",
   "execution_count": 41,
   "metadata": {},
   "outputs": [
    {
     "data": {
      "text/html": [
       "<div>\n",
       "<style scoped>\n",
       "    .dataframe tbody tr th:only-of-type {\n",
       "        vertical-align: middle;\n",
       "    }\n",
       "\n",
       "    .dataframe tbody tr th {\n",
       "        vertical-align: top;\n",
       "    }\n",
       "\n",
       "    .dataframe thead th {\n",
       "        text-align: right;\n",
       "    }\n",
       "</style>\n",
       "<table border=\"1\" class=\"dataframe\">\n",
       "  <thead>\n",
       "    <tr style=\"text-align: right;\">\n",
       "      <th></th>\n",
       "      <th>id</th>\n",
       "      <th>project code</th>\n",
       "      <th>pq #</th>\n",
       "      <th>po / so #</th>\n",
       "      <th>asn/dn #</th>\n",
       "      <th>country</th>\n",
       "      <th>managed by</th>\n",
       "      <th>fulfill via</th>\n",
       "      <th>vendor inco term</th>\n",
       "      <th>shipment mode</th>\n",
       "      <th>...</th>\n",
       "      <th>unit of measure (per pack)</th>\n",
       "      <th>line item quantity</th>\n",
       "      <th>line item value</th>\n",
       "      <th>pack price</th>\n",
       "      <th>unit price</th>\n",
       "      <th>manufacturing site</th>\n",
       "      <th>first line designation</th>\n",
       "      <th>weight (kilograms)</th>\n",
       "      <th>freight cost (usd)</th>\n",
       "      <th>line item insurance (usd)</th>\n",
       "    </tr>\n",
       "  </thead>\n",
       "  <tbody>\n",
       "    <tr>\n",
       "      <td>0</td>\n",
       "      <td>1</td>\n",
       "      <td>100-CI-T01</td>\n",
       "      <td>Pre-PQ Process</td>\n",
       "      <td>SCMS-4</td>\n",
       "      <td>ASN-8</td>\n",
       "      <td>Côte d'Ivoire</td>\n",
       "      <td>PMO - US</td>\n",
       "      <td>Direct Drop</td>\n",
       "      <td>EXW</td>\n",
       "      <td>Air</td>\n",
       "      <td>...</td>\n",
       "      <td>30</td>\n",
       "      <td>19</td>\n",
       "      <td>551</td>\n",
       "      <td>29</td>\n",
       "      <td>0.97</td>\n",
       "      <td>Ranbaxy Fine Chemicals LTD</td>\n",
       "      <td>True</td>\n",
       "      <td>13</td>\n",
       "      <td>780.34</td>\n",
       "      <td>NaN</td>\n",
       "    </tr>\n",
       "    <tr>\n",
       "      <td>1</td>\n",
       "      <td>3</td>\n",
       "      <td>108-VN-T01</td>\n",
       "      <td>Pre-PQ Process</td>\n",
       "      <td>SCMS-13</td>\n",
       "      <td>ASN-85</td>\n",
       "      <td>Vietnam</td>\n",
       "      <td>PMO - US</td>\n",
       "      <td>Direct Drop</td>\n",
       "      <td>EXW</td>\n",
       "      <td>Air</td>\n",
       "      <td>...</td>\n",
       "      <td>240</td>\n",
       "      <td>1,000</td>\n",
       "      <td>6,200</td>\n",
       "      <td>6.2</td>\n",
       "      <td>0.03</td>\n",
       "      <td>Aurobindo Unit III, India</td>\n",
       "      <td>True</td>\n",
       "      <td>358</td>\n",
       "      <td>4521.5</td>\n",
       "      <td>NaN</td>\n",
       "    </tr>\n",
       "  </tbody>\n",
       "</table>\n",
       "<p>2 rows × 33 columns</p>\n",
       "</div>"
      ],
      "text/plain": [
       "   id project code            pq # po / so # asn/dn #        country  \\\n",
       "0   1   100-CI-T01  Pre-PQ Process    SCMS-4    ASN-8  Côte d'Ivoire   \n",
       "1   3   108-VN-T01  Pre-PQ Process   SCMS-13   ASN-85        Vietnam   \n",
       "\n",
       "  managed by  fulfill via vendor inco term shipment mode  ...  \\\n",
       "0   PMO - US  Direct Drop              EXW           Air  ...   \n",
       "1   PMO - US  Direct Drop              EXW           Air  ...   \n",
       "\n",
       "  unit of measure (per pack) line item quantity line item value pack price  \\\n",
       "0                         30                 19             551         29   \n",
       "1                        240              1,000           6,200        6.2   \n",
       "\n",
       "  unit price          manufacturing site first line designation  \\\n",
       "0       0.97  Ranbaxy Fine Chemicals LTD                   True   \n",
       "1       0.03   Aurobindo Unit III, India                   True   \n",
       "\n",
       "  weight (kilograms) freight cost (usd) line item insurance (usd)  \n",
       "0                 13             780.34                       NaN  \n",
       "1                358             4521.5                       NaN  \n",
       "\n",
       "[2 rows x 33 columns]"
      ]
     },
     "execution_count": 41,
     "metadata": {},
     "output_type": "execute_result"
    }
   ],
   "source": [
    "df.head(2)"
   ]
  },
  {
   "cell_type": "code",
   "execution_count": 44,
   "metadata": {},
   "outputs": [
    {
     "data": {
      "text/plain": [
       "1237"
      ]
     },
     "execution_count": 44,
     "metadata": {},
     "output_type": "execute_result"
    }
   ],
   "source": [
    "df['pq #'].nunique()"
   ]
  },
  {
   "cell_type": "code",
   "execution_count": 45,
   "metadata": {},
   "outputs": [
    {
     "data": {
      "text/plain": [
       "2681"
      ]
     },
     "execution_count": 45,
     "metadata": {},
     "output_type": "execute_result"
    }
   ],
   "source": [
    "(df['pq #'] == 'Pre-PQ Process').sum()"
   ]
  },
  {
   "cell_type": "code",
   "execution_count": 46,
   "metadata": {},
   "outputs": [
    {
     "data": {
      "text/plain": [
       "0"
      ]
     },
     "execution_count": 46,
     "metadata": {},
     "output_type": "execute_result"
    }
   ],
   "source": [
    "df['pq #'].isnull().sum()"
   ]
  },
  {
   "cell_type": "markdown",
   "metadata": {},
   "source": [
    "### Column 4 - Order number: Purchase order (PO) for Direct Drop deliveries, or Sales Order (SO) for from Regional Delivery Center (RDC) deliveries"
   ]
  },
  {
   "cell_type": "markdown",
   "metadata": {},
   "source": [
    "## multiple Purchases to a party at same time has same po no. "
   ]
  },
  {
   "cell_type": "code",
   "execution_count": 47,
   "metadata": {},
   "outputs": [
    {
     "data": {
      "text/plain": [
       "Index(['id', 'project code', 'pq #', 'po / so #', 'asn/dn #', 'country',\n",
       "       'managed by', 'fulfill via', 'vendor inco term', 'shipment mode',\n",
       "       'pq first sent to client date', 'po sent to vendor date',\n",
       "       'scheduled delivery date', 'delivered to client date',\n",
       "       'delivery recorded date', 'product group', 'sub classification',\n",
       "       'vendor', 'item description', 'molecule/test type', 'brand', 'dosage',\n",
       "       'dosage form', 'unit of measure (per pack)', 'line item quantity',\n",
       "       'line item value', 'pack price', 'unit price', 'manufacturing site',\n",
       "       'first line designation', 'weight (kilograms)', 'freight cost (usd)',\n",
       "       'line item insurance (usd)'],\n",
       "      dtype='object')"
      ]
     },
     "execution_count": 47,
     "metadata": {},
     "output_type": "execute_result"
    }
   ],
   "source": [
    "df.columns"
   ]
  },
  {
   "cell_type": "code",
   "execution_count": 48,
   "metadata": {},
   "outputs": [
    {
     "data": {
      "text/plain": [
       "6233"
      ]
     },
     "execution_count": 48,
     "metadata": {},
     "output_type": "execute_result"
    }
   ],
   "source": [
    "df['po / so #'].nunique()"
   ]
  },
  {
   "cell_type": "code",
   "execution_count": 49,
   "metadata": {},
   "outputs": [
    {
     "data": {
      "text/plain": [
       "0"
      ]
     },
     "execution_count": 49,
     "metadata": {},
     "output_type": "execute_result"
    }
   ],
   "source": [
    "df['po / so #'].isnull().sum()"
   ]
  },
  {
   "cell_type": "markdown",
   "metadata": {},
   "source": [
    "# Column 5 -  asn/dn no. "
   ]
  },
  {
   "cell_type": "markdown",
   "metadata": {},
   "source": [
    "### Shipment number: Advanced Shipment Note (ASN) for Direct Drop deliveries, or Delivery Note (DN) for from RDC deliveries"
   ]
  },
  {
   "cell_type": "markdown",
   "metadata": {},
   "source": [
    "##  Note : 2 orders with same ASN no. will delivered to customer at same time"
   ]
  },
  {
   "cell_type": "markdown",
   "metadata": {},
   "source": [
    "## Suppose 3 orders have same po no. , but two have same ASN no. and third as different ASN No. , then --> All three orderes were given to same manufacturer at same date, but manufacture deliver two orders with same ASN No. to the client on same date , and one order with different ASN No. on different date"
   ]
  },
  {
   "cell_type": "code",
   "execution_count": 54,
   "metadata": {},
   "outputs": [
    {
     "data": {
      "text/html": [
       "<div>\n",
       "<style scoped>\n",
       "    .dataframe tbody tr th:only-of-type {\n",
       "        vertical-align: middle;\n",
       "    }\n",
       "\n",
       "    .dataframe tbody tr th {\n",
       "        vertical-align: top;\n",
       "    }\n",
       "\n",
       "    .dataframe thead th {\n",
       "        text-align: right;\n",
       "    }\n",
       "</style>\n",
       "<table border=\"1\" class=\"dataframe\">\n",
       "  <thead>\n",
       "    <tr style=\"text-align: right;\">\n",
       "      <th></th>\n",
       "      <th>id</th>\n",
       "      <th>project code</th>\n",
       "      <th>pq #</th>\n",
       "      <th>po / so #</th>\n",
       "      <th>asn/dn #</th>\n",
       "      <th>country</th>\n",
       "      <th>managed by</th>\n",
       "      <th>fulfill via</th>\n",
       "      <th>vendor inco term</th>\n",
       "      <th>shipment mode</th>\n",
       "      <th>...</th>\n",
       "      <th>unit of measure (per pack)</th>\n",
       "      <th>line item quantity</th>\n",
       "      <th>line item value</th>\n",
       "      <th>pack price</th>\n",
       "      <th>unit price</th>\n",
       "      <th>manufacturing site</th>\n",
       "      <th>first line designation</th>\n",
       "      <th>weight (kilograms)</th>\n",
       "      <th>freight cost (usd)</th>\n",
       "      <th>line item insurance (usd)</th>\n",
       "    </tr>\n",
       "  </thead>\n",
       "  <tbody>\n",
       "    <tr>\n",
       "      <td>0</td>\n",
       "      <td>1</td>\n",
       "      <td>100-CI-T01</td>\n",
       "      <td>Pre-PQ Process</td>\n",
       "      <td>SCMS-4</td>\n",
       "      <td>ASN-8</td>\n",
       "      <td>Côte d'Ivoire</td>\n",
       "      <td>PMO - US</td>\n",
       "      <td>Direct Drop</td>\n",
       "      <td>EXW</td>\n",
       "      <td>Air</td>\n",
       "      <td>...</td>\n",
       "      <td>30</td>\n",
       "      <td>19</td>\n",
       "      <td>551</td>\n",
       "      <td>29</td>\n",
       "      <td>0.97</td>\n",
       "      <td>Ranbaxy Fine Chemicals LTD</td>\n",
       "      <td>True</td>\n",
       "      <td>13</td>\n",
       "      <td>780.34</td>\n",
       "      <td>NaN</td>\n",
       "    </tr>\n",
       "    <tr>\n",
       "      <td>1</td>\n",
       "      <td>3</td>\n",
       "      <td>108-VN-T01</td>\n",
       "      <td>Pre-PQ Process</td>\n",
       "      <td>SCMS-13</td>\n",
       "      <td>ASN-85</td>\n",
       "      <td>Vietnam</td>\n",
       "      <td>PMO - US</td>\n",
       "      <td>Direct Drop</td>\n",
       "      <td>EXW</td>\n",
       "      <td>Air</td>\n",
       "      <td>...</td>\n",
       "      <td>240</td>\n",
       "      <td>1,000</td>\n",
       "      <td>6,200</td>\n",
       "      <td>6.2</td>\n",
       "      <td>0.03</td>\n",
       "      <td>Aurobindo Unit III, India</td>\n",
       "      <td>True</td>\n",
       "      <td>358</td>\n",
       "      <td>4521.5</td>\n",
       "      <td>NaN</td>\n",
       "    </tr>\n",
       "  </tbody>\n",
       "</table>\n",
       "<p>2 rows × 33 columns</p>\n",
       "</div>"
      ],
      "text/plain": [
       "   id project code            pq # po / so # asn/dn #        country  \\\n",
       "0   1   100-CI-T01  Pre-PQ Process    SCMS-4    ASN-8  Côte d'Ivoire   \n",
       "1   3   108-VN-T01  Pre-PQ Process   SCMS-13   ASN-85        Vietnam   \n",
       "\n",
       "  managed by  fulfill via vendor inco term shipment mode  ...  \\\n",
       "0   PMO - US  Direct Drop              EXW           Air  ...   \n",
       "1   PMO - US  Direct Drop              EXW           Air  ...   \n",
       "\n",
       "  unit of measure (per pack) line item quantity line item value pack price  \\\n",
       "0                         30                 19             551         29   \n",
       "1                        240              1,000           6,200        6.2   \n",
       "\n",
       "  unit price          manufacturing site first line designation  \\\n",
       "0       0.97  Ranbaxy Fine Chemicals LTD                   True   \n",
       "1       0.03   Aurobindo Unit III, India                   True   \n",
       "\n",
       "  weight (kilograms) freight cost (usd) line item insurance (usd)  \n",
       "0                 13             780.34                       NaN  \n",
       "1                358             4521.5                       NaN  \n",
       "\n",
       "[2 rows x 33 columns]"
      ]
     },
     "execution_count": 54,
     "metadata": {},
     "output_type": "execute_result"
    }
   ],
   "source": [
    "df.head(2)"
   ]
  },
  {
   "cell_type": "code",
   "execution_count": 55,
   "metadata": {},
   "outputs": [
    {
     "data": {
      "text/plain": [
       "7030"
      ]
     },
     "execution_count": 55,
     "metadata": {},
     "output_type": "execute_result"
    }
   ],
   "source": [
    "df['asn/dn #'].nunique()"
   ]
  },
  {
   "cell_type": "code",
   "execution_count": 56,
   "metadata": {},
   "outputs": [
    {
     "data": {
      "text/plain": [
       "0"
      ]
     },
     "execution_count": 56,
     "metadata": {},
     "output_type": "execute_result"
    }
   ],
   "source": [
    "df['asn/dn #'].isnull().sum()"
   ]
  },
  {
   "cell_type": "code",
   "execution_count": 57,
   "metadata": {},
   "outputs": [
    {
     "data": {
      "text/plain": [
       "3294"
      ]
     },
     "execution_count": 57,
     "metadata": {},
     "output_type": "execute_result"
    }
   ],
   "source": [
    "df['asn/dn #'].duplicated().sum()"
   ]
  },
  {
   "cell_type": "code",
   "execution_count": 59,
   "metadata": {},
   "outputs": [
    {
     "data": {
      "text/plain": [
       "49       ASN-1665\n",
       "58       ASN-2293\n",
       "79       ASN-3553\n",
       "80       ASN-3553\n",
       "82       ASN-3553\n",
       "           ...   \n",
       "10318     DN-4307\n",
       "10319     DN-4307\n",
       "10320     DN-4313\n",
       "10321     DN-4316\n",
       "10323     DN-4336\n",
       "Name: asn/dn #, Length: 3294, dtype: object"
      ]
     },
     "execution_count": 59,
     "metadata": {},
     "output_type": "execute_result"
    }
   ],
   "source": [
    "df['asn/dn #'][df['asn/dn #'].duplicated()]"
   ]
  },
  {
   "cell_type": "code",
   "execution_count": null,
   "metadata": {},
   "outputs": [],
   "source": []
  },
  {
   "cell_type": "markdown",
   "metadata": {},
   "source": [
    "# Column 6 -  Country  (Destination country)"
   ]
  },
  {
   "cell_type": "code",
   "execution_count": 60,
   "metadata": {},
   "outputs": [
    {
     "data": {
      "text/plain": [
       "43"
      ]
     },
     "execution_count": 60,
     "metadata": {},
     "output_type": "execute_result"
    }
   ],
   "source": [
    "df['country'].nunique()"
   ]
  },
  {
   "cell_type": "code",
   "execution_count": 61,
   "metadata": {},
   "outputs": [
    {
     "data": {
      "text/plain": [
       "array([\"Côte d'Ivoire\", 'Vietnam', 'Nigeria', 'Zambia', 'Tanzania',\n",
       "       'Rwanda', 'Haiti', 'Zimbabwe', 'Ethiopia', 'South Africa',\n",
       "       'Guyana', 'Namibia', 'Botswana', 'Mozambique', 'Kenya',\n",
       "       'Kazakhstan', 'Uganda', 'Kyrgyzstan', 'Senegal', 'Benin',\n",
       "       'Lesotho', 'Pakistan', 'Swaziland', 'Ghana', 'Angola', 'Lebanon',\n",
       "       'Sierra Leone', 'Cameroon', 'South Sudan', 'Burundi',\n",
       "       'Dominican Republic', 'Malawi', 'Congo, DRC', 'Sudan', 'Mali',\n",
       "       'Guatemala', 'Togo', 'Afghanistan', 'Liberia', 'Burkina Faso',\n",
       "       'Guinea', 'Libya', 'Belize'], dtype=object)"
      ]
     },
     "execution_count": 61,
     "metadata": {},
     "output_type": "execute_result"
    }
   ],
   "source": [
    "df['country'].unique()"
   ]
  },
  {
   "cell_type": "code",
   "execution_count": 79,
   "metadata": {},
   "outputs": [
    {
     "data": {
      "text/plain": [
       "0"
      ]
     },
     "execution_count": 79,
     "metadata": {},
     "output_type": "execute_result"
    }
   ],
   "source": [
    "df['country'].isnull().sum()"
   ]
  },
  {
   "cell_type": "code",
   "execution_count": 62,
   "metadata": {},
   "outputs": [],
   "source": [
    "a =[]\n",
    "for i in df['country'].unique() :\n",
    "    \n",
    "    count =0 \n",
    "    for j in df['country']:\n",
    "        if j==i:\n",
    "            count = count +1\n",
    "    a.append([i,count])"
   ]
  },
  {
   "cell_type": "code",
   "execution_count": 65,
   "metadata": {},
   "outputs": [
    {
     "data": {
      "text/plain": [
       "[['South Africa', 1406],\n",
       " ['Nigeria', 1194],\n",
       " [\"Côte d'Ivoire\", 1083],\n",
       " ['Uganda', 779],\n",
       " ['Vietnam', 688],\n",
       " ['Zambia', 683],\n",
       " ['Haiti', 655],\n",
       " ['Mozambique', 631],\n",
       " ['Zimbabwe', 538],\n",
       " ['Tanzania', 519],\n",
       " ['Rwanda', 430],\n",
       " ['Congo, DRC', 333],\n",
       " ['Guyana', 237],\n",
       " ['Ethiopia', 216],\n",
       " ['South Sudan', 164],\n",
       " ['Kenya', 111],\n",
       " ['Burundi', 98],\n",
       " ['Namibia', 95],\n",
       " ['Cameroon', 75],\n",
       " ['Botswana', 70],\n",
       " ['Ghana', 58],\n",
       " ['Dominican Republic', 52],\n",
       " ['Sudan', 46],\n",
       " ['Swaziland', 35],\n",
       " ['Mali', 17],\n",
       " ['Pakistan', 15],\n",
       " ['Guatemala', 15],\n",
       " ['Malawi', 14],\n",
       " ['Benin', 13],\n",
       " ['Lebanon', 8],\n",
       " ['Libya', 8],\n",
       " ['Angola', 7],\n",
       " ['Liberia', 6],\n",
       " ['Lesotho', 4],\n",
       " ['Sierra Leone', 4],\n",
       " ['Senegal', 3],\n",
       " ['Togo', 3],\n",
       " ['Afghanistan', 3],\n",
       " ['Kazakhstan', 2],\n",
       " ['Kyrgyzstan', 2],\n",
       " ['Burkina Faso', 2],\n",
       " ['Guinea', 1],\n",
       " ['Belize', 1]]"
      ]
     },
     "execution_count": 65,
     "metadata": {},
     "output_type": "execute_result"
    }
   ],
   "source": [
    "a = sorted(a, key = lambda x:x[1],reverse = True)\n",
    "a"
   ]
  },
  {
   "cell_type": "markdown",
   "metadata": {},
   "source": [
    "## Top 10 benifeted countries, with maximum shipment took place"
   ]
  },
  {
   "cell_type": "code",
   "execution_count": 74,
   "metadata": {},
   "outputs": [
    {
     "data": {
      "text/plain": [
       "['South Africa',\n",
       " 'Nigeria',\n",
       " \"Côte d'Ivoire\",\n",
       " 'Uganda',\n",
       " 'Vietnam',\n",
       " 'Zambia',\n",
       " 'Haiti',\n",
       " 'Mozambique',\n",
       " 'Zimbabwe',\n",
       " 'Tanzania']"
      ]
     },
     "execution_count": 74,
     "metadata": {},
     "output_type": "execute_result"
    }
   ],
   "source": [
    "country =[]\n",
    "for i in range(0,10):\n",
    "    country.append(a[i][0])\n",
    "country"
   ]
  },
  {
   "cell_type": "code",
   "execution_count": 76,
   "metadata": {},
   "outputs": [
    {
     "data": {
      "text/plain": [
       "[1406, 1194, 1083, 779, 688, 683, 655, 631, 538, 519]"
      ]
     },
     "execution_count": 76,
     "metadata": {},
     "output_type": "execute_result"
    }
   ],
   "source": [
    "count =[]\n",
    "for i in range(0,10):\n",
    "    count.append(a[i][1])\n",
    "count"
   ]
  },
  {
   "cell_type": "code",
   "execution_count": 78,
   "metadata": {
    "scrolled": true
   },
   "outputs": [
    {
     "data": {
      "image/png": "[encoded data removed]",
      "text/plain": [
       "<Figure size 432x288 with 1 Axes>"
      ]
     },
     "metadata": {
      "needs_background": "light"
     },
     "output_type": "display_data"
    }
   ],
   "source": [
    "plt.bar(country, count)\n",
    "plt.xticks(rotation=45)\n",
    "plt.show()"
   ]
  },
  {
   "cell_type": "code",
   "execution_count": null,
   "metadata": {},
   "outputs": [],
   "source": []
  },
  {
   "cell_type": "markdown",
   "metadata": {},
   "source": [
    "# Column 7 - Managed by"
   ]
  },
  {
   "cell_type": "markdown",
   "metadata": {},
   "source": [
    "### SCMS managing office: either the Program Management Office (PMO) in the U.S. or the relevant SCMS field office"
   ]
  },
  {
   "cell_type": "code",
   "execution_count": 80,
   "metadata": {},
   "outputs": [
    {
     "data": {
      "text/plain": [
       "Index(['id', 'project code', 'pq #', 'po / so #', 'asn/dn #', 'country',\n",
       "       'managed by', 'fulfill via', 'vendor inco term', 'shipment mode',\n",
       "       'pq first sent to client date', 'po sent to vendor date',\n",
       "       'scheduled delivery date', 'delivered to client date',\n",
       "       'delivery recorded date', 'product group', 'sub classification',\n",
       "       'vendor', 'item description', 'molecule/test type', 'brand', 'dosage',\n",
       "       'dosage form', 'unit of measure (per pack)', 'line item quantity',\n",
       "       'line item value', 'pack price', 'unit price', 'manufacturing site',\n",
       "       'first line designation', 'weight (kilograms)', 'freight cost (usd)',\n",
       "       'line item insurance (usd)'],\n",
       "      dtype='object')"
      ]
     },
     "execution_count": 80,
     "metadata": {},
     "output_type": "execute_result"
    }
   ],
   "source": [
    "df.columns"
   ]
  },
  {
   "cell_type": "code",
   "execution_count": 81,
   "metadata": {},
   "outputs": [
    {
     "data": {
      "text/plain": [
       "4"
      ]
     },
     "execution_count": 81,
     "metadata": {},
     "output_type": "execute_result"
    }
   ],
   "source": [
    "df['managed by'].nunique()"
   ]
  },
  {
   "cell_type": "code",
   "execution_count": 82,
   "metadata": {},
   "outputs": [
    {
     "data": {
      "text/plain": [
       "array(['PMO - US', 'South Africa Field Office', 'Haiti Field Office',\n",
       "       'Ethiopia Field Office'], dtype=object)"
      ]
     },
     "execution_count": 82,
     "metadata": {},
     "output_type": "execute_result"
    }
   ],
   "source": [
    "df['managed by'].unique()"
   ]
  },
  {
   "cell_type": "code",
   "execution_count": 87,
   "metadata": {},
   "outputs": [
    {
     "data": {
      "text/plain": [
       "managed by\n",
       "Ethiopia Field Office            1\n",
       "Haiti Field Office               1\n",
       "PMO - US                     10265\n",
       "South Africa Field Office       57\n",
       "Name: id, dtype: int64"
      ]
     },
     "execution_count": 87,
     "metadata": {},
     "output_type": "execute_result"
    }
   ],
   "source": [
    "df.groupby(by = df['managed by']).count()['id']"
   ]
  },
  {
   "cell_type": "code",
   "execution_count": 84,
   "metadata": {},
   "outputs": [
    {
     "data": {
      "text/plain": [
       "(10324, 33)"
      ]
     },
     "execution_count": 84,
     "metadata": {},
     "output_type": "execute_result"
    }
   ],
   "source": [
    "df.shape"
   ]
  },
  {
   "cell_type": "code",
   "execution_count": 88,
   "metadata": {},
   "outputs": [
    {
     "data": {
      "text/html": [
       "<div>\n",
       "<style scoped>\n",
       "    .dataframe tbody tr th:only-of-type {\n",
       "        vertical-align: middle;\n",
       "    }\n",
       "\n",
       "    .dataframe tbody tr th {\n",
       "        vertical-align: top;\n",
       "    }\n",
       "\n",
       "    .dataframe thead th {\n",
       "        text-align: right;\n",
       "    }\n",
       "</style>\n",
       "<table border=\"1\" class=\"dataframe\">\n",
       "  <thead>\n",
       "    <tr style=\"text-align: right;\">\n",
       "      <th></th>\n",
       "      <th>id</th>\n",
       "      <th>project code</th>\n",
       "      <th>pq #</th>\n",
       "      <th>po / so #</th>\n",
       "      <th>asn/dn #</th>\n",
       "      <th>country</th>\n",
       "      <th>managed by</th>\n",
       "      <th>fulfill via</th>\n",
       "      <th>vendor inco term</th>\n",
       "      <th>shipment mode</th>\n",
       "      <th>...</th>\n",
       "      <th>unit of measure (per pack)</th>\n",
       "      <th>line item quantity</th>\n",
       "      <th>line item value</th>\n",
       "      <th>pack price</th>\n",
       "      <th>unit price</th>\n",
       "      <th>manufacturing site</th>\n",
       "      <th>first line designation</th>\n",
       "      <th>weight (kilograms)</th>\n",
       "      <th>freight cost (usd)</th>\n",
       "      <th>line item insurance (usd)</th>\n",
       "    </tr>\n",
       "  </thead>\n",
       "  <tbody>\n",
       "    <tr>\n",
       "      <td>2822</td>\n",
       "      <td>15241</td>\n",
       "      <td>116-ZA-T30</td>\n",
       "      <td>FPQ-11828</td>\n",
       "      <td>SCMS-183950</td>\n",
       "      <td>ASN-19166</td>\n",
       "      <td>South Africa</td>\n",
       "      <td>South Africa Field Office</td>\n",
       "      <td>Direct Drop</td>\n",
       "      <td>DDP</td>\n",
       "      <td>Truck</td>\n",
       "      <td>...</td>\n",
       "      <td>30</td>\n",
       "      <td>1,368</td>\n",
       "      <td>21,995.87</td>\n",
       "      <td>16.08</td>\n",
       "      <td>0.54</td>\n",
       "      <td>Cipla, Goa, India</td>\n",
       "      <td>True</td>\n",
       "      <td>Weight Captured Separately</td>\n",
       "      <td>Freight Included in Commodity Cost</td>\n",
       "      <td>27.21</td>\n",
       "    </tr>\n",
       "    <tr>\n",
       "      <td>2989</td>\n",
       "      <td>18762</td>\n",
       "      <td>116-ZA-T30</td>\n",
       "      <td>FPQ-11828</td>\n",
       "      <td>SCMS-183950</td>\n",
       "      <td>ASN-19166</td>\n",
       "      <td>South Africa</td>\n",
       "      <td>South Africa Field Office</td>\n",
       "      <td>Direct Drop</td>\n",
       "      <td>DDP</td>\n",
       "      <td>Truck</td>\n",
       "      <td>...</td>\n",
       "      <td>60</td>\n",
       "      <td>216</td>\n",
       "      <td>5,512.38</td>\n",
       "      <td>25.52</td>\n",
       "      <td>0.43</td>\n",
       "      <td>Aurobindo Unit III, India</td>\n",
       "      <td>False</td>\n",
       "      <td>Weight Captured Separately</td>\n",
       "      <td>Freight Included in Commodity Cost</td>\n",
       "      <td>6.82</td>\n",
       "    </tr>\n",
       "    <tr>\n",
       "      <td>3135</td>\n",
       "      <td>21338</td>\n",
       "      <td>116-ZA-T30</td>\n",
       "      <td>FPQ-11828</td>\n",
       "      <td>SCMS-183950</td>\n",
       "      <td>ASN-19166</td>\n",
       "      <td>South Africa</td>\n",
       "      <td>South Africa Field Office</td>\n",
       "      <td>Direct Drop</td>\n",
       "      <td>DDP</td>\n",
       "      <td>Truck</td>\n",
       "      <td>...</td>\n",
       "      <td>60</td>\n",
       "      <td>39</td>\n",
       "      <td>746.32</td>\n",
       "      <td>19.14</td>\n",
       "      <td>0.32</td>\n",
       "      <td>GSK, U1, Poznan, Poland</td>\n",
       "      <td>False</td>\n",
       "      <td>Weight Captured Separately</td>\n",
       "      <td>Freight Included in Commodity Cost</td>\n",
       "      <td>0.92</td>\n",
       "    </tr>\n",
       "    <tr>\n",
       "      <td>3431</td>\n",
       "      <td>26208</td>\n",
       "      <td>116-ZA-T30</td>\n",
       "      <td>FPQ-11828</td>\n",
       "      <td>SCMS-183950</td>\n",
       "      <td>ASN-19166</td>\n",
       "      <td>South Africa</td>\n",
       "      <td>South Africa Field Office</td>\n",
       "      <td>Direct Drop</td>\n",
       "      <td>DDP</td>\n",
       "      <td>Truck</td>\n",
       "      <td>...</td>\n",
       "      <td>30</td>\n",
       "      <td>22,333</td>\n",
       "      <td>359,064.74</td>\n",
       "      <td>16.08</td>\n",
       "      <td>0.54</td>\n",
       "      <td>Cipla, Goa, India</td>\n",
       "      <td>False</td>\n",
       "      <td>Weight Captured Separately</td>\n",
       "      <td>Freight Included in Commodity Cost</td>\n",
       "      <td>444.16</td>\n",
       "    </tr>\n",
       "    <tr>\n",
       "      <td>3436</td>\n",
       "      <td>26341</td>\n",
       "      <td>116-ZA-T30</td>\n",
       "      <td>FPQ-11828</td>\n",
       "      <td>SCMS-183950</td>\n",
       "      <td>ASN-19166</td>\n",
       "      <td>South Africa</td>\n",
       "      <td>South Africa Field Office</td>\n",
       "      <td>Direct Drop</td>\n",
       "      <td>DDP</td>\n",
       "      <td>Truck</td>\n",
       "      <td>...</td>\n",
       "      <td>60</td>\n",
       "      <td>3,532</td>\n",
       "      <td>41,483.17</td>\n",
       "      <td>11.74</td>\n",
       "      <td>0.20</td>\n",
       "      <td>GSK Ware (UK)</td>\n",
       "      <td>False</td>\n",
       "      <td>Weight Captured Separately</td>\n",
       "      <td>Freight Included in Commodity Cost</td>\n",
       "      <td>51.31</td>\n",
       "    </tr>\n",
       "    <tr>\n",
       "      <td>3455</td>\n",
       "      <td>26786</td>\n",
       "      <td>116-ZA-T30</td>\n",
       "      <td>FPQ-11828</td>\n",
       "      <td>SCMS-183950</td>\n",
       "      <td>ASN-19166</td>\n",
       "      <td>South Africa</td>\n",
       "      <td>South Africa Field Office</td>\n",
       "      <td>Direct Drop</td>\n",
       "      <td>DDP</td>\n",
       "      <td>Truck</td>\n",
       "      <td>...</td>\n",
       "      <td>240</td>\n",
       "      <td>43</td>\n",
       "      <td>317.79</td>\n",
       "      <td>7.39</td>\n",
       "      <td>0.03</td>\n",
       "      <td>Cipla, Goa, India</td>\n",
       "      <td>False</td>\n",
       "      <td>Weight Captured Separately</td>\n",
       "      <td>Freight Included in Commodity Cost</td>\n",
       "      <td>0.39</td>\n",
       "    </tr>\n",
       "    <tr>\n",
       "      <td>3630</td>\n",
       "      <td>29848</td>\n",
       "      <td>116-ZA-T30</td>\n",
       "      <td>FPQ-11828</td>\n",
       "      <td>SCMS-183950</td>\n",
       "      <td>ASN-19166</td>\n",
       "      <td>South Africa</td>\n",
       "      <td>South Africa Field Office</td>\n",
       "      <td>Direct Drop</td>\n",
       "      <td>DDP</td>\n",
       "      <td>Truck</td>\n",
       "      <td>...</td>\n",
       "      <td>60</td>\n",
       "      <td>4</td>\n",
       "      <td>20.72</td>\n",
       "      <td>5.18</td>\n",
       "      <td>0.09</td>\n",
       "      <td>Bristol-Myers Squibb Anagni IT</td>\n",
       "      <td>False</td>\n",
       "      <td>Weight Captured Separately</td>\n",
       "      <td>Freight Included in Commodity Cost</td>\n",
       "      <td>0.03</td>\n",
       "    </tr>\n",
       "    <tr>\n",
       "      <td>3673</td>\n",
       "      <td>30514</td>\n",
       "      <td>116-ZA-T30</td>\n",
       "      <td>FPQ-11828</td>\n",
       "      <td>SCMS-183950</td>\n",
       "      <td>ASN-19166</td>\n",
       "      <td>South Africa</td>\n",
       "      <td>South Africa Field Office</td>\n",
       "      <td>Direct Drop</td>\n",
       "      <td>DDP</td>\n",
       "      <td>Truck</td>\n",
       "      <td>...</td>\n",
       "      <td>60</td>\n",
       "      <td>45</td>\n",
       "      <td>1,175.15</td>\n",
       "      <td>26.11</td>\n",
       "      <td>0.44</td>\n",
       "      <td>Cipla, Patalganga, India</td>\n",
       "      <td>False</td>\n",
       "      <td>Weight Captured Separately</td>\n",
       "      <td>Freight Included in Commodity Cost</td>\n",
       "      <td>1.45</td>\n",
       "    </tr>\n",
       "    <tr>\n",
       "      <td>3742</td>\n",
       "      <td>31963</td>\n",
       "      <td>116-ZA-T30</td>\n",
       "      <td>FPQ-11828</td>\n",
       "      <td>SCMS-183950</td>\n",
       "      <td>ASN-19166</td>\n",
       "      <td>South Africa</td>\n",
       "      <td>South Africa Field Office</td>\n",
       "      <td>Direct Drop</td>\n",
       "      <td>DDP</td>\n",
       "      <td>Truck</td>\n",
       "      <td>...</td>\n",
       "      <td>30</td>\n",
       "      <td>2</td>\n",
       "      <td>30.85</td>\n",
       "      <td>15.42</td>\n",
       "      <td>0.51</td>\n",
       "      <td>Aurobindo Unit III, India</td>\n",
       "      <td>False</td>\n",
       "      <td>Weight Captured Separately</td>\n",
       "      <td>Freight Included in Commodity Cost</td>\n",
       "      <td>0.04</td>\n",
       "    </tr>\n",
       "    <tr>\n",
       "      <td>3788</td>\n",
       "      <td>32889</td>\n",
       "      <td>116-ZA-T30</td>\n",
       "      <td>FPQ-11828</td>\n",
       "      <td>SCMS-183950</td>\n",
       "      <td>ASN-19166</td>\n",
       "      <td>South Africa</td>\n",
       "      <td>South Africa Field Office</td>\n",
       "      <td>Direct Drop</td>\n",
       "      <td>DDP</td>\n",
       "      <td>Truck</td>\n",
       "      <td>...</td>\n",
       "      <td>30</td>\n",
       "      <td>50</td>\n",
       "      <td>1,528.18</td>\n",
       "      <td>30.56</td>\n",
       "      <td>1.02</td>\n",
       "      <td>Aurobindo Unit III, India</td>\n",
       "      <td>False</td>\n",
       "      <td>Weight Captured Separately</td>\n",
       "      <td>Freight Included in Commodity Cost</td>\n",
       "      <td>1.89</td>\n",
       "    </tr>\n",
       "    <tr>\n",
       "      <td>3801</td>\n",
       "      <td>33097</td>\n",
       "      <td>116-ZA-T30</td>\n",
       "      <td>FPQ-11828</td>\n",
       "      <td>SCMS-183950</td>\n",
       "      <td>ASN-19166</td>\n",
       "      <td>South Africa</td>\n",
       "      <td>South Africa Field Office</td>\n",
       "      <td>Direct Drop</td>\n",
       "      <td>DDP</td>\n",
       "      <td>Truck</td>\n",
       "      <td>...</td>\n",
       "      <td>240</td>\n",
       "      <td>212</td>\n",
       "      <td>2,720.61</td>\n",
       "      <td>12.83</td>\n",
       "      <td>0.05</td>\n",
       "      <td>Boehringer Ingelheim Roxane US</td>\n",
       "      <td>False</td>\n",
       "      <td>Weight Captured Separately</td>\n",
       "      <td>Freight Included in Commodity Cost</td>\n",
       "      <td>3.37</td>\n",
       "    </tr>\n",
       "    <tr>\n",
       "      <td>3900</td>\n",
       "      <td>34965</td>\n",
       "      <td>116-ZA-T30</td>\n",
       "      <td>FPQ-11828</td>\n",
       "      <td>SCMS-183950</td>\n",
       "      <td>ASN-19165</td>\n",
       "      <td>South Africa</td>\n",
       "      <td>South Africa Field Office</td>\n",
       "      <td>Direct Drop</td>\n",
       "      <td>DDP</td>\n",
       "      <td>Truck</td>\n",
       "      <td>...</td>\n",
       "      <td>240</td>\n",
       "      <td>25</td>\n",
       "      <td>184.76</td>\n",
       "      <td>7.39</td>\n",
       "      <td>0.03</td>\n",
       "      <td>Cipla, Goa, India</td>\n",
       "      <td>True</td>\n",
       "      <td>Weight Captured Separately</td>\n",
       "      <td>Freight Included in Commodity Cost</td>\n",
       "      <td>0.23</td>\n",
       "    </tr>\n",
       "    <tr>\n",
       "      <td>4107</td>\n",
       "      <td>38507</td>\n",
       "      <td>116-ZA-T30</td>\n",
       "      <td>FPQ-11828</td>\n",
       "      <td>SCMS-183950</td>\n",
       "      <td>ASN-19166</td>\n",
       "      <td>South Africa</td>\n",
       "      <td>South Africa Field Office</td>\n",
       "      <td>Direct Drop</td>\n",
       "      <td>DDP</td>\n",
       "      <td>Truck</td>\n",
       "      <td>...</td>\n",
       "      <td>60</td>\n",
       "      <td>13</td>\n",
       "      <td>242.73</td>\n",
       "      <td>18.67</td>\n",
       "      <td>0.31</td>\n",
       "      <td>GSK Aranda</td>\n",
       "      <td>False</td>\n",
       "      <td>Weight Captured Separately</td>\n",
       "      <td>Freight Included in Commodity Cost</td>\n",
       "      <td>0.3</td>\n",
       "    </tr>\n",
       "    <tr>\n",
       "      <td>4233</td>\n",
       "      <td>40868</td>\n",
       "      <td>116-ZA-T30</td>\n",
       "      <td>FPQ-11828</td>\n",
       "      <td>SCMS-183970</td>\n",
       "      <td>ASN-19157</td>\n",
       "      <td>South Africa</td>\n",
       "      <td>South Africa Field Office</td>\n",
       "      <td>Direct Drop</td>\n",
       "      <td>DDP</td>\n",
       "      <td>Truck</td>\n",
       "      <td>...</td>\n",
       "      <td>300</td>\n",
       "      <td>48</td>\n",
       "      <td>1,199.64</td>\n",
       "      <td>24.99</td>\n",
       "      <td>0.08</td>\n",
       "      <td>ABBVIE (Abbott) Logis. UK</td>\n",
       "      <td>True</td>\n",
       "      <td>Weight Captured Separately</td>\n",
       "      <td>Freight Included in Commodity Cost</td>\n",
       "      <td>1.48</td>\n",
       "    </tr>\n",
       "    <tr>\n",
       "      <td>4290</td>\n",
       "      <td>41784</td>\n",
       "      <td>116-ZA-T30</td>\n",
       "      <td>FPQ-11828</td>\n",
       "      <td>SCMS-183950</td>\n",
       "      <td>ASN-19166</td>\n",
       "      <td>South Africa</td>\n",
       "      <td>South Africa Field Office</td>\n",
       "      <td>Direct Drop</td>\n",
       "      <td>DDP</td>\n",
       "      <td>Truck</td>\n",
       "      <td>...</td>\n",
       "      <td>60</td>\n",
       "      <td>7</td>\n",
       "      <td>117.6</td>\n",
       "      <td>16.8</td>\n",
       "      <td>0.28</td>\n",
       "      <td>GSK, U1, Poznan, Poland</td>\n",
       "      <td>False</td>\n",
       "      <td>Weight Captured Separately</td>\n",
       "      <td>Freight Included in Commodity Cost</td>\n",
       "      <td>0.15</td>\n",
       "    </tr>\n",
       "    <tr>\n",
       "      <td>4326</td>\n",
       "      <td>42195</td>\n",
       "      <td>116-ZA-T30</td>\n",
       "      <td>FPQ-11828</td>\n",
       "      <td>SCMS-183950</td>\n",
       "      <td>ASN-19166</td>\n",
       "      <td>South Africa</td>\n",
       "      <td>South Africa Field Office</td>\n",
       "      <td>Direct Drop</td>\n",
       "      <td>DDP</td>\n",
       "      <td>Truck</td>\n",
       "      <td>...</td>\n",
       "      <td>30</td>\n",
       "      <td>6,304</td>\n",
       "      <td>129,614.89</td>\n",
       "      <td>20.56</td>\n",
       "      <td>0.69</td>\n",
       "      <td>Cipla, Goa, India</td>\n",
       "      <td>False</td>\n",
       "      <td>Weight Captured Separately</td>\n",
       "      <td>Freight Included in Commodity Cost</td>\n",
       "      <td>160.33</td>\n",
       "    </tr>\n",
       "    <tr>\n",
       "      <td>4465</td>\n",
       "      <td>44913</td>\n",
       "      <td>116-ZA-T30</td>\n",
       "      <td>FPQ-11828</td>\n",
       "      <td>SCMS-183950</td>\n",
       "      <td>ASN-19166</td>\n",
       "      <td>South Africa</td>\n",
       "      <td>South Africa Field Office</td>\n",
       "      <td>Direct Drop</td>\n",
       "      <td>DDP</td>\n",
       "      <td>Truck</td>\n",
       "      <td>...</td>\n",
       "      <td>120</td>\n",
       "      <td>62</td>\n",
       "      <td>1,549.54</td>\n",
       "      <td>24.99</td>\n",
       "      <td>0.21</td>\n",
       "      <td>ABBVIE Ludwigshafen Germany</td>\n",
       "      <td>False</td>\n",
       "      <td>Weight Captured Separately</td>\n",
       "      <td>Freight Included in Commodity Cost</td>\n",
       "      <td>1.92</td>\n",
       "    </tr>\n",
       "    <tr>\n",
       "      <td>4476</td>\n",
       "      <td>45090</td>\n",
       "      <td>116-ZA-T30</td>\n",
       "      <td>FPQ-11828</td>\n",
       "      <td>SCMS-183950</td>\n",
       "      <td>ASN-19166</td>\n",
       "      <td>South Africa</td>\n",
       "      <td>South Africa Field Office</td>\n",
       "      <td>Direct Drop</td>\n",
       "      <td>DDP</td>\n",
       "      <td>Truck</td>\n",
       "      <td>...</td>\n",
       "      <td>30</td>\n",
       "      <td>621</td>\n",
       "      <td>12,768.22</td>\n",
       "      <td>20.56</td>\n",
       "      <td>0.69</td>\n",
       "      <td>Aurobindo Unit III, India</td>\n",
       "      <td>False</td>\n",
       "      <td>Weight Captured Separately</td>\n",
       "      <td>Freight Included in Commodity Cost</td>\n",
       "      <td>15.79</td>\n",
       "    </tr>\n",
       "    <tr>\n",
       "      <td>4486</td>\n",
       "      <td>45202</td>\n",
       "      <td>116-ZA-T30</td>\n",
       "      <td>FPQ-11828</td>\n",
       "      <td>SCMS-183950</td>\n",
       "      <td>ASN-19166</td>\n",
       "      <td>South Africa</td>\n",
       "      <td>South Africa Field Office</td>\n",
       "      <td>Direct Drop</td>\n",
       "      <td>DDP</td>\n",
       "      <td>Truck</td>\n",
       "      <td>...</td>\n",
       "      <td>240</td>\n",
       "      <td>1,021</td>\n",
       "      <td>23,275.52</td>\n",
       "      <td>22.8</td>\n",
       "      <td>0.10</td>\n",
       "      <td>GSK Mississauga (Canada)</td>\n",
       "      <td>False</td>\n",
       "      <td>Weight Captured Separately</td>\n",
       "      <td>Freight Included in Commodity Cost</td>\n",
       "      <td>28.79</td>\n",
       "    </tr>\n",
       "    <tr>\n",
       "      <td>4504</td>\n",
       "      <td>45536</td>\n",
       "      <td>116-ZA-T30</td>\n",
       "      <td>FPQ-11828</td>\n",
       "      <td>SCMS-183950</td>\n",
       "      <td>ASN-19166</td>\n",
       "      <td>South Africa</td>\n",
       "      <td>South Africa Field Office</td>\n",
       "      <td>Direct Drop</td>\n",
       "      <td>DDP</td>\n",
       "      <td>Truck</td>\n",
       "      <td>...</td>\n",
       "      <td>60</td>\n",
       "      <td>2</td>\n",
       "      <td>36.18</td>\n",
       "      <td>18.09</td>\n",
       "      <td>0.30</td>\n",
       "      <td>Boehringer Ing., Koropi, GR</td>\n",
       "      <td>False</td>\n",
       "      <td>Weight Captured Separately</td>\n",
       "      <td>Freight Included in Commodity Cost</td>\n",
       "      <td>0.04</td>\n",
       "    </tr>\n",
       "    <tr>\n",
       "      <td>4511</td>\n",
       "      <td>45652</td>\n",
       "      <td>116-ZA-T30</td>\n",
       "      <td>FPQ-11828</td>\n",
       "      <td>SCMS-183950</td>\n",
       "      <td>ASN-19166</td>\n",
       "      <td>South Africa</td>\n",
       "      <td>South Africa Field Office</td>\n",
       "      <td>Direct Drop</td>\n",
       "      <td>DDP</td>\n",
       "      <td>Truck</td>\n",
       "      <td>...</td>\n",
       "      <td>30</td>\n",
       "      <td>3</td>\n",
       "      <td>91.69</td>\n",
       "      <td>30.56</td>\n",
       "      <td>1.02</td>\n",
       "      <td>Aurobindo Unit III, India</td>\n",
       "      <td>False</td>\n",
       "      <td>Weight Captured Separately</td>\n",
       "      <td>Freight Included in Commodity Cost</td>\n",
       "      <td>0.11</td>\n",
       "    </tr>\n",
       "    <tr>\n",
       "      <td>4592</td>\n",
       "      <td>47089</td>\n",
       "      <td>116-ZA-T30</td>\n",
       "      <td>FPQ-11828</td>\n",
       "      <td>SCMS-183950</td>\n",
       "      <td>ASN-19166</td>\n",
       "      <td>South Africa</td>\n",
       "      <td>South Africa Field Office</td>\n",
       "      <td>Direct Drop</td>\n",
       "      <td>DDP</td>\n",
       "      <td>Truck</td>\n",
       "      <td>...</td>\n",
       "      <td>240</td>\n",
       "      <td>517</td>\n",
       "      <td>2,812.74</td>\n",
       "      <td>5.44</td>\n",
       "      <td>0.02</td>\n",
       "      <td>Cipla, Goa, India</td>\n",
       "      <td>False</td>\n",
       "      <td>Weight Captured Separately</td>\n",
       "      <td>Freight Included in Commodity Cost</td>\n",
       "      <td>3.48</td>\n",
       "    </tr>\n",
       "    <tr>\n",
       "      <td>4593</td>\n",
       "      <td>47136</td>\n",
       "      <td>116-ZA-T30</td>\n",
       "      <td>FPQ-11828</td>\n",
       "      <td>SCMS-183950</td>\n",
       "      <td>ASN-19166</td>\n",
       "      <td>South Africa</td>\n",
       "      <td>South Africa Field Office</td>\n",
       "      <td>Direct Drop</td>\n",
       "      <td>DDP</td>\n",
       "      <td>Truck</td>\n",
       "      <td>...</td>\n",
       "      <td>60</td>\n",
       "      <td>225</td>\n",
       "      <td>4,157.82</td>\n",
       "      <td>18.48</td>\n",
       "      <td>0.31</td>\n",
       "      <td>Boehringer Ing., Koropi, GR</td>\n",
       "      <td>False</td>\n",
       "      <td>Weight Captured Separately</td>\n",
       "      <td>Freight Included in Commodity Cost</td>\n",
       "      <td>5.14</td>\n",
       "    </tr>\n",
       "    <tr>\n",
       "      <td>4614</td>\n",
       "      <td>47516</td>\n",
       "      <td>116-ZA-T30</td>\n",
       "      <td>FPQ-11828</td>\n",
       "      <td>SCMS-183950</td>\n",
       "      <td>ASN-19166</td>\n",
       "      <td>South Africa</td>\n",
       "      <td>South Africa Field Office</td>\n",
       "      <td>Direct Drop</td>\n",
       "      <td>DDP</td>\n",
       "      <td>Truck</td>\n",
       "      <td>...</td>\n",
       "      <td>30</td>\n",
       "      <td>7,242</td>\n",
       "      <td>148,900.86</td>\n",
       "      <td>20.56</td>\n",
       "      <td>0.69</td>\n",
       "      <td>Aurobindo Unit III, India</td>\n",
       "      <td>False</td>\n",
       "      <td>Weight Captured Separately</td>\n",
       "      <td>Freight Included in Commodity Cost</td>\n",
       "      <td>184.19</td>\n",
       "    </tr>\n",
       "    <tr>\n",
       "      <td>4686</td>\n",
       "      <td>48757</td>\n",
       "      <td>116-ZA-T30</td>\n",
       "      <td>FPQ-11828</td>\n",
       "      <td>SCMS-183950</td>\n",
       "      <td>ASN-19166</td>\n",
       "      <td>South Africa</td>\n",
       "      <td>South Africa Field Office</td>\n",
       "      <td>Direct Drop</td>\n",
       "      <td>DDP</td>\n",
       "      <td>Truck</td>\n",
       "      <td>...</td>\n",
       "      <td>60</td>\n",
       "      <td>114</td>\n",
       "      <td>7,956.64</td>\n",
       "      <td>69.8</td>\n",
       "      <td>1.16</td>\n",
       "      <td>Cipla, Patalganga, India</td>\n",
       "      <td>False</td>\n",
       "      <td>Weight Captured Separately</td>\n",
       "      <td>Freight Included in Commodity Cost</td>\n",
       "      <td>9.84</td>\n",
       "    </tr>\n",
       "    <tr>\n",
       "      <td>4716</td>\n",
       "      <td>49254</td>\n",
       "      <td>116-ZA-T30</td>\n",
       "      <td>FPQ-11828</td>\n",
       "      <td>SCMS-183950</td>\n",
       "      <td>ASN-19166</td>\n",
       "      <td>South Africa</td>\n",
       "      <td>South Africa Field Office</td>\n",
       "      <td>Direct Drop</td>\n",
       "      <td>DDP</td>\n",
       "      <td>Truck</td>\n",
       "      <td>...</td>\n",
       "      <td>60</td>\n",
       "      <td>265</td>\n",
       "      <td>4,896.7</td>\n",
       "      <td>18.48</td>\n",
       "      <td>0.31</td>\n",
       "      <td>Cipla, Goa, India</td>\n",
       "      <td>False</td>\n",
       "      <td>Weight Captured Separately</td>\n",
       "      <td>Freight Included in Commodity Cost</td>\n",
       "      <td>6.06</td>\n",
       "    </tr>\n",
       "    <tr>\n",
       "      <td>4729</td>\n",
       "      <td>49436</td>\n",
       "      <td>116-ZA-T30</td>\n",
       "      <td>FPQ-11828</td>\n",
       "      <td>SCMS-183950</td>\n",
       "      <td>ASN-19166</td>\n",
       "      <td>South Africa</td>\n",
       "      <td>South Africa Field Office</td>\n",
       "      <td>Direct Drop</td>\n",
       "      <td>DDP</td>\n",
       "      <td>Truck</td>\n",
       "      <td>...</td>\n",
       "      <td>240</td>\n",
       "      <td>42</td>\n",
       "      <td>870.41</td>\n",
       "      <td>20.72</td>\n",
       "      <td>0.09</td>\n",
       "      <td>GSK Mississauga (Canada)</td>\n",
       "      <td>False</td>\n",
       "      <td>Weight Captured Separately</td>\n",
       "      <td>Freight Included in Commodity Cost</td>\n",
       "      <td>1.08</td>\n",
       "    </tr>\n",
       "    <tr>\n",
       "      <td>4785</td>\n",
       "      <td>50706</td>\n",
       "      <td>116-ZA-T30</td>\n",
       "      <td>FPQ-11828</td>\n",
       "      <td>SCMS-183950</td>\n",
       "      <td>ASN-19166</td>\n",
       "      <td>South Africa</td>\n",
       "      <td>South Africa Field Office</td>\n",
       "      <td>Direct Drop</td>\n",
       "      <td>DDP</td>\n",
       "      <td>Truck</td>\n",
       "      <td>...</td>\n",
       "      <td>60</td>\n",
       "      <td>2</td>\n",
       "      <td>31.73</td>\n",
       "      <td>15.86</td>\n",
       "      <td>0.26</td>\n",
       "      <td>GSK Aranda</td>\n",
       "      <td>False</td>\n",
       "      <td>Weight Captured Separately</td>\n",
       "      <td>Freight Included in Commodity Cost</td>\n",
       "      <td>0.04</td>\n",
       "    </tr>\n",
       "    <tr>\n",
       "      <td>4826</td>\n",
       "      <td>51397</td>\n",
       "      <td>116-ZA-T30</td>\n",
       "      <td>FPQ-11828</td>\n",
       "      <td>SCMS-183950</td>\n",
       "      <td>ASN-19166</td>\n",
       "      <td>South Africa</td>\n",
       "      <td>South Africa Field Office</td>\n",
       "      <td>Direct Drop</td>\n",
       "      <td>DDP</td>\n",
       "      <td>Truck</td>\n",
       "      <td>...</td>\n",
       "      <td>60</td>\n",
       "      <td>6,658</td>\n",
       "      <td>94,179.41</td>\n",
       "      <td>14.15</td>\n",
       "      <td>0.24</td>\n",
       "      <td>Cipla, Goa, India</td>\n",
       "      <td>False</td>\n",
       "      <td>Weight Captured Separately</td>\n",
       "      <td>Freight Included in Commodity Cost</td>\n",
       "      <td>116.5</td>\n",
       "    </tr>\n",
       "    <tr>\n",
       "      <td>4848</td>\n",
       "      <td>51763</td>\n",
       "      <td>116-ZA-T30</td>\n",
       "      <td>FPQ-11828</td>\n",
       "      <td>SCMS-183950</td>\n",
       "      <td>ASN-19166</td>\n",
       "      <td>South Africa</td>\n",
       "      <td>South Africa Field Office</td>\n",
       "      <td>Direct Drop</td>\n",
       "      <td>DDP</td>\n",
       "      <td>Truck</td>\n",
       "      <td>...</td>\n",
       "      <td>30</td>\n",
       "      <td>911</td>\n",
       "      <td>14,646.84</td>\n",
       "      <td>16.08</td>\n",
       "      <td>0.54</td>\n",
       "      <td>Cipla, Goa, India</td>\n",
       "      <td>False</td>\n",
       "      <td>Weight Captured Separately</td>\n",
       "      <td>Freight Included in Commodity Cost</td>\n",
       "      <td>18.12</td>\n",
       "    </tr>\n",
       "    <tr>\n",
       "      <td>4870</td>\n",
       "      <td>52131</td>\n",
       "      <td>116-ZA-T30</td>\n",
       "      <td>FPQ-11828</td>\n",
       "      <td>SCMS-183950</td>\n",
       "      <td>ASN-19166</td>\n",
       "      <td>South Africa</td>\n",
       "      <td>South Africa Field Office</td>\n",
       "      <td>Direct Drop</td>\n",
       "      <td>DDP</td>\n",
       "      <td>Truck</td>\n",
       "      <td>...</td>\n",
       "      <td>30</td>\n",
       "      <td>64</td>\n",
       "      <td>987.12</td>\n",
       "      <td>15.42</td>\n",
       "      <td>0.51</td>\n",
       "      <td>Aurobindo Unit III, India</td>\n",
       "      <td>False</td>\n",
       "      <td>Weight Captured Separately</td>\n",
       "      <td>Freight Included in Commodity Cost</td>\n",
       "      <td>1.22</td>\n",
       "    </tr>\n",
       "    <tr>\n",
       "      <td>4917</td>\n",
       "      <td>52854</td>\n",
       "      <td>116-ZA-T30</td>\n",
       "      <td>FPQ-11828</td>\n",
       "      <td>SCMS-183950</td>\n",
       "      <td>ASN-19166</td>\n",
       "      <td>South Africa</td>\n",
       "      <td>South Africa Field Office</td>\n",
       "      <td>Direct Drop</td>\n",
       "      <td>DDP</td>\n",
       "      <td>Truck</td>\n",
       "      <td>...</td>\n",
       "      <td>240</td>\n",
       "      <td>91</td>\n",
       "      <td>2,074.51</td>\n",
       "      <td>22.8</td>\n",
       "      <td>0.10</td>\n",
       "      <td>GSK Mississauga (Canada)</td>\n",
       "      <td>False</td>\n",
       "      <td>Weight Captured Separately</td>\n",
       "      <td>Freight Included in Commodity Cost</td>\n",
       "      <td>2.57</td>\n",
       "    </tr>\n",
       "    <tr>\n",
       "      <td>4957</td>\n",
       "      <td>53852</td>\n",
       "      <td>116-ZA-T30</td>\n",
       "      <td>FPQ-11828</td>\n",
       "      <td>SCMS-183950</td>\n",
       "      <td>ASN-19166</td>\n",
       "      <td>South Africa</td>\n",
       "      <td>South Africa Field Office</td>\n",
       "      <td>Direct Drop</td>\n",
       "      <td>DDP</td>\n",
       "      <td>Truck</td>\n",
       "      <td>...</td>\n",
       "      <td>90</td>\n",
       "      <td>545</td>\n",
       "      <td>13,007.18</td>\n",
       "      <td>23.87</td>\n",
       "      <td>0.27</td>\n",
       "      <td>Aurobindo Unit III, India</td>\n",
       "      <td>False</td>\n",
       "      <td>Weight Captured Separately</td>\n",
       "      <td>Freight Included in Commodity Cost</td>\n",
       "      <td>16.09</td>\n",
       "    </tr>\n",
       "    <tr>\n",
       "      <td>4964</td>\n",
       "      <td>53981</td>\n",
       "      <td>116-ZA-T30</td>\n",
       "      <td>FPQ-11828</td>\n",
       "      <td>SCMS-183950</td>\n",
       "      <td>ASN-19166</td>\n",
       "      <td>South Africa</td>\n",
       "      <td>South Africa Field Office</td>\n",
       "      <td>Direct Drop</td>\n",
       "      <td>DDP</td>\n",
       "      <td>Truck</td>\n",
       "      <td>...</td>\n",
       "      <td>240</td>\n",
       "      <td>220</td>\n",
       "      <td>7,811.75</td>\n",
       "      <td>35.51</td>\n",
       "      <td>0.15</td>\n",
       "      <td>GSK Mississauga (Canada)</td>\n",
       "      <td>False</td>\n",
       "      <td>Weight Captured Separately</td>\n",
       "      <td>Freight Included in Commodity Cost</td>\n",
       "      <td>9.66</td>\n",
       "    </tr>\n",
       "    <tr>\n",
       "      <td>4976</td>\n",
       "      <td>54246</td>\n",
       "      <td>116-ZA-T30</td>\n",
       "      <td>FPQ-11828</td>\n",
       "      <td>SCMS-183950</td>\n",
       "      <td>ASN-19166</td>\n",
       "      <td>South Africa</td>\n",
       "      <td>South Africa Field Office</td>\n",
       "      <td>Direct Drop</td>\n",
       "      <td>DDP</td>\n",
       "      <td>Truck</td>\n",
       "      <td>...</td>\n",
       "      <td>60</td>\n",
       "      <td>53</td>\n",
       "      <td>1,337.93</td>\n",
       "      <td>25.24</td>\n",
       "      <td>0.42</td>\n",
       "      <td>Aurobindo Unit III, India</td>\n",
       "      <td>False</td>\n",
       "      <td>Weight Captured Separately</td>\n",
       "      <td>Freight Included in Commodity Cost</td>\n",
       "      <td>1.66</td>\n",
       "    </tr>\n",
       "    <tr>\n",
       "      <td>4999</td>\n",
       "      <td>54579</td>\n",
       "      <td>116-ZA-T30</td>\n",
       "      <td>FPQ-11828</td>\n",
       "      <td>SCMS-183950</td>\n",
       "      <td>ASN-19166</td>\n",
       "      <td>South Africa</td>\n",
       "      <td>South Africa Field Office</td>\n",
       "      <td>Direct Drop</td>\n",
       "      <td>DDP</td>\n",
       "      <td>Truck</td>\n",
       "      <td>...</td>\n",
       "      <td>60</td>\n",
       "      <td>1,021</td>\n",
       "      <td>7,656.67</td>\n",
       "      <td>7.5</td>\n",
       "      <td>0.12</td>\n",
       "      <td>GSK Ware (UK)</td>\n",
       "      <td>False</td>\n",
       "      <td>Weight Captured Separately</td>\n",
       "      <td>Freight Included in Commodity Cost</td>\n",
       "      <td>9.47</td>\n",
       "    </tr>\n",
       "    <tr>\n",
       "      <td>5007</td>\n",
       "      <td>54753</td>\n",
       "      <td>116-ZA-T30</td>\n",
       "      <td>FPQ-11828</td>\n",
       "      <td>SCMS-183950</td>\n",
       "      <td>ASN-19166</td>\n",
       "      <td>South Africa</td>\n",
       "      <td>South Africa Field Office</td>\n",
       "      <td>Direct Drop</td>\n",
       "      <td>DDP</td>\n",
       "      <td>Truck</td>\n",
       "      <td>...</td>\n",
       "      <td>30</td>\n",
       "      <td>131</td>\n",
       "      <td>398.4</td>\n",
       "      <td>3.04</td>\n",
       "      <td>0.10</td>\n",
       "      <td>Aurobindo Unit III, India</td>\n",
       "      <td>False</td>\n",
       "      <td>Weight Captured Separately</td>\n",
       "      <td>Freight Included in Commodity Cost</td>\n",
       "      <td>0.49</td>\n",
       "    </tr>\n",
       "    <tr>\n",
       "      <td>5076</td>\n",
       "      <td>55890</td>\n",
       "      <td>116-ZA-T30</td>\n",
       "      <td>FPQ-11828</td>\n",
       "      <td>SCMS-183950</td>\n",
       "      <td>ASN-19166</td>\n",
       "      <td>South Africa</td>\n",
       "      <td>South Africa Field Office</td>\n",
       "      <td>Direct Drop</td>\n",
       "      <td>DDP</td>\n",
       "      <td>Truck</td>\n",
       "      <td>...</td>\n",
       "      <td>60</td>\n",
       "      <td>1,152</td>\n",
       "      <td>34,884.66</td>\n",
       "      <td>30.28</td>\n",
       "      <td>0.50</td>\n",
       "      <td>Cipla, Goa, India</td>\n",
       "      <td>False</td>\n",
       "      <td>Weight Captured Separately</td>\n",
       "      <td>Freight Included in Commodity Cost</td>\n",
       "      <td>43.15</td>\n",
       "    </tr>\n",
       "    <tr>\n",
       "      <td>5150</td>\n",
       "      <td>57308</td>\n",
       "      <td>116-ZA-T30</td>\n",
       "      <td>FPQ-11828</td>\n",
       "      <td>SCMS-183950</td>\n",
       "      <td>ASN-19166</td>\n",
       "      <td>South Africa</td>\n",
       "      <td>South Africa Field Office</td>\n",
       "      <td>Direct Drop</td>\n",
       "      <td>DDP</td>\n",
       "      <td>Truck</td>\n",
       "      <td>...</td>\n",
       "      <td>30</td>\n",
       "      <td>251</td>\n",
       "      <td>4,996.06</td>\n",
       "      <td>19.9</td>\n",
       "      <td>0.66</td>\n",
       "      <td>Aurobindo Unit III, India</td>\n",
       "      <td>False</td>\n",
       "      <td>Weight Captured Separately</td>\n",
       "      <td>Freight Included in Commodity Cost</td>\n",
       "      <td>6.18</td>\n",
       "    </tr>\n",
       "    <tr>\n",
       "      <td>5423</td>\n",
       "      <td>62227</td>\n",
       "      <td>116-ZA-T30</td>\n",
       "      <td>FPQ-11828</td>\n",
       "      <td>SCMS-183950</td>\n",
       "      <td>ASN-19166</td>\n",
       "      <td>South Africa</td>\n",
       "      <td>South Africa Field Office</td>\n",
       "      <td>Direct Drop</td>\n",
       "      <td>DDP</td>\n",
       "      <td>Truck</td>\n",
       "      <td>...</td>\n",
       "      <td>90</td>\n",
       "      <td>51</td>\n",
       "      <td>1,217.19</td>\n",
       "      <td>23.87</td>\n",
       "      <td>0.27</td>\n",
       "      <td>Aurobindo Unit III, India</td>\n",
       "      <td>False</td>\n",
       "      <td>Weight Captured Separately</td>\n",
       "      <td>Freight Included in Commodity Cost</td>\n",
       "      <td>1.51</td>\n",
       "    </tr>\n",
       "    <tr>\n",
       "      <td>5432</td>\n",
       "      <td>62390</td>\n",
       "      <td>116-ZA-T30</td>\n",
       "      <td>FPQ-11828</td>\n",
       "      <td>SCMS-183950</td>\n",
       "      <td>ASN-19166</td>\n",
       "      <td>South Africa</td>\n",
       "      <td>South Africa Field Office</td>\n",
       "      <td>Direct Drop</td>\n",
       "      <td>DDP</td>\n",
       "      <td>Truck</td>\n",
       "      <td>...</td>\n",
       "      <td>60</td>\n",
       "      <td>869</td>\n",
       "      <td>5,923.93</td>\n",
       "      <td>6.82</td>\n",
       "      <td>0.11</td>\n",
       "      <td>GSK Ware (UK)</td>\n",
       "      <td>False</td>\n",
       "      <td>Weight Captured Separately</td>\n",
       "      <td>Freight Included in Commodity Cost</td>\n",
       "      <td>7.33</td>\n",
       "    </tr>\n",
       "    <tr>\n",
       "      <td>5454</td>\n",
       "      <td>62795</td>\n",
       "      <td>116-ZA-T30</td>\n",
       "      <td>FPQ-11828</td>\n",
       "      <td>SCMS-183950</td>\n",
       "      <td>ASN-19166</td>\n",
       "      <td>South Africa</td>\n",
       "      <td>South Africa Field Office</td>\n",
       "      <td>Direct Drop</td>\n",
       "      <td>DDP</td>\n",
       "      <td>Truck</td>\n",
       "      <td>...</td>\n",
       "      <td>90</td>\n",
       "      <td>257</td>\n",
       "      <td>7,465.87</td>\n",
       "      <td>29.05</td>\n",
       "      <td>0.32</td>\n",
       "      <td>Aurobindo Unit III, India</td>\n",
       "      <td>False</td>\n",
       "      <td>Weight Captured Separately</td>\n",
       "      <td>Freight Included in Commodity Cost</td>\n",
       "      <td>9.24</td>\n",
       "    </tr>\n",
       "    <tr>\n",
       "      <td>5622</td>\n",
       "      <td>65436</td>\n",
       "      <td>116-ZA-T30</td>\n",
       "      <td>FPQ-11828</td>\n",
       "      <td>SCMS-183950</td>\n",
       "      <td>ASN-19166</td>\n",
       "      <td>South Africa</td>\n",
       "      <td>South Africa Field Office</td>\n",
       "      <td>Direct Drop</td>\n",
       "      <td>DDP</td>\n",
       "      <td>Truck</td>\n",
       "      <td>...</td>\n",
       "      <td>60</td>\n",
       "      <td>45</td>\n",
       "      <td>281.2</td>\n",
       "      <td>6.25</td>\n",
       "      <td>0.10</td>\n",
       "      <td>ABBVIE Ludwigshafen Germany</td>\n",
       "      <td>False</td>\n",
       "      <td>Weight Captured Separately</td>\n",
       "      <td>Freight Included in Commodity Cost</td>\n",
       "      <td>0.35</td>\n",
       "    </tr>\n",
       "    <tr>\n",
       "      <td>5679</td>\n",
       "      <td>66338</td>\n",
       "      <td>116-ZA-T30</td>\n",
       "      <td>FPQ-11828</td>\n",
       "      <td>SCMS-183950</td>\n",
       "      <td>ASN-19166</td>\n",
       "      <td>South Africa</td>\n",
       "      <td>South Africa Field Office</td>\n",
       "      <td>Direct Drop</td>\n",
       "      <td>DDP</td>\n",
       "      <td>Truck</td>\n",
       "      <td>...</td>\n",
       "      <td>240</td>\n",
       "      <td>145</td>\n",
       "      <td>1,173.68</td>\n",
       "      <td>8.09</td>\n",
       "      <td>0.03</td>\n",
       "      <td>Aurobindo Unit III, India</td>\n",
       "      <td>False</td>\n",
       "      <td>Weight Captured Separately</td>\n",
       "      <td>Freight Included in Commodity Cost</td>\n",
       "      <td>1.45</td>\n",
       "    </tr>\n",
       "    <tr>\n",
       "      <td>5767</td>\n",
       "      <td>67759</td>\n",
       "      <td>116-ZA-T30</td>\n",
       "      <td>FPQ-11828</td>\n",
       "      <td>SCMS-183950</td>\n",
       "      <td>ASN-19166</td>\n",
       "      <td>South Africa</td>\n",
       "      <td>South Africa Field Office</td>\n",
       "      <td>Direct Drop</td>\n",
       "      <td>DDP</td>\n",
       "      <td>Truck</td>\n",
       "      <td>...</td>\n",
       "      <td>60</td>\n",
       "      <td>287</td>\n",
       "      <td>4,059.7</td>\n",
       "      <td>14.15</td>\n",
       "      <td>0.24</td>\n",
       "      <td>Cipla, Goa, India</td>\n",
       "      <td>False</td>\n",
       "      <td>Weight Captured Separately</td>\n",
       "      <td>Freight Included in Commodity Cost</td>\n",
       "      <td>5.02</td>\n",
       "    </tr>\n",
       "    <tr>\n",
       "      <td>5885</td>\n",
       "      <td>70014</td>\n",
       "      <td>116-ZA-T30</td>\n",
       "      <td>FPQ-11828</td>\n",
       "      <td>SCMS-183950</td>\n",
       "      <td>ASN-19166</td>\n",
       "      <td>South Africa</td>\n",
       "      <td>South Africa Field Office</td>\n",
       "      <td>Direct Drop</td>\n",
       "      <td>DDP</td>\n",
       "      <td>Truck</td>\n",
       "      <td>...</td>\n",
       "      <td>60</td>\n",
       "      <td>2</td>\n",
       "      <td>71.35</td>\n",
       "      <td>35.67</td>\n",
       "      <td>0.59</td>\n",
       "      <td>GSK, U1, Poznan, Poland</td>\n",
       "      <td>False</td>\n",
       "      <td>Weight Captured Separately</td>\n",
       "      <td>Freight Included in Commodity Cost</td>\n",
       "      <td>0.09</td>\n",
       "    </tr>\n",
       "    <tr>\n",
       "      <td>5960</td>\n",
       "      <td>71244</td>\n",
       "      <td>116-ZA-T30</td>\n",
       "      <td>FPQ-11828</td>\n",
       "      <td>SCMS-183950</td>\n",
       "      <td>ASN-19166</td>\n",
       "      <td>South Africa</td>\n",
       "      <td>South Africa Field Office</td>\n",
       "      <td>Direct Drop</td>\n",
       "      <td>DDP</td>\n",
       "      <td>Truck</td>\n",
       "      <td>...</td>\n",
       "      <td>60</td>\n",
       "      <td>5,093</td>\n",
       "      <td>94,109.04</td>\n",
       "      <td>18.48</td>\n",
       "      <td>0.31</td>\n",
       "      <td>Cipla, Goa, India</td>\n",
       "      <td>False</td>\n",
       "      <td>Weight Captured Separately</td>\n",
       "      <td>Freight Included in Commodity Cost</td>\n",
       "      <td>116.41</td>\n",
       "    </tr>\n",
       "    <tr>\n",
       "      <td>5977</td>\n",
       "      <td>71462</td>\n",
       "      <td>116-ZA-T30</td>\n",
       "      <td>FPQ-11828</td>\n",
       "      <td>SCMS-183950</td>\n",
       "      <td>ASN-19166</td>\n",
       "      <td>South Africa</td>\n",
       "      <td>South Africa Field Office</td>\n",
       "      <td>Direct Drop</td>\n",
       "      <td>DDP</td>\n",
       "      <td>Truck</td>\n",
       "      <td>...</td>\n",
       "      <td>120</td>\n",
       "      <td>1,473</td>\n",
       "      <td>36,814.05</td>\n",
       "      <td>24.99</td>\n",
       "      <td>0.21</td>\n",
       "      <td>ABBVIE Ludwigshafen Germany</td>\n",
       "      <td>False</td>\n",
       "      <td>Weight Captured Separately</td>\n",
       "      <td>Freight Included in Commodity Cost</td>\n",
       "      <td>45.54</td>\n",
       "    </tr>\n",
       "    <tr>\n",
       "      <td>5989</td>\n",
       "      <td>71649</td>\n",
       "      <td>116-ZA-T30</td>\n",
       "      <td>FPQ-11828</td>\n",
       "      <td>SCMS-183950</td>\n",
       "      <td>ASN-19166</td>\n",
       "      <td>South Africa</td>\n",
       "      <td>South Africa Field Office</td>\n",
       "      <td>Direct Drop</td>\n",
       "      <td>DDP</td>\n",
       "      <td>Truck</td>\n",
       "      <td>...</td>\n",
       "      <td>30</td>\n",
       "      <td>14</td>\n",
       "      <td>278.66</td>\n",
       "      <td>19.9</td>\n",
       "      <td>0.66</td>\n",
       "      <td>Aurobindo Unit III, India</td>\n",
       "      <td>False</td>\n",
       "      <td>Weight Captured Separately</td>\n",
       "      <td>Freight Included in Commodity Cost</td>\n",
       "      <td>0.34</td>\n",
       "    </tr>\n",
       "    <tr>\n",
       "      <td>6128</td>\n",
       "      <td>74213</td>\n",
       "      <td>116-ZA-T30</td>\n",
       "      <td>FPQ-11828</td>\n",
       "      <td>SCMS-183950</td>\n",
       "      <td>ASN-19166</td>\n",
       "      <td>South Africa</td>\n",
       "      <td>South Africa Field Office</td>\n",
       "      <td>Direct Drop</td>\n",
       "      <td>DDP</td>\n",
       "      <td>Truck</td>\n",
       "      <td>...</td>\n",
       "      <td>60</td>\n",
       "      <td>537</td>\n",
       "      <td>14,023.43</td>\n",
       "      <td>26.11</td>\n",
       "      <td>0.44</td>\n",
       "      <td>Cipla, Patalganga, India</td>\n",
       "      <td>False</td>\n",
       "      <td>Weight Captured Separately</td>\n",
       "      <td>Freight Included in Commodity Cost</td>\n",
       "      <td>17.35</td>\n",
       "    </tr>\n",
       "    <tr>\n",
       "      <td>6139</td>\n",
       "      <td>74364</td>\n",
       "      <td>116-ZA-T30</td>\n",
       "      <td>FPQ-11828</td>\n",
       "      <td>SCMS-183950</td>\n",
       "      <td>ASN-19166</td>\n",
       "      <td>South Africa</td>\n",
       "      <td>South Africa Field Office</td>\n",
       "      <td>Direct Drop</td>\n",
       "      <td>DDP</td>\n",
       "      <td>Truck</td>\n",
       "      <td>...</td>\n",
       "      <td>30</td>\n",
       "      <td>2,146</td>\n",
       "      <td>6,526.5</td>\n",
       "      <td>3.04</td>\n",
       "      <td>0.10</td>\n",
       "      <td>Aurobindo Unit III, India</td>\n",
       "      <td>False</td>\n",
       "      <td>Weight Captured Separately</td>\n",
       "      <td>Freight Included in Commodity Cost</td>\n",
       "      <td>8.07</td>\n",
       "    </tr>\n",
       "    <tr>\n",
       "      <td>6166</td>\n",
       "      <td>74771</td>\n",
       "      <td>116-ZA-T30</td>\n",
       "      <td>FPQ-11828</td>\n",
       "      <td>SCMS-183950</td>\n",
       "      <td>ASN-19166</td>\n",
       "      <td>South Africa</td>\n",
       "      <td>South Africa Field Office</td>\n",
       "      <td>Direct Drop</td>\n",
       "      <td>DDP</td>\n",
       "      <td>Truck</td>\n",
       "      <td>...</td>\n",
       "      <td>60</td>\n",
       "      <td>19,284</td>\n",
       "      <td>144,614.29</td>\n",
       "      <td>7.5</td>\n",
       "      <td>0.12</td>\n",
       "      <td>GSK Ware (UK)</td>\n",
       "      <td>False</td>\n",
       "      <td>Weight Captured Separately</td>\n",
       "      <td>Freight Included in Commodity Cost</td>\n",
       "      <td>178.89</td>\n",
       "    </tr>\n",
       "    <tr>\n",
       "      <td>6295</td>\n",
       "      <td>77092</td>\n",
       "      <td>116-ZA-T30</td>\n",
       "      <td>FPQ-11828</td>\n",
       "      <td>SCMS-183970</td>\n",
       "      <td>ASN-19157</td>\n",
       "      <td>South Africa</td>\n",
       "      <td>South Africa Field Office</td>\n",
       "      <td>Direct Drop</td>\n",
       "      <td>DDP</td>\n",
       "      <td>Truck</td>\n",
       "      <td>...</td>\n",
       "      <td>300</td>\n",
       "      <td>2</td>\n",
       "      <td>49.99</td>\n",
       "      <td>25</td>\n",
       "      <td>0.08</td>\n",
       "      <td>ABBVIE (Abbott) Logis. UK</td>\n",
       "      <td>False</td>\n",
       "      <td>Weight Captured Separately</td>\n",
       "      <td>Freight Included in Commodity Cost</td>\n",
       "      <td>0.06</td>\n",
       "    </tr>\n",
       "    <tr>\n",
       "      <td>6337</td>\n",
       "      <td>77936</td>\n",
       "      <td>116-ZA-T30</td>\n",
       "      <td>FPQ-11828</td>\n",
       "      <td>SCMS-183950</td>\n",
       "      <td>ASN-19166</td>\n",
       "      <td>South Africa</td>\n",
       "      <td>South Africa Field Office</td>\n",
       "      <td>Direct Drop</td>\n",
       "      <td>DDP</td>\n",
       "      <td>Truck</td>\n",
       "      <td>...</td>\n",
       "      <td>60</td>\n",
       "      <td>13</td>\n",
       "      <td>328.17</td>\n",
       "      <td>25.24</td>\n",
       "      <td>0.42</td>\n",
       "      <td>Aurobindo Unit III, India</td>\n",
       "      <td>False</td>\n",
       "      <td>Weight Captured Separately</td>\n",
       "      <td>Freight Included in Commodity Cost</td>\n",
       "      <td>0.41</td>\n",
       "    </tr>\n",
       "    <tr>\n",
       "      <td>6357</td>\n",
       "      <td>78244</td>\n",
       "      <td>116-ZA-T30</td>\n",
       "      <td>FPQ-11828</td>\n",
       "      <td>SCMS-183950</td>\n",
       "      <td>ASN-19166</td>\n",
       "      <td>South Africa</td>\n",
       "      <td>South Africa Field Office</td>\n",
       "      <td>Direct Drop</td>\n",
       "      <td>DDP</td>\n",
       "      <td>Truck</td>\n",
       "      <td>...</td>\n",
       "      <td>60</td>\n",
       "      <td>337</td>\n",
       "      <td>1,357.12</td>\n",
       "      <td>4.03</td>\n",
       "      <td>0.07</td>\n",
       "      <td>Aurobindo Unit III, India</td>\n",
       "      <td>False</td>\n",
       "      <td>Weight Captured Separately</td>\n",
       "      <td>Freight Included in Commodity Cost</td>\n",
       "      <td>1.68</td>\n",
       "    </tr>\n",
       "    <tr>\n",
       "      <td>6535</td>\n",
       "      <td>81581</td>\n",
       "      <td>116-ZA-T30</td>\n",
       "      <td>FPQ-11828</td>\n",
       "      <td>SCMS-183950</td>\n",
       "      <td>ASN-19166</td>\n",
       "      <td>South Africa</td>\n",
       "      <td>South Africa Field Office</td>\n",
       "      <td>Direct Drop</td>\n",
       "      <td>DDP</td>\n",
       "      <td>Truck</td>\n",
       "      <td>...</td>\n",
       "      <td>60</td>\n",
       "      <td>71</td>\n",
       "      <td>367.73</td>\n",
       "      <td>5.18</td>\n",
       "      <td>0.09</td>\n",
       "      <td>Bristol-Myers Squibb Anagni IT</td>\n",
       "      <td>False</td>\n",
       "      <td>Weight Captured Separately</td>\n",
       "      <td>Freight Included in Commodity Cost</td>\n",
       "      <td>0.45</td>\n",
       "    </tr>\n",
       "    <tr>\n",
       "      <td>6557</td>\n",
       "      <td>81961</td>\n",
       "      <td>116-ZA-T30</td>\n",
       "      <td>FPQ-11828</td>\n",
       "      <td>SCMS-183950</td>\n",
       "      <td>ASN-19166</td>\n",
       "      <td>South Africa</td>\n",
       "      <td>South Africa Field Office</td>\n",
       "      <td>Direct Drop</td>\n",
       "      <td>DDP</td>\n",
       "      <td>Truck</td>\n",
       "      <td>...</td>\n",
       "      <td>60</td>\n",
       "      <td>9,227</td>\n",
       "      <td>37,157.67</td>\n",
       "      <td>4.03</td>\n",
       "      <td>0.07</td>\n",
       "      <td>Aurobindo Unit III, India</td>\n",
       "      <td>False</td>\n",
       "      <td>Weight Captured Separately</td>\n",
       "      <td>Freight Included in Commodity Cost</td>\n",
       "      <td>45.96</td>\n",
       "    </tr>\n",
       "  </tbody>\n",
       "</table>\n",
       "<p>57 rows × 33 columns</p>\n",
       "</div>"
      ],
      "text/plain": [
       "         id project code       pq #    po / so #   asn/dn #       country  \\\n",
       "2822  15241   116-ZA-T30  FPQ-11828  SCMS-183950  ASN-19166  South Africa   \n",
       "2989  18762   116-ZA-T30  FPQ-11828  SCMS-183950  ASN-19166  South Africa   \n",
       "3135  21338   116-ZA-T30  FPQ-11828  SCMS-183950  ASN-19166  South Africa   \n",
       "3431  26208   116-ZA-T30  FPQ-11828  SCMS-183950  ASN-19166  South Africa   \n",
       "3436  26341   116-ZA-T30  FPQ-11828  SCMS-183950  ASN-19166  South Africa   \n",
       "3455  26786   116-ZA-T30  FPQ-11828  SCMS-183950  ASN-19166  South Africa   \n",
       "3630  29848   116-ZA-T30  FPQ-11828  SCMS-183950  ASN-19166  South Africa   \n",
       "3673  30514   116-ZA-T30  FPQ-11828  SCMS-183950  ASN-19166  South Africa   \n",
       "3742  31963   116-ZA-T30  FPQ-11828  SCMS-183950  ASN-19166  South Africa   \n",
       "3788  32889   116-ZA-T30  FPQ-11828  SCMS-183950  ASN-19166  South Africa   \n",
       "3801  33097   116-ZA-T30  FPQ-11828  SCMS-183950  ASN-19166  South Africa   \n",
       "3900  34965   116-ZA-T30  FPQ-11828  SCMS-183950  ASN-19165  South Africa   \n",
       "4107  38507   116-ZA-T30  FPQ-11828  SCMS-183950  ASN-19166  South Africa   \n",
       "4233  40868   116-ZA-T30  FPQ-11828  SCMS-183970  ASN-19157  South Africa   \n",
       "4290  41784   116-ZA-T30  FPQ-11828  SCMS-183950  ASN-19166  South Africa   \n",
       "4326  42195   116-ZA-T30  FPQ-11828  SCMS-183950  ASN-19166  South Africa   \n",
       "4465  44913   116-ZA-T30  FPQ-11828  SCMS-183950  ASN-19166  South Africa   \n",
       "4476  45090   116-ZA-T30  FPQ-11828  SCMS-183950  ASN-19166  South Africa   \n",
       "4486  45202   116-ZA-T30  FPQ-11828  SCMS-183950  ASN-19166  South Africa   \n",
       "4504  45536   116-ZA-T30  FPQ-11828  SCMS-183950  ASN-19166  South Africa   \n",
       "4511  45652   116-ZA-T30  FPQ-11828  SCMS-183950  ASN-19166  South Africa   \n",
       "4592  47089   116-ZA-T30  FPQ-11828  SCMS-183950  ASN-19166  South Africa   \n",
       "4593  47136   116-ZA-T30  FPQ-11828  SCMS-183950  ASN-19166  South Africa   \n",
       "4614  47516   116-ZA-T30  FPQ-11828  SCMS-183950  ASN-19166  South Africa   \n",
       "4686  48757   116-ZA-T30  FPQ-11828  SCMS-183950  ASN-19166  South Africa   \n",
       "4716  49254   116-ZA-T30  FPQ-11828  SCMS-183950  ASN-19166  South Africa   \n",
       "4729  49436   116-ZA-T30  FPQ-11828  SCMS-183950  ASN-19166  South Africa   \n",
       "4785  50706   116-ZA-T30  FPQ-11828  SCMS-183950  ASN-19166  South Africa   \n",
       "4826  51397   116-ZA-T30  FPQ-11828  SCMS-183950  ASN-19166  South Africa   \n",
       "4848  51763   116-ZA-T30  FPQ-11828  SCMS-183950  ASN-19166  South Africa   \n",
       "4870  52131   116-ZA-T30  FPQ-11828  SCMS-183950  ASN-19166  South Africa   \n",
       "4917  52854   116-ZA-T30  FPQ-11828  SCMS-183950  ASN-19166  South Africa   \n",
       "4957  53852   116-ZA-T30  FPQ-11828  SCMS-183950  ASN-19166  South Africa   \n",
       "4964  53981   116-ZA-T30  FPQ-11828  SCMS-183950  ASN-19166  South Africa   \n",
       "4976  54246   116-ZA-T30  FPQ-11828  SCMS-183950  ASN-19166  South Africa   \n",
       "4999  54579   116-ZA-T30  FPQ-11828  SCMS-183950  ASN-19166  South Africa   \n",
       "5007  54753   116-ZA-T30  FPQ-11828  SCMS-183950  ASN-19166  South Africa   \n",
       "5076  55890   116-ZA-T30  FPQ-11828  SCMS-183950  ASN-19166  South Africa   \n",
       "5150  57308   116-ZA-T30  FPQ-11828  SCMS-183950  ASN-19166  South Africa   \n",
       "5423  62227   116-ZA-T30  FPQ-11828  SCMS-183950  ASN-19166  South Africa   \n",
       "5432  62390   116-ZA-T30  FPQ-11828  SCMS-183950  ASN-19166  South Africa   \n",
       "5454  62795   116-ZA-T30  FPQ-11828  SCMS-183950  ASN-19166  South Africa   \n",
       "5622  65436   116-ZA-T30  FPQ-11828  SCMS-183950  ASN-19166  South Africa   \n",
       "5679  66338   116-ZA-T30  FPQ-11828  SCMS-183950  ASN-19166  South Africa   \n",
       "5767  67759   116-ZA-T30  FPQ-11828  SCMS-183950  ASN-19166  South Africa   \n",
       "5885  70014   116-ZA-T30  FPQ-11828  SCMS-183950  ASN-19166  South Africa   \n",
       "5960  71244   116-ZA-T30  FPQ-11828  SCMS-183950  ASN-19166  South Africa   \n",
       "5977  71462   116-ZA-T30  FPQ-11828  SCMS-183950  ASN-19166  South Africa   \n",
       "5989  71649   116-ZA-T30  FPQ-11828  SCMS-183950  ASN-19166  South Africa   \n",
       "6128  74213   116-ZA-T30  FPQ-11828  SCMS-183950  ASN-19166  South Africa   \n",
       "6139  74364   116-ZA-T30  FPQ-11828  SCMS-183950  ASN-19166  South Africa   \n",
       "6166  74771   116-ZA-T30  FPQ-11828  SCMS-183950  ASN-19166  South Africa   \n",
       "6295  77092   116-ZA-T30  FPQ-11828  SCMS-183970  ASN-19157  South Africa   \n",
       "6337  77936   116-ZA-T30  FPQ-11828  SCMS-183950  ASN-19166  South Africa   \n",
       "6357  78244   116-ZA-T30  FPQ-11828  SCMS-183950  ASN-19166  South Africa   \n",
       "6535  81581   116-ZA-T30  FPQ-11828  SCMS-183950  ASN-19166  South Africa   \n",
       "6557  81961   116-ZA-T30  FPQ-11828  SCMS-183950  ASN-19166  South Africa   \n",
       "\n",
       "                     managed by  fulfill via vendor inco term shipment mode  \\\n",
       "2822  South Africa Field Office  Direct Drop              DDP         Truck   \n",
       "2989  South Africa Field Office  Direct Drop              DDP         Truck   \n",
       "3135  South Africa Field Office  Direct Drop              DDP         Truck   \n",
       "3431  South Africa Field Office  Direct Drop              DDP         Truck   \n",
       "3436  South Africa Field Office  Direct Drop              DDP         Truck   \n",
       "3455  South Africa Field Office  Direct Drop              DDP         Truck   \n",
       "3630  South Africa Field Office  Direct Drop              DDP         Truck   \n",
       "3673  South Africa Field Office  Direct Drop              DDP         Truck   \n",
       "3742  South Africa Field Office  Direct Drop              DDP         Truck   \n",
       "3788  South Africa Field Office  Direct Drop              DDP         Truck   \n",
       "3801  South Africa Field Office  Direct Drop              DDP         Truck   \n",
       "3900  South Africa Field Office  Direct Drop              DDP         Truck   \n",
       "4107  South Africa Field Office  Direct Drop              DDP         Truck   \n",
       "4233  South Africa Field Office  Direct Drop              DDP         Truck   \n",
       "4290  South Africa Field Office  Direct Drop              DDP         Truck   \n",
       "4326  South Africa Field Office  Direct Drop              DDP         Truck   \n",
       "4465  South Africa Field Office  Direct Drop              DDP         Truck   \n",
       "4476  South Africa Field Office  Direct Drop              DDP         Truck   \n",
       "4486  South Africa Field Office  Direct Drop              DDP         Truck   \n",
       "4504  South Africa Field Office  Direct Drop              DDP         Truck   \n",
       "4511  South Africa Field Office  Direct Drop              DDP         Truck   \n",
       "4592  South Africa Field Office  Direct Drop              DDP         Truck   \n",
       "4593  South Africa Field Office  Direct Drop              DDP         Truck   \n",
       "4614  South Africa Field Office  Direct Drop              DDP         Truck   \n",
       "4686  South Africa Field Office  Direct Drop              DDP         Truck   \n",
       "4716  South Africa Field Office  Direct Drop              DDP         Truck   \n",
       "4729  South Africa Field Office  Direct Drop              DDP         Truck   \n",
       "4785  South Africa Field Office  Direct Drop              DDP         Truck   \n",
       "4826  South Africa Field Office  Direct Drop              DDP         Truck   \n",
       "4848  South Africa Field Office  Direct Drop              DDP         Truck   \n",
       "4870  South Africa Field Office  Direct Drop              DDP         Truck   \n",
       "4917  South Africa Field Office  Direct Drop              DDP         Truck   \n",
       "4957  South Africa Field Office  Direct Drop              DDP         Truck   \n",
       "4964  South Africa Field Office  Direct Drop              DDP         Truck   \n",
       "4976  South Africa Field Office  Direct Drop              DDP         Truck   \n",
       "4999  South Africa Field Office  Direct Drop              DDP         Truck   \n",
       "5007  South Africa Field Office  Direct Drop              DDP         Truck   \n",
       "5076  South Africa Field Office  Direct Drop              DDP         Truck   \n",
       "5150  South Africa Field Office  Direct Drop              DDP         Truck   \n",
       "5423  South Africa Field Office  Direct Drop              DDP         Truck   \n",
       "5432  South Africa Field Office  Direct Drop              DDP         Truck   \n",
       "5454  South Africa Field Office  Direct Drop              DDP         Truck   \n",
       "5622  South Africa Field Office  Direct Drop              DDP         Truck   \n",
       "5679  South Africa Field Office  Direct Drop              DDP         Truck   \n",
       "5767  South Africa Field Office  Direct Drop              DDP         Truck   \n",
       "5885  South Africa Field Office  Direct Drop              DDP         Truck   \n",
       "5960  South Africa Field Office  Direct Drop              DDP         Truck   \n",
       "5977  South Africa Field Office  Direct Drop              DDP         Truck   \n",
       "5989  South Africa Field Office  Direct Drop              DDP         Truck   \n",
       "6128  South Africa Field Office  Direct Drop              DDP         Truck   \n",
       "6139  South Africa Field Office  Direct Drop              DDP         Truck   \n",
       "6166  South Africa Field Office  Direct Drop              DDP         Truck   \n",
       "6295  South Africa Field Office  Direct Drop              DDP         Truck   \n",
       "6337  South Africa Field Office  Direct Drop              DDP         Truck   \n",
       "6357  South Africa Field Office  Direct Drop              DDP         Truck   \n",
       "6535  South Africa Field Office  Direct Drop              DDP         Truck   \n",
       "6557  South Africa Field Office  Direct Drop              DDP         Truck   \n",
       "\n",
       "      ... unit of measure (per pack) line item quantity line item value  \\\n",
       "2822  ...                         30              1,368       21,995.87   \n",
       "2989  ...                         60                216        5,512.38   \n",
       "3135  ...                         60                 39          746.32   \n",
       "3431  ...                         30             22,333      359,064.74   \n",
       "3436  ...                         60              3,532       41,483.17   \n",
       "3455  ...                        240                 43          317.79   \n",
       "3630  ...                         60                  4           20.72   \n",
       "3673  ...                         60                 45        1,175.15   \n",
       "3742  ...                         30                  2           30.85   \n",
       "3788  ...                         30                 50        1,528.18   \n",
       "3801  ...                        240                212        2,720.61   \n",
       "3900  ...                        240                 25          184.76   \n",
       "4107  ...                         60                 13          242.73   \n",
       "4233  ...                        300                 48        1,199.64   \n",
       "4290  ...                         60                  7           117.6   \n",
       "4326  ...                         30              6,304      129,614.89   \n",
       "4465  ...                        120                 62        1,549.54   \n",
       "4476  ...                         30                621       12,768.22   \n",
       "4486  ...                        240              1,021       23,275.52   \n",
       "4504  ...                         60                  2           36.18   \n",
       "4511  ...                         30                  3           91.69   \n",
       "4592  ...                        240                517        2,812.74   \n",
       "4593  ...                         60                225        4,157.82   \n",
       "4614  ...                         30              7,242      148,900.86   \n",
       "4686  ...                         60                114        7,956.64   \n",
       "4716  ...                         60                265         4,896.7   \n",
       "4729  ...                        240                 42          870.41   \n",
       "4785  ...                         60                  2           31.73   \n",
       "4826  ...                         60              6,658       94,179.41   \n",
       "4848  ...                         30                911       14,646.84   \n",
       "4870  ...                         30                 64          987.12   \n",
       "4917  ...                        240                 91        2,074.51   \n",
       "4957  ...                         90                545       13,007.18   \n",
       "4964  ...                        240                220        7,811.75   \n",
       "4976  ...                         60                 53        1,337.93   \n",
       "4999  ...                         60              1,021        7,656.67   \n",
       "5007  ...                         30                131           398.4   \n",
       "5076  ...                         60              1,152       34,884.66   \n",
       "5150  ...                         30                251        4,996.06   \n",
       "5423  ...                         90                 51        1,217.19   \n",
       "5432  ...                         60                869        5,923.93   \n",
       "5454  ...                         90                257        7,465.87   \n",
       "5622  ...                         60                 45           281.2   \n",
       "5679  ...                        240                145        1,173.68   \n",
       "5767  ...                         60                287         4,059.7   \n",
       "5885  ...                         60                  2           71.35   \n",
       "5960  ...                         60              5,093       94,109.04   \n",
       "5977  ...                        120              1,473       36,814.05   \n",
       "5989  ...                         30                 14          278.66   \n",
       "6128  ...                         60                537       14,023.43   \n",
       "6139  ...                         30              2,146         6,526.5   \n",
       "6166  ...                         60             19,284      144,614.29   \n",
       "6295  ...                        300                  2           49.99   \n",
       "6337  ...                         60                 13          328.17   \n",
       "6357  ...                         60                337        1,357.12   \n",
       "6535  ...                         60                 71          367.73   \n",
       "6557  ...                         60              9,227       37,157.67   \n",
       "\n",
       "     pack price unit price              manufacturing site  \\\n",
       "2822      16.08       0.54               Cipla, Goa, India   \n",
       "2989      25.52       0.43       Aurobindo Unit III, India   \n",
       "3135      19.14       0.32         GSK, U1, Poznan, Poland   \n",
       "3431      16.08       0.54               Cipla, Goa, India   \n",
       "3436      11.74       0.20                   GSK Ware (UK)   \n",
       "3455       7.39       0.03               Cipla, Goa, India   \n",
       "3630       5.18       0.09  Bristol-Myers Squibb Anagni IT   \n",
       "3673      26.11       0.44        Cipla, Patalganga, India   \n",
       "3742      15.42       0.51       Aurobindo Unit III, India   \n",
       "3788      30.56       1.02       Aurobindo Unit III, India   \n",
       "3801      12.83       0.05  Boehringer Ingelheim Roxane US   \n",
       "3900       7.39       0.03               Cipla, Goa, India   \n",
       "4107      18.67       0.31                      GSK Aranda   \n",
       "4233      24.99       0.08       ABBVIE (Abbott) Logis. UK   \n",
       "4290       16.8       0.28         GSK, U1, Poznan, Poland   \n",
       "4326      20.56       0.69               Cipla, Goa, India   \n",
       "4465      24.99       0.21     ABBVIE Ludwigshafen Germany   \n",
       "4476      20.56       0.69       Aurobindo Unit III, India   \n",
       "4486       22.8       0.10        GSK Mississauga (Canada)   \n",
       "4504      18.09       0.30     Boehringer Ing., Koropi, GR   \n",
       "4511      30.56       1.02       Aurobindo Unit III, India   \n",
       "4592       5.44       0.02               Cipla, Goa, India   \n",
       "4593      18.48       0.31     Boehringer Ing., Koropi, GR   \n",
       "4614      20.56       0.69       Aurobindo Unit III, India   \n",
       "4686       69.8       1.16        Cipla, Patalganga, India   \n",
       "4716      18.48       0.31               Cipla, Goa, India   \n",
       "4729      20.72       0.09        GSK Mississauga (Canada)   \n",
       "4785      15.86       0.26                      GSK Aranda   \n",
       "4826      14.15       0.24               Cipla, Goa, India   \n",
       "4848      16.08       0.54               Cipla, Goa, India   \n",
       "4870      15.42       0.51       Aurobindo Unit III, India   \n",
       "4917       22.8       0.10        GSK Mississauga (Canada)   \n",
       "4957      23.87       0.27       Aurobindo Unit III, India   \n",
       "4964      35.51       0.15        GSK Mississauga (Canada)   \n",
       "4976      25.24       0.42       Aurobindo Unit III, India   \n",
       "4999        7.5       0.12                   GSK Ware (UK)   \n",
       "5007       3.04       0.10       Aurobindo Unit III, India   \n",
       "5076      30.28       0.50               Cipla, Goa, India   \n",
       "5150       19.9       0.66       Aurobindo Unit III, India   \n",
       "5423      23.87       0.27       Aurobindo Unit III, India   \n",
       "5432       6.82       0.11                   GSK Ware (UK)   \n",
       "5454      29.05       0.32       Aurobindo Unit III, India   \n",
       "5622       6.25       0.10     ABBVIE Ludwigshafen Germany   \n",
       "5679       8.09       0.03       Aurobindo Unit III, India   \n",
       "5767      14.15       0.24               Cipla, Goa, India   \n",
       "5885      35.67       0.59         GSK, U1, Poznan, Poland   \n",
       "5960      18.48       0.31               Cipla, Goa, India   \n",
       "5977      24.99       0.21     ABBVIE Ludwigshafen Germany   \n",
       "5989       19.9       0.66       Aurobindo Unit III, India   \n",
       "6128      26.11       0.44        Cipla, Patalganga, India   \n",
       "6139       3.04       0.10       Aurobindo Unit III, India   \n",
       "6166        7.5       0.12                   GSK Ware (UK)   \n",
       "6295         25       0.08       ABBVIE (Abbott) Logis. UK   \n",
       "6337      25.24       0.42       Aurobindo Unit III, India   \n",
       "6357       4.03       0.07       Aurobindo Unit III, India   \n",
       "6535       5.18       0.09  Bristol-Myers Squibb Anagni IT   \n",
       "6557       4.03       0.07       Aurobindo Unit III, India   \n",
       "\n",
       "     first line designation          weight (kilograms)  \\\n",
       "2822                   True  Weight Captured Separately   \n",
       "2989                  False  Weight Captured Separately   \n",
       "3135                  False  Weight Captured Separately   \n",
       "3431                  False  Weight Captured Separately   \n",
       "3436                  False  Weight Captured Separately   \n",
       "3455                  False  Weight Captured Separately   \n",
       "3630                  False  Weight Captured Separately   \n",
       "3673                  False  Weight Captured Separately   \n",
       "3742                  False  Weight Captured Separately   \n",
       "3788                  False  Weight Captured Separately   \n",
       "3801                  False  Weight Captured Separately   \n",
       "3900                   True  Weight Captured Separately   \n",
       "4107                  False  Weight Captured Separately   \n",
       "4233                   True  Weight Captured Separately   \n",
       "4290                  False  Weight Captured Separately   \n",
       "4326                  False  Weight Captured Separately   \n",
       "4465                  False  Weight Captured Separately   \n",
       "4476                  False  Weight Captured Separately   \n",
       "4486                  False  Weight Captured Separately   \n",
       "4504                  False  Weight Captured Separately   \n",
       "4511                  False  Weight Captured Separately   \n",
       "4592                  False  Weight Captured Separately   \n",
       "4593                  False  Weight Captured Separately   \n",
       "4614                  False  Weight Captured Separately   \n",
       "4686                  False  Weight Captured Separately   \n",
       "4716                  False  Weight Captured Separately   \n",
       "4729                  False  Weight Captured Separately   \n",
       "4785                  False  Weight Captured Separately   \n",
       "4826                  False  Weight Captured Separately   \n",
       "4848                  False  Weight Captured Separately   \n",
       "4870                  False  Weight Captured Separately   \n",
       "4917                  False  Weight Captured Separately   \n",
       "4957                  False  Weight Captured Separately   \n",
       "4964                  False  Weight Captured Separately   \n",
       "4976                  False  Weight Captured Separately   \n",
       "4999                  False  Weight Captured Separately   \n",
       "5007                  False  Weight Captured Separately   \n",
       "5076                  False  Weight Captured Separately   \n",
       "5150                  False  Weight Captured Separately   \n",
       "5423                  False  Weight Captured Separately   \n",
       "5432                  False  Weight Captured Separately   \n",
       "5454                  False  Weight Captured Separately   \n",
       "5622                  False  Weight Captured Separately   \n",
       "5679                  False  Weight Captured Separately   \n",
       "5767                  False  Weight Captured Separately   \n",
       "5885                  False  Weight Captured Separately   \n",
       "5960                  False  Weight Captured Separately   \n",
       "5977                  False  Weight Captured Separately   \n",
       "5989                  False  Weight Captured Separately   \n",
       "6128                  False  Weight Captured Separately   \n",
       "6139                  False  Weight Captured Separately   \n",
       "6166                  False  Weight Captured Separately   \n",
       "6295                  False  Weight Captured Separately   \n",
       "6337                  False  Weight Captured Separately   \n",
       "6357                  False  Weight Captured Separately   \n",
       "6535                  False  Weight Captured Separately   \n",
       "6557                  False  Weight Captured Separately   \n",
       "\n",
       "                      freight cost (usd) line item insurance (usd)  \n",
       "2822  Freight Included in Commodity Cost                     27.21  \n",
       "2989  Freight Included in Commodity Cost                      6.82  \n",
       "3135  Freight Included in Commodity Cost                      0.92  \n",
       "3431  Freight Included in Commodity Cost                    444.16  \n",
       "3436  Freight Included in Commodity Cost                     51.31  \n",
       "3455  Freight Included in Commodity Cost                      0.39  \n",
       "3630  Freight Included in Commodity Cost                      0.03  \n",
       "3673  Freight Included in Commodity Cost                      1.45  \n",
       "3742  Freight Included in Commodity Cost                      0.04  \n",
       "3788  Freight Included in Commodity Cost                      1.89  \n",
       "3801  Freight Included in Commodity Cost                      3.37  \n",
       "3900  Freight Included in Commodity Cost                      0.23  \n",
       "4107  Freight Included in Commodity Cost                       0.3  \n",
       "4233  Freight Included in Commodity Cost                      1.48  \n",
       "4290  Freight Included in Commodity Cost                      0.15  \n",
       "4326  Freight Included in Commodity Cost                    160.33  \n",
       "4465  Freight Included in Commodity Cost                      1.92  \n",
       "4476  Freight Included in Commodity Cost                     15.79  \n",
       "4486  Freight Included in Commodity Cost                     28.79  \n",
       "4504  Freight Included in Commodity Cost                      0.04  \n",
       "4511  Freight Included in Commodity Cost                      0.11  \n",
       "4592  Freight Included in Commodity Cost                      3.48  \n",
       "4593  Freight Included in Commodity Cost                      5.14  \n",
       "4614  Freight Included in Commodity Cost                    184.19  \n",
       "4686  Freight Included in Commodity Cost                      9.84  \n",
       "4716  Freight Included in Commodity Cost                      6.06  \n",
       "4729  Freight Included in Commodity Cost                      1.08  \n",
       "4785  Freight Included in Commodity Cost                      0.04  \n",
       "4826  Freight Included in Commodity Cost                     116.5  \n",
       "4848  Freight Included in Commodity Cost                     18.12  \n",
       "4870  Freight Included in Commodity Cost                      1.22  \n",
       "4917  Freight Included in Commodity Cost                      2.57  \n",
       "4957  Freight Included in Commodity Cost                     16.09  \n",
       "4964  Freight Included in Commodity Cost                      9.66  \n",
       "4976  Freight Included in Commodity Cost                      1.66  \n",
       "4999  Freight Included in Commodity Cost                      9.47  \n",
       "5007  Freight Included in Commodity Cost                      0.49  \n",
       "5076  Freight Included in Commodity Cost                     43.15  \n",
       "5150  Freight Included in Commodity Cost                      6.18  \n",
       "5423  Freight Included in Commodity Cost                      1.51  \n",
       "5432  Freight Included in Commodity Cost                      7.33  \n",
       "5454  Freight Included in Commodity Cost                      9.24  \n",
       "5622  Freight Included in Commodity Cost                      0.35  \n",
       "5679  Freight Included in Commodity Cost                      1.45  \n",
       "5767  Freight Included in Commodity Cost                      5.02  \n",
       "5885  Freight Included in Commodity Cost                      0.09  \n",
       "5960  Freight Included in Commodity Cost                    116.41  \n",
       "5977  Freight Included in Commodity Cost                     45.54  \n",
       "5989  Freight Included in Commodity Cost                      0.34  \n",
       "6128  Freight Included in Commodity Cost                     17.35  \n",
       "6139  Freight Included in Commodity Cost                      8.07  \n",
       "6166  Freight Included in Commodity Cost                    178.89  \n",
       "6295  Freight Included in Commodity Cost                      0.06  \n",
       "6337  Freight Included in Commodity Cost                      0.41  \n",
       "6357  Freight Included in Commodity Cost                      1.68  \n",
       "6535  Freight Included in Commodity Cost                      0.45  \n",
       "6557  Freight Included in Commodity Cost                     45.96  \n",
       "\n",
       "[57 rows x 33 columns]"
      ]
     },
     "execution_count": 88,
     "metadata": {},
     "output_type": "execute_result"
    }
   ],
   "source": [
    "df[df['managed by']=='South Africa Field Office']"
   ]
  },
  {
   "cell_type": "code",
   "execution_count": 90,
   "metadata": {},
   "outputs": [
    {
     "data": {
      "text/html": [
       "<div>\n",
       "<style scoped>\n",
       "    .dataframe tbody tr th:only-of-type {\n",
       "        vertical-align: middle;\n",
       "    }\n",
       "\n",
       "    .dataframe tbody tr th {\n",
       "        vertical-align: top;\n",
       "    }\n",
       "\n",
       "    .dataframe thead th {\n",
       "        text-align: right;\n",
       "    }\n",
       "</style>\n",
       "<table border=\"1\" class=\"dataframe\">\n",
       "  <thead>\n",
       "    <tr style=\"text-align: right;\">\n",
       "      <th></th>\n",
       "      <th>id</th>\n",
       "      <th>project code</th>\n",
       "      <th>pq #</th>\n",
       "      <th>po / so #</th>\n",
       "      <th>asn/dn #</th>\n",
       "      <th>country</th>\n",
       "      <th>managed by</th>\n",
       "      <th>fulfill via</th>\n",
       "      <th>vendor inco term</th>\n",
       "      <th>shipment mode</th>\n",
       "      <th>...</th>\n",
       "      <th>unit of measure (per pack)</th>\n",
       "      <th>line item quantity</th>\n",
       "      <th>line item value</th>\n",
       "      <th>pack price</th>\n",
       "      <th>unit price</th>\n",
       "      <th>manufacturing site</th>\n",
       "      <th>first line designation</th>\n",
       "      <th>weight (kilograms)</th>\n",
       "      <th>freight cost (usd)</th>\n",
       "      <th>line item insurance (usd)</th>\n",
       "    </tr>\n",
       "  </thead>\n",
       "  <tbody>\n",
       "    <tr>\n",
       "      <td>5835</td>\n",
       "      <td>68998</td>\n",
       "      <td>117-ET-T30</td>\n",
       "      <td>FPQ-4981</td>\n",
       "      <td>SCMS-65780</td>\n",
       "      <td>ASN-6734</td>\n",
       "      <td>Ethiopia</td>\n",
       "      <td>Ethiopia Field Office</td>\n",
       "      <td>Direct Drop</td>\n",
       "      <td>DDP</td>\n",
       "      <td>Truck</td>\n",
       "      <td>...</td>\n",
       "      <td>20</td>\n",
       "      <td>8</td>\n",
       "      <td>440.44</td>\n",
       "      <td>55.06</td>\n",
       "      <td>2.75</td>\n",
       "      <td>Trinity Biotech, Plc</td>\n",
       "      <td>True</td>\n",
       "      <td>Weight Captured Separately</td>\n",
       "      <td>Freight Included in Commodity Cost</td>\n",
       "      <td>0.95</td>\n",
       "    </tr>\n",
       "  </tbody>\n",
       "</table>\n",
       "<p>1 rows × 33 columns</p>\n",
       "</div>"
      ],
      "text/plain": [
       "         id project code      pq #   po / so #  asn/dn #   country  \\\n",
       "5835  68998   117-ET-T30  FPQ-4981  SCMS-65780  ASN-6734  Ethiopia   \n",
       "\n",
       "                 managed by  fulfill via vendor inco term shipment mode  ...  \\\n",
       "5835  Ethiopia Field Office  Direct Drop              DDP         Truck  ...   \n",
       "\n",
       "     unit of measure (per pack) line item quantity line item value pack price  \\\n",
       "5835                         20                  8          440.44      55.06   \n",
       "\n",
       "     unit price    manufacturing site first line designation  \\\n",
       "5835       2.75  Trinity Biotech, Plc                   True   \n",
       "\n",
       "              weight (kilograms)                  freight cost (usd)  \\\n",
       "5835  Weight Captured Separately  Freight Included in Commodity Cost   \n",
       "\n",
       "     line item insurance (usd)  \n",
       "5835                      0.95  \n",
       "\n",
       "[1 rows x 33 columns]"
      ]
     },
     "execution_count": 90,
     "metadata": {},
     "output_type": "execute_result"
    }
   ],
   "source": [
    "df[df['managed by']=='Ethiopia Field Office']"
   ]
  },
  {
   "cell_type": "code",
   "execution_count": null,
   "metadata": {},
   "outputs": [],
   "source": []
  },
  {
   "cell_type": "markdown",
   "metadata": {},
   "source": [
    "# Column 8 - fullfill via"
   ]
  },
  {
   "cell_type": "markdown",
   "metadata": {},
   "source": [
    "## Method through which the shipment was fulfilled: via Direct Drop from vendor or from stock available in the RDCs (regional distrbn centre) "
   ]
  },
  {
   "cell_type": "code",
   "execution_count": 91,
   "metadata": {},
   "outputs": [
    {
     "data": {
      "text/plain": [
       "2"
      ]
     },
     "execution_count": 91,
     "metadata": {},
     "output_type": "execute_result"
    }
   ],
   "source": [
    "df['fulfill via'].nunique()"
   ]
  },
  {
   "cell_type": "code",
   "execution_count": 92,
   "metadata": {},
   "outputs": [
    {
     "data": {
      "text/plain": [
       "fulfill via\n",
       "Direct Drop    4920\n",
       "From RDC       5404\n",
       "Name: id, dtype: int64"
      ]
     },
     "execution_count": 92,
     "metadata": {},
     "output_type": "execute_result"
    }
   ],
   "source": [
    "df.groupby(df['fulfill via'])['id'].count()"
   ]
  },
  {
   "cell_type": "code",
   "execution_count": 93,
   "metadata": {},
   "outputs": [
    {
     "data": {
      "image/png": "[encoded data removed]",
      "text/plain": [
       "<Figure size 432x288 with 1 Axes>"
      ]
     },
     "metadata": {
      "needs_background": "light"
     },
     "output_type": "display_data"
    }
   ],
   "source": [
    "plt.bar(['Direct Drop', 'From RDC'], [4920, 5404])\n",
    "plt.show()"
   ]
  },
  {
   "cell_type": "code",
   "execution_count": 94,
   "metadata": {},
   "outputs": [
    {
     "data": {
      "text/plain": [
       "0"
      ]
     },
     "execution_count": 94,
     "metadata": {},
     "output_type": "execute_result"
    }
   ],
   "source": [
    "df['fulfill via'].isnull().sum()"
   ]
  },
  {
   "cell_type": "code",
   "execution_count": 153,
   "metadata": {},
   "outputs": [],
   "source": [
    "df1 = pd.DataFrame(df.groupby(['fulfill via', 'country'])['id'].count())"
   ]
  },
  {
   "cell_type": "markdown",
   "metadata": {},
   "source": [
    "## Need to present properly"
   ]
  },
  {
   "cell_type": "code",
   "execution_count": 164,
   "metadata": {},
   "outputs": [
    {
     "data": {
      "text/html": [
       "<div>\n",
       "<style scoped>\n",
       "    .dataframe tbody tr th:only-of-type {\n",
       "        vertical-align: middle;\n",
       "    }\n",
       "\n",
       "    .dataframe tbody tr th {\n",
       "        vertical-align: top;\n",
       "    }\n",
       "\n",
       "    .dataframe thead th {\n",
       "        text-align: right;\n",
       "    }\n",
       "</style>\n",
       "<table border=\"1\" class=\"dataframe\">\n",
       "  <thead>\n",
       "    <tr style=\"text-align: right;\">\n",
       "      <th></th>\n",
       "      <th></th>\n",
       "      <th>id</th>\n",
       "    </tr>\n",
       "    <tr>\n",
       "      <th>fulfill via</th>\n",
       "      <th>country</th>\n",
       "      <th></th>\n",
       "    </tr>\n",
       "  </thead>\n",
       "  <tbody>\n",
       "    <tr>\n",
       "      <td rowspan=\"5\" valign=\"top\">Direct Drop</td>\n",
       "      <td>Afghanistan</td>\n",
       "      <td>3</td>\n",
       "    </tr>\n",
       "    <tr>\n",
       "      <td>Angola</td>\n",
       "      <td>4</td>\n",
       "    </tr>\n",
       "    <tr>\n",
       "      <td>Benin</td>\n",
       "      <td>4</td>\n",
       "    </tr>\n",
       "    <tr>\n",
       "      <td>Botswana</td>\n",
       "      <td>63</td>\n",
       "    </tr>\n",
       "    <tr>\n",
       "      <td>Burkina Faso</td>\n",
       "      <td>2</td>\n",
       "    </tr>\n",
       "  </tbody>\n",
       "</table>\n",
       "</div>"
      ],
      "text/plain": [
       "                          id\n",
       "fulfill via country         \n",
       "Direct Drop Afghanistan    3\n",
       "            Angola         4\n",
       "            Benin          4\n",
       "            Botswana      63\n",
       "            Burkina Faso   2"
      ]
     },
     "execution_count": 164,
     "metadata": {},
     "output_type": "execute_result"
    }
   ],
   "source": [
    "df1.head()"
   ]
  },
  {
   "cell_type": "code",
   "execution_count": null,
   "metadata": {},
   "outputs": [],
   "source": []
  },
  {
   "cell_type": "markdown",
   "metadata": {},
   "source": [
    "# Column 9 - Vendor Inco term"
   ]
  },
  {
   "cell_type": "markdown",
   "metadata": {},
   "source": [
    "## The vendor INCO term (also known as International Commercial Terms) for Direct Drop deliveries, Not applicable for from RDC deliveries (\"NA - From RDC\")"
   ]
  },
  {
   "cell_type": "markdown",
   "metadata": {},
   "source": [
    "### Incoterms, a widely-used terms of sale, are a set of 11 internationally recognized rules which define the responsibilities of sellers and buyers. Incoterms specifies who is responsible for paying for and managing the shipment, insurance, documentation, customs clearance, and other logistical activities."
   ]
  },
  {
   "cell_type": "markdown",
   "metadata": {},
   "source": [
    "The seven Incoterms® 2020 rules for any mode(s) of transport are: \n",
    "\n",
    "    EXW - Ex Works (insert place of delivery)\n",
    "\n",
    "    FCA  - Free Carrier (Insert named place of delivery) \n",
    "\n",
    "    CPT  - Carriage Paid to (insert place of destination) \n",
    "\n",
    "    CIP -  Carriage and Insurance Paid To (insert place of destination)  \n",
    "\n",
    "    DAP - Delivered at Place (insert named place of destination)  \n",
    "\n",
    "    DPU - Delivered at Place Unloaded (insert of place of destination)  \n",
    "\n",
    "    DDP - Delivered Duty Paid (Insert place of destination).  "
   ]
  },
  {
   "cell_type": "code",
   "execution_count": 165,
   "metadata": {},
   "outputs": [
    {
     "data": {
      "text/plain": [
       "8"
      ]
     },
     "execution_count": 165,
     "metadata": {},
     "output_type": "execute_result"
    }
   ],
   "source": [
    "df['vendor inco term'].nunique()"
   ]
  },
  {
   "cell_type": "code",
   "execution_count": 166,
   "metadata": {},
   "outputs": [
    {
     "data": {
      "text/plain": [
       "array(['EXW', 'FCA', 'DDU', 'CIP', 'DDP', 'CIF', 'N/A - From RDC', 'DAP'],\n",
       "      dtype=object)"
      ]
     },
     "execution_count": 166,
     "metadata": {},
     "output_type": "execute_result"
    }
   ],
   "source": [
    "df['vendor inco term'].unique()"
   ]
  },
  {
   "cell_type": "code",
   "execution_count": 167,
   "metadata": {},
   "outputs": [
    {
     "data": {
      "text/plain": [
       "0"
      ]
     },
     "execution_count": 167,
     "metadata": {},
     "output_type": "execute_result"
    }
   ],
   "source": [
    "df['vendor inco term'].isnull().sum()"
   ]
  },
  {
   "cell_type": "code",
   "execution_count": 170,
   "metadata": {
    "scrolled": false
   },
   "outputs": [
    {
     "data": {
      "text/plain": [
       "vendor inco term\n",
       "CIF                  3\n",
       "CIP                275\n",
       "DAP                  9\n",
       "DDP               1443\n",
       "DDU                 15\n",
       "EXW               2778\n",
       "FCA                397\n",
       "N/A - From RDC    5404\n",
       "Name: id, dtype: int64"
      ]
     },
     "execution_count": 170,
     "metadata": {},
     "output_type": "execute_result"
    }
   ],
   "source": [
    "df.groupby('vendor inco term')['id'].count()"
   ]
  },
  {
   "cell_type": "code",
   "execution_count": 171,
   "metadata": {},
   "outputs": [
    {
     "data": {
      "image/png": "[encoded data removed]",
      "text/plain": [
       "<Figure size 432x288 with 1 Axes>"
      ]
     },
     "metadata": {
      "needs_background": "light"
     },
     "output_type": "display_data"
    }
   ],
   "source": [
    "plt.bar(['CIF', 'CIP','DAP','DDP','DDU','EXW','FCA','NA'], [3,275,9,1443,15,2778,397,5404])\n",
    "plt.show()"
   ]
  },
  {
   "cell_type": "markdown",
   "metadata": {},
   "source": [
    "# Column 10 - Shipment mode"
   ]
  },
  {
   "cell_type": "markdown",
   "metadata": {},
   "source": [
    "## Method by which commodities are shipped"
   ]
  },
  {
   "cell_type": "code",
   "execution_count": 181,
   "metadata": {
    "scrolled": true
   },
   "outputs": [
    {
     "data": {
      "text/plain": [
       "360"
      ]
     },
     "execution_count": 181,
     "metadata": {},
     "output_type": "execute_result"
    }
   ],
   "source": [
    "df['shipment mode'].isnull().sum()"
   ]
  },
  {
   "cell_type": "markdown",
   "metadata": {},
   "source": [
    "## List of country with total no. of null values"
   ]
  },
  {
   "cell_type": "code",
   "execution_count": 213,
   "metadata": {},
   "outputs": [
    {
     "data": {
      "text/plain": [
       "country\n",
       "Botswana           3\n",
       "Côte d'Ivoire    113\n",
       "Ethiopia          18\n",
       "Guyana             5\n",
       "Haiti              2\n",
       "Namibia            2\n",
       "Nigeria           36\n",
       "South Africa      42\n",
       "Tanzania          20\n",
       "Uganda             8\n",
       "Zambia            99\n",
       "Zimbabwe          12\n",
       "Name: id, dtype: int64"
      ]
     },
     "execution_count": 213,
     "metadata": {},
     "output_type": "execute_result"
    }
   ],
   "source": [
    "df[df['shipment mode'].isnull()].groupby('country')['id'].count()"
   ]
  },
  {
   "cell_type": "code",
   "execution_count": 176,
   "metadata": {},
   "outputs": [
    {
     "data": {
      "text/plain": [
       "4"
      ]
     },
     "execution_count": 176,
     "metadata": {},
     "output_type": "execute_result"
    }
   ],
   "source": [
    "df['shipment mode'].nunique()"
   ]
  },
  {
   "cell_type": "code",
   "execution_count": 177,
   "metadata": {},
   "outputs": [
    {
     "data": {
      "text/plain": [
       "array(['Air', nan, 'Truck', 'Air Charter', 'Ocean'], dtype=object)"
      ]
     },
     "execution_count": 177,
     "metadata": {},
     "output_type": "execute_result"
    }
   ],
   "source": [
    "df['shipment mode'].unique()"
   ]
  },
  {
   "cell_type": "code",
   "execution_count": 180,
   "metadata": {
    "scrolled": true
   },
   "outputs": [
    {
     "data": {
      "text/plain": [
       "shipment mode\n",
       "Air            6113\n",
       "Air Charter     650\n",
       "Ocean           371\n",
       "Truck          2830\n",
       "Name: id, dtype: int64"
      ]
     },
     "execution_count": 180,
     "metadata": {},
     "output_type": "execute_result"
    }
   ],
   "source": [
    "df.groupby(['shipment mode'])['id'].count()"
   ]
  },
  {
   "cell_type": "markdown",
   "metadata": {},
   "source": [
    "## Transportation mode"
   ]
  },
  {
   "cell_type": "code",
   "execution_count": 208,
   "metadata": {},
   "outputs": [
    {
     "data": {
      "image/png": "[encoded data removed]",
      "text/plain": [
       "<Figure size 432x288 with 1 Axes>"
      ]
     },
     "metadata": {
      "needs_background": "light"
     },
     "output_type": "display_data"
    }
   ],
   "source": [
    "plt.bar(['air', 'air charter', 'ocean', 'Truck'],[6113,650,371,2830])\n",
    "plt.show()"
   ]
  },
  {
   "cell_type": "code",
   "execution_count": 191,
   "metadata": {},
   "outputs": [],
   "source": [
    "df3 = pd.DataFrame(df.groupby(['country','shipment mode'])['id'].count(), columns=['id'])"
   ]
  },
  {
   "cell_type": "code",
   "execution_count": 195,
   "metadata": {},
   "outputs": [
    {
     "data": {
      "text/plain": [
       "(85, 1)"
      ]
     },
     "execution_count": 195,
     "metadata": {},
     "output_type": "execute_result"
    }
   ],
   "source": [
    "df3.shape"
   ]
  },
  {
   "cell_type": "code",
   "execution_count": 303,
   "metadata": {
    "scrolled": true
   },
   "outputs": [
    {
     "data": {
      "text/html": [
       "<div>\n",
       "<style scoped>\n",
       "    .dataframe tbody tr th:only-of-type {\n",
       "        vertical-align: middle;\n",
       "    }\n",
       "\n",
       "    .dataframe tbody tr th {\n",
       "        vertical-align: top;\n",
       "    }\n",
       "\n",
       "    .dataframe thead th {\n",
       "        text-align: right;\n",
       "    }\n",
       "</style>\n",
       "<table border=\"1\" class=\"dataframe\">\n",
       "  <thead>\n",
       "    <tr style=\"text-align: right;\">\n",
       "      <th></th>\n",
       "      <th></th>\n",
       "      <th>id</th>\n",
       "    </tr>\n",
       "    <tr>\n",
       "      <th>country</th>\n",
       "      <th>shipment mode</th>\n",
       "      <th></th>\n",
       "    </tr>\n",
       "  </thead>\n",
       "  <tbody>\n",
       "    <tr>\n",
       "      <td>Afghanistan</td>\n",
       "      <td>Air</td>\n",
       "      <td>3</td>\n",
       "    </tr>\n",
       "    <tr>\n",
       "      <td rowspan=\"2\" valign=\"top\">Angola</td>\n",
       "      <td>Air</td>\n",
       "      <td>5</td>\n",
       "    </tr>\n",
       "    <tr>\n",
       "      <td>Truck</td>\n",
       "      <td>2</td>\n",
       "    </tr>\n",
       "    <tr>\n",
       "      <td>Belize</td>\n",
       "      <td>Air</td>\n",
       "      <td>1</td>\n",
       "    </tr>\n",
       "    <tr>\n",
       "      <td>Benin</td>\n",
       "      <td>Air</td>\n",
       "      <td>13</td>\n",
       "    </tr>\n",
       "    <tr>\n",
       "      <td rowspan=\"2\" valign=\"top\">Botswana</td>\n",
       "      <td>Air</td>\n",
       "      <td>63</td>\n",
       "    </tr>\n",
       "    <tr>\n",
       "      <td>Truck</td>\n",
       "      <td>4</td>\n",
       "    </tr>\n",
       "    <tr>\n",
       "      <td>Burkina Faso</td>\n",
       "      <td>Air</td>\n",
       "      <td>2</td>\n",
       "    </tr>\n",
       "    <tr>\n",
       "      <td>Burundi</td>\n",
       "      <td>Air</td>\n",
       "      <td>98</td>\n",
       "    </tr>\n",
       "    <tr>\n",
       "      <td rowspan=\"2\" valign=\"top\">Cameroon</td>\n",
       "      <td>Air</td>\n",
       "      <td>61</td>\n",
       "    </tr>\n",
       "    <tr>\n",
       "      <td>Air Charter</td>\n",
       "      <td>14</td>\n",
       "    </tr>\n",
       "    <tr>\n",
       "      <td rowspan=\"2\" valign=\"top\">Congo, DRC</td>\n",
       "      <td>Air</td>\n",
       "      <td>331</td>\n",
       "    </tr>\n",
       "    <tr>\n",
       "      <td>Truck</td>\n",
       "      <td>2</td>\n",
       "    </tr>\n",
       "    <tr>\n",
       "      <td rowspan=\"4\" valign=\"top\">Côte d'Ivoire</td>\n",
       "      <td>Air</td>\n",
       "      <td>682</td>\n",
       "    </tr>\n",
       "    <tr>\n",
       "      <td>Air Charter</td>\n",
       "      <td>5</td>\n",
       "    </tr>\n",
       "    <tr>\n",
       "      <td>Ocean</td>\n",
       "      <td>5</td>\n",
       "    </tr>\n",
       "    <tr>\n",
       "      <td>Truck</td>\n",
       "      <td>278</td>\n",
       "    </tr>\n",
       "    <tr>\n",
       "      <td rowspan=\"2\" valign=\"top\">Dominican Republic</td>\n",
       "      <td>Air</td>\n",
       "      <td>49</td>\n",
       "    </tr>\n",
       "    <tr>\n",
       "      <td>Truck</td>\n",
       "      <td>3</td>\n",
       "    </tr>\n",
       "    <tr>\n",
       "      <td rowspan=\"3\" valign=\"top\">Ethiopia</td>\n",
       "      <td>Air</td>\n",
       "      <td>194</td>\n",
       "    </tr>\n",
       "    <tr>\n",
       "      <td>Ocean</td>\n",
       "      <td>1</td>\n",
       "    </tr>\n",
       "    <tr>\n",
       "      <td>Truck</td>\n",
       "      <td>3</td>\n",
       "    </tr>\n",
       "    <tr>\n",
       "      <td rowspan=\"3\" valign=\"top\">Ghana</td>\n",
       "      <td>Air</td>\n",
       "      <td>43</td>\n",
       "    </tr>\n",
       "    <tr>\n",
       "      <td>Ocean</td>\n",
       "      <td>2</td>\n",
       "    </tr>\n",
       "    <tr>\n",
       "      <td>Truck</td>\n",
       "      <td>13</td>\n",
       "    </tr>\n",
       "    <tr>\n",
       "      <td>Guatemala</td>\n",
       "      <td>Air</td>\n",
       "      <td>15</td>\n",
       "    </tr>\n",
       "    <tr>\n",
       "      <td>Guinea</td>\n",
       "      <td>Air</td>\n",
       "      <td>1</td>\n",
       "    </tr>\n",
       "    <tr>\n",
       "      <td rowspan=\"2\" valign=\"top\">Guyana</td>\n",
       "      <td>Air</td>\n",
       "      <td>229</td>\n",
       "    </tr>\n",
       "    <tr>\n",
       "      <td>Truck</td>\n",
       "      <td>3</td>\n",
       "    </tr>\n",
       "    <tr>\n",
       "      <td rowspan=\"4\" valign=\"top\">Haiti</td>\n",
       "      <td>Air</td>\n",
       "      <td>560</td>\n",
       "    </tr>\n",
       "    <tr>\n",
       "      <td>Air Charter</td>\n",
       "      <td>4</td>\n",
       "    </tr>\n",
       "    <tr>\n",
       "      <td>Ocean</td>\n",
       "      <td>83</td>\n",
       "    </tr>\n",
       "    <tr>\n",
       "      <td>Truck</td>\n",
       "      <td>6</td>\n",
       "    </tr>\n",
       "    <tr>\n",
       "      <td>Kazakhstan</td>\n",
       "      <td>Air</td>\n",
       "      <td>2</td>\n",
       "    </tr>\n",
       "    <tr>\n",
       "      <td rowspan=\"2\" valign=\"top\">Kenya</td>\n",
       "      <td>Air</td>\n",
       "      <td>82</td>\n",
       "    </tr>\n",
       "    <tr>\n",
       "      <td>Truck</td>\n",
       "      <td>29</td>\n",
       "    </tr>\n",
       "    <tr>\n",
       "      <td>Kyrgyzstan</td>\n",
       "      <td>Air</td>\n",
       "      <td>2</td>\n",
       "    </tr>\n",
       "    <tr>\n",
       "      <td>Lebanon</td>\n",
       "      <td>Air</td>\n",
       "      <td>8</td>\n",
       "    </tr>\n",
       "    <tr>\n",
       "      <td>Lesotho</td>\n",
       "      <td>Air</td>\n",
       "      <td>4</td>\n",
       "    </tr>\n",
       "    <tr>\n",
       "      <td>Liberia</td>\n",
       "      <td>Air</td>\n",
       "      <td>6</td>\n",
       "    </tr>\n",
       "    <tr>\n",
       "      <td>Libya</td>\n",
       "      <td>Air</td>\n",
       "      <td>8</td>\n",
       "    </tr>\n",
       "    <tr>\n",
       "      <td rowspan=\"2\" valign=\"top\">Malawi</td>\n",
       "      <td>Air</td>\n",
       "      <td>10</td>\n",
       "    </tr>\n",
       "    <tr>\n",
       "      <td>Ocean</td>\n",
       "      <td>4</td>\n",
       "    </tr>\n",
       "    <tr>\n",
       "      <td>Mali</td>\n",
       "      <td>Air</td>\n",
       "      <td>17</td>\n",
       "    </tr>\n",
       "    <tr>\n",
       "      <td rowspan=\"3\" valign=\"top\">Mozambique</td>\n",
       "      <td>Air</td>\n",
       "      <td>290</td>\n",
       "    </tr>\n",
       "    <tr>\n",
       "      <td>Ocean</td>\n",
       "      <td>4</td>\n",
       "    </tr>\n",
       "    <tr>\n",
       "      <td>Truck</td>\n",
       "      <td>337</td>\n",
       "    </tr>\n",
       "    <tr>\n",
       "      <td rowspan=\"2\" valign=\"top\">Namibia</td>\n",
       "      <td>Air</td>\n",
       "      <td>87</td>\n",
       "    </tr>\n",
       "    <tr>\n",
       "      <td>Truck</td>\n",
       "      <td>6</td>\n",
       "    </tr>\n",
       "    <tr>\n",
       "      <td rowspan=\"4\" valign=\"top\">Nigeria</td>\n",
       "      <td>Air</td>\n",
       "      <td>547</td>\n",
       "    </tr>\n",
       "    <tr>\n",
       "      <td>Air Charter</td>\n",
       "      <td>608</td>\n",
       "    </tr>\n",
       "    <tr>\n",
       "      <td>Ocean</td>\n",
       "      <td>1</td>\n",
       "    </tr>\n",
       "    <tr>\n",
       "      <td>Truck</td>\n",
       "      <td>2</td>\n",
       "    </tr>\n",
       "    <tr>\n",
       "      <td>Pakistan</td>\n",
       "      <td>Air</td>\n",
       "      <td>15</td>\n",
       "    </tr>\n",
       "    <tr>\n",
       "      <td rowspan=\"4\" valign=\"top\">Rwanda</td>\n",
       "      <td>Air</td>\n",
       "      <td>338</td>\n",
       "    </tr>\n",
       "    <tr>\n",
       "      <td>Air Charter</td>\n",
       "      <td>1</td>\n",
       "    </tr>\n",
       "    <tr>\n",
       "      <td>Ocean</td>\n",
       "      <td>20</td>\n",
       "    </tr>\n",
       "    <tr>\n",
       "      <td>Truck</td>\n",
       "      <td>71</td>\n",
       "    </tr>\n",
       "    <tr>\n",
       "      <td>Senegal</td>\n",
       "      <td>Air</td>\n",
       "      <td>3</td>\n",
       "    </tr>\n",
       "    <tr>\n",
       "      <td>Sierra Leone</td>\n",
       "      <td>Air</td>\n",
       "      <td>4</td>\n",
       "    </tr>\n",
       "  </tbody>\n",
       "</table>\n",
       "</div>"
      ],
      "text/plain": [
       "                                   id\n",
       "country            shipment mode     \n",
       "Afghanistan        Air              3\n",
       "Angola             Air              5\n",
       "                   Truck            2\n",
       "Belize             Air              1\n",
       "Benin              Air             13\n",
       "Botswana           Air             63\n",
       "                   Truck            4\n",
       "Burkina Faso       Air              2\n",
       "Burundi            Air             98\n",
       "Cameroon           Air             61\n",
       "                   Air Charter     14\n",
       "Congo, DRC         Air            331\n",
       "                   Truck            2\n",
       "Côte d'Ivoire      Air            682\n",
       "                   Air Charter      5\n",
       "                   Ocean            5\n",
       "                   Truck          278\n",
       "Dominican Republic Air             49\n",
       "                   Truck            3\n",
       "Ethiopia           Air            194\n",
       "                   Ocean            1\n",
       "                   Truck            3\n",
       "Ghana              Air             43\n",
       "                   Ocean            2\n",
       "                   Truck           13\n",
       "Guatemala          Air             15\n",
       "Guinea             Air              1\n",
       "Guyana             Air            229\n",
       "                   Truck            3\n",
       "Haiti              Air            560\n",
       "                   Air Charter      4\n",
       "                   Ocean           83\n",
       "                   Truck            6\n",
       "Kazakhstan         Air              2\n",
       "Kenya              Air             82\n",
       "                   Truck           29\n",
       "Kyrgyzstan         Air              2\n",
       "Lebanon            Air              8\n",
       "Lesotho            Air              4\n",
       "Liberia            Air              6\n",
       "Libya              Air              8\n",
       "Malawi             Air             10\n",
       "                   Ocean            4\n",
       "Mali               Air             17\n",
       "Mozambique         Air            290\n",
       "                   Ocean            4\n",
       "                   Truck          337\n",
       "Namibia            Air             87\n",
       "                   Truck            6\n",
       "Nigeria            Air            547\n",
       "                   Air Charter    608\n",
       "                   Ocean            1\n",
       "                   Truck            2\n",
       "Pakistan           Air             15\n",
       "Rwanda             Air            338\n",
       "                   Air Charter      1\n",
       "                   Ocean           20\n",
       "                   Truck           71\n",
       "Senegal            Air              3\n",
       "Sierra Leone       Air              4"
      ]
     },
     "execution_count": 303,
     "metadata": {},
     "output_type": "execute_result"
    }
   ],
   "source": [
    "df3[0:60]"
   ]
  },
  {
   "cell_type": "code",
   "execution_count": 206,
   "metadata": {
    "scrolled": true
   },
   "outputs": [
    {
     "data": {
      "text/html": [
       "<div>\n",
       "<style scoped>\n",
       "    .dataframe tbody tr th:only-of-type {\n",
       "        vertical-align: middle;\n",
       "    }\n",
       "\n",
       "    .dataframe tbody tr th {\n",
       "        vertical-align: top;\n",
       "    }\n",
       "\n",
       "    .dataframe thead th {\n",
       "        text-align: right;\n",
       "    }\n",
       "</style>\n",
       "<table border=\"1\" class=\"dataframe\">\n",
       "  <thead>\n",
       "    <tr style=\"text-align: right;\">\n",
       "      <th></th>\n",
       "      <th></th>\n",
       "      <th>id</th>\n",
       "    </tr>\n",
       "    <tr>\n",
       "      <th>country</th>\n",
       "      <th>shipment mode</th>\n",
       "      <th></th>\n",
       "    </tr>\n",
       "  </thead>\n",
       "  <tbody>\n",
       "    <tr>\n",
       "      <td rowspan=\"3\" valign=\"top\">South Africa</td>\n",
       "      <td>Air</td>\n",
       "      <td>230</td>\n",
       "    </tr>\n",
       "    <tr>\n",
       "      <td>Ocean</td>\n",
       "      <td>229</td>\n",
       "    </tr>\n",
       "    <tr>\n",
       "      <td>Truck</td>\n",
       "      <td>905</td>\n",
       "    </tr>\n",
       "    <tr>\n",
       "      <td rowspan=\"2\" valign=\"top\">South Sudan</td>\n",
       "      <td>Air</td>\n",
       "      <td>162</td>\n",
       "    </tr>\n",
       "    <tr>\n",
       "      <td>Truck</td>\n",
       "      <td>2</td>\n",
       "    </tr>\n",
       "    <tr>\n",
       "      <td>Sudan</td>\n",
       "      <td>Air</td>\n",
       "      <td>46</td>\n",
       "    </tr>\n",
       "    <tr>\n",
       "      <td rowspan=\"3\" valign=\"top\">Swaziland</td>\n",
       "      <td>Air</td>\n",
       "      <td>32</td>\n",
       "    </tr>\n",
       "    <tr>\n",
       "      <td>Ocean</td>\n",
       "      <td>2</td>\n",
       "    </tr>\n",
       "    <tr>\n",
       "      <td>Truck</td>\n",
       "      <td>1</td>\n",
       "    </tr>\n",
       "    <tr>\n",
       "      <td rowspan=\"3\" valign=\"top\">Tanzania</td>\n",
       "      <td>Air</td>\n",
       "      <td>306</td>\n",
       "    </tr>\n",
       "    <tr>\n",
       "      <td>Ocean</td>\n",
       "      <td>6</td>\n",
       "    </tr>\n",
       "    <tr>\n",
       "      <td>Truck</td>\n",
       "      <td>187</td>\n",
       "    </tr>\n",
       "    <tr>\n",
       "      <td>Togo</td>\n",
       "      <td>Air</td>\n",
       "      <td>3</td>\n",
       "    </tr>\n",
       "    <tr>\n",
       "      <td rowspan=\"3\" valign=\"top\">Uganda</td>\n",
       "      <td>Air</td>\n",
       "      <td>534</td>\n",
       "    </tr>\n",
       "    <tr>\n",
       "      <td>Ocean</td>\n",
       "      <td>8</td>\n",
       "    </tr>\n",
       "    <tr>\n",
       "      <td>Truck</td>\n",
       "      <td>229</td>\n",
       "    </tr>\n",
       "    <tr>\n",
       "      <td rowspan=\"2\" valign=\"top\">Vietnam</td>\n",
       "      <td>Air</td>\n",
       "      <td>687</td>\n",
       "    </tr>\n",
       "    <tr>\n",
       "      <td>Truck</td>\n",
       "      <td>1</td>\n",
       "    </tr>\n",
       "    <tr>\n",
       "      <td rowspan=\"3\" valign=\"top\">Zambia</td>\n",
       "      <td>Air</td>\n",
       "      <td>195</td>\n",
       "    </tr>\n",
       "    <tr>\n",
       "      <td>Ocean</td>\n",
       "      <td>3</td>\n",
       "    </tr>\n",
       "    <tr>\n",
       "      <td>Truck</td>\n",
       "      <td>386</td>\n",
       "    </tr>\n",
       "    <tr>\n",
       "      <td rowspan=\"4\" valign=\"top\">Zimbabwe</td>\n",
       "      <td>Air</td>\n",
       "      <td>145</td>\n",
       "    </tr>\n",
       "    <tr>\n",
       "      <td>Air Charter</td>\n",
       "      <td>18</td>\n",
       "    </tr>\n",
       "    <tr>\n",
       "      <td>Ocean</td>\n",
       "      <td>3</td>\n",
       "    </tr>\n",
       "    <tr>\n",
       "      <td>Truck</td>\n",
       "      <td>360</td>\n",
       "    </tr>\n",
       "  </tbody>\n",
       "</table>\n",
       "</div>"
      ],
      "text/plain": [
       "                             id\n",
       "country      shipment mode     \n",
       "South Africa Air            230\n",
       "             Ocean          229\n",
       "             Truck          905\n",
       "South Sudan  Air            162\n",
       "             Truck            2\n",
       "Sudan        Air             46\n",
       "Swaziland    Air             32\n",
       "             Ocean            2\n",
       "             Truck            1\n",
       "Tanzania     Air            306\n",
       "             Ocean            6\n",
       "             Truck          187\n",
       "Togo         Air              3\n",
       "Uganda       Air            534\n",
       "             Ocean            8\n",
       "             Truck          229\n",
       "Vietnam      Air            687\n",
       "             Truck            1\n",
       "Zambia       Air            195\n",
       "             Ocean            3\n",
       "             Truck          386\n",
       "Zimbabwe     Air            145\n",
       "             Air Charter     18\n",
       "             Ocean            3\n",
       "             Truck          360"
      ]
     },
     "execution_count": 206,
     "metadata": {},
     "output_type": "execute_result"
    }
   ],
   "source": [
    "df3[60:89]"
   ]
  },
  {
   "cell_type": "code",
   "execution_count": 194,
   "metadata": {},
   "outputs": [
    {
     "data": {
      "text/plain": [
       "pandas.core.frame.DataFrame"
      ]
     },
     "execution_count": 194,
     "metadata": {},
     "output_type": "execute_result"
    }
   ],
   "source": [
    "type(df3)"
   ]
  },
  {
   "cell_type": "code",
   "execution_count": null,
   "metadata": {},
   "outputs": [],
   "source": []
  },
  {
   "cell_type": "markdown",
   "metadata": {},
   "source": [
    "# Column 11 - PQ First Sent to Client Date"
   ]
  },
  {
   "cell_type": "markdown",
   "metadata": {},
   "source": [
    "### Date the PQ is first sent to the client"
   ]
  },
  {
   "cell_type": "markdown",
   "metadata": {},
   "source": [
    "\"Pre-PQ Process\" indicates deliveries that occurred before the PQ process was put in place in mid-2009.  \"Date Not Captured\" where date was not captured."
   ]
  },
  {
   "cell_type": "code",
   "execution_count": 214,
   "metadata": {},
   "outputs": [
    {
     "data": {
      "text/plain": [
       "Index(['id', 'project code', 'pq #', 'po / so #', 'asn/dn #', 'country',\n",
       "       'managed by', 'fulfill via', 'vendor inco term', 'shipment mode',\n",
       "       'pq first sent to client date', 'po sent to vendor date',\n",
       "       'scheduled delivery date', 'delivered to client date',\n",
       "       'delivery recorded date', 'product group', 'sub classification',\n",
       "       'vendor', 'item description', 'molecule/test type', 'brand', 'dosage',\n",
       "       'dosage form', 'unit of measure (per pack)', 'line item quantity',\n",
       "       'line item value', 'pack price', 'unit price', 'manufacturing site',\n",
       "       'first line designation', 'weight (kilograms)', 'freight cost (usd)',\n",
       "       'line item insurance (usd)'],\n",
       "      dtype='object')"
      ]
     },
     "execution_count": 214,
     "metadata": {},
     "output_type": "execute_result"
    }
   ],
   "source": [
    "df.columns"
   ]
  },
  {
   "cell_type": "code",
   "execution_count": 222,
   "metadata": {},
   "outputs": [
    {
     "data": {
      "text/plain": [
       "0"
      ]
     },
     "execution_count": 222,
     "metadata": {},
     "output_type": "execute_result"
    }
   ],
   "source": [
    "df['pq first sent to client date'].isnull().sum()"
   ]
  },
  {
   "cell_type": "code",
   "execution_count": 215,
   "metadata": {},
   "outputs": [
    {
     "data": {
      "text/plain": [
       "765"
      ]
     },
     "execution_count": 215,
     "metadata": {},
     "output_type": "execute_result"
    }
   ],
   "source": [
    "df['pq first sent to client date'].nunique()"
   ]
  },
  {
   "cell_type": "code",
   "execution_count": 217,
   "metadata": {},
   "outputs": [
    {
     "data": {
      "text/plain": [
       "array(['Pre-PQ Process', '7/25/2012', 'Date Not Captured', '11/18/2009',\n",
       "       '5/3/2013', '8/19/2014', '1/6/2012', '2/22/2013', '10/28/2014',\n",
       "       '2/20/2013', '2/17/2012', '11/9/2011', '2/6/2014', '3/10/2011',\n",
       "       '9/11/2014', '4/30/2014', '4/8/2014', '7/11/2013', '10/5/2012',\n",
       "       '6/13/2014', '8/4/2011', '3/18/2010', '6/19/2009', '1/28/2015',\n",
       "       '8/12/2009', '9/3/2010', '12/8/2011', '10/17/2012', '9/2/2009',\n",
       "       '9/24/2014', '6/3/2014', '8/11/2014', '8/29/2011', '7/9/2014',\n",
       "       '6/17/2014', '6/21/2011', '3/15/2012', '3/10/2015', '6/25/2009',\n",
       "       '12/11/2013', '1/22/2014', '2/7/2013', '4/11/2012', '8/13/2014',\n",
       "       '4/1/2014', '7/16/2009', '5/15/2014', '10/20/2009', '10/17/2014',\n",
       "       '5/17/2013', '10/5/2011', '7/26/2013', '7/15/2013', '7/10/2013',\n",
       "       '5/21/2014', '7/18/2013', '1/29/2013', '4/26/2013', '10/8/2009',\n",
       "       '2/2/2010', '4/30/2013', '7/17/2014', '6/24/2011', '4/15/2014',\n",
       "       '5/16/2011', '11/14/2013', '2/3/2013', '12/29/2014', '11/12/2013',\n",
       "       '10/23/2013', '1/5/2010', '7/26/2012', '4/23/2013', '3/27/2014',\n",
       "       '4/28/2011', '10/3/2013', '8/31/2010', '7/29/2010', '10/19/2011',\n",
       "       '12/17/2009', '4/7/2011', '7/17/2012', '1/30/2013', '5/26/2010',\n",
       "       '7/19/2010', '3/20/2014', '4/18/2013', '2/5/2014', '3/12/2014',\n",
       "       '12/27/2011', '12/7/2012', '10/15/2012', '6/2/2010', '2/23/2015',\n",
       "       '10/9/2014', '8/18/2010', '11/25/2009', '5/4/2010', '1/17/2012',\n",
       "       '5/7/2009', '3/27/2012', '8/13/2010', '7/5/2012', '4/23/2014',\n",
       "       '5/2/2013', '1/17/2011', '9/28/2010', '5/11/2014', '3/18/2013',\n",
       "       '3/11/2011', '3/15/2013', '10/17/2013', '7/23/2013', '10/22/2014',\n",
       "       '11/13/2012', '7/28/2011', '2/19/2015', '8/19/2013', '12/23/2009',\n",
       "       '1/13/2012', '5/23/2011', '2/13/2015', '9/21/2011', '10/11/2012',\n",
       "       '6/8/2015', '12/6/2011', '12/16/2009', '4/28/2010', '11/26/2010',\n",
       "       '7/3/2013', '8/11/2011', '10/4/2013', '12/7/2011', '6/11/2009',\n",
       "       '1/13/2011', '7/8/2011', '12/27/2010', '6/5/2012', '1/5/2012',\n",
       "       '6/30/2009', '12/13/2013', '8/21/2013', '11/30/2011', '10/11/2013',\n",
       "       '1/19/2011', '4/19/2013', '1/10/2013', '12/13/2012', '1/4/2009',\n",
       "       '10/25/2013', '3/9/2012', '10/29/2014', '6/21/2010', '2/28/2012',\n",
       "       '4/22/2014', '11/5/2009', '6/25/2013', '3/29/2011', '4/1/2011',\n",
       "       '1/27/2011', '4/19/2010', '6/21/2013', '7/30/2013', '10/18/2012',\n",
       "       '9/30/2010', '1/2/2015', '1/16/2013', '5/16/2014', '7/29/2009',\n",
       "       '7/30/2014', '4/21/2011', '7/29/2014', '9/12/2012', '9/23/2014',\n",
       "       '4/14/2010', '4/17/2014', '4/12/2014', '8/5/2010', '10/24/2014',\n",
       "       '8/9/2013', '11/11/2010', '4/15/2010', '3/4/2011', '4/12/2013',\n",
       "       '12/8/2009', '7/22/2011', '3/25/2009', '9/7/2011', '1/19/2010',\n",
       "       '7/1/2014', '2/16/2011', '1/23/2014', '12/8/2014', '1/25/2012',\n",
       "       '11/4/2010', '11/12/2014', '2/13/2013', '4/30/2010', '8/13/2009',\n",
       "       '4/24/2012', '3/22/2010', '10/30/2014', '8/5/2013', '6/23/2010',\n",
       "       '10/10/2014', '5/29/2009', '9/22/2014', '9/8/2009', '8/23/2012',\n",
       "       '8/3/2009', '7/22/2013', '5/2/2014', '5/14/2012', '2/25/2010',\n",
       "       '3/25/2014', '11/11/2014', '3/24/2014', '8/27/2014', '8/4/2009',\n",
       "       '10/26/2010', '5/26/2014', '10/31/2013', '1/6/2011', '8/20/2009',\n",
       "       '3/25/2013', '11/4/2011', '3/14/2013', '12/2/2010', '6/7/2010',\n",
       "       '7/24/2009', '5/5/2011', '3/21/2014', '5/16/2013', '9/8/2010',\n",
       "       '7/8/2013', '7/9/2013', '5/18/2012', '5/29/2012', '3/9/2011',\n",
       "       '4/14/2015', '10/8/2010', '1/4/2013', '1/21/2011', '12/17/2012',\n",
       "       '5/8/2009', '3/19/2014', '11/15/2012', '10/15/2014', '3/20/2013',\n",
       "       '9/5/2011', '1/24/2013', '10/26/2011', '6/8/2009', '7/16/2014',\n",
       "       '1/6/2010', '10/3/2012', '4/12/2012', '1/4/2012', '7/12/2013',\n",
       "       '12/23/2014', '11/11/2011', '12/10/2010', '5/3/2011', '7/22/2009',\n",
       "       '10/8/2013', '11/2/2009', '9/9/2009', '1/21/2014', '7/6/2009',\n",
       "       '1/19/2012', '9/8/2011', '8/19/2010', '7/20/2009', '8/27/2009',\n",
       "       '7/28/2009', '11/26/2013', '3/4/2015', '9/27/2010', '5/24/2012',\n",
       "       '2/3/2014', '3/15/2010', '4/11/2014', '1/10/2012', '10/10/2012',\n",
       "       '5/4/2015', '8/31/2009', '7/25/2011', '8/5/2011', '12/28/2009',\n",
       "       '7/31/2012', '12/22/2011', '2/15/2010', '9/15/2009', '5/14/2014',\n",
       "       '11/9/2010', '2/27/2009', '3/23/2010', '6/22/2012', '2/18/2015',\n",
       "       '8/13/2013', '2/20/2015', '1/29/2010', '12/14/2010', '2/8/2012',\n",
       "       '11/19/2010', '8/15/2012', '5/25/2012', '8/31/2011', '12/4/2014',\n",
       "       '10/27/2014', '2/8/2013', '6/23/2011', '9/3/2009', '3/19/2012',\n",
       "       '12/16/2013', '5/31/2011', '7/27/2012', '5/7/2015', '11/26/2012',\n",
       "       '9/19/2012', '3/7/2014', '6/10/2013', '6/24/2015', '7/17/2013',\n",
       "       '4/15/2013', '7/12/2012', '3/10/2014', '6/11/2014', '12/10/2009',\n",
       "       '4/29/2011', '2/27/2014', '2/10/2010', '7/16/2012', '4/28/2015',\n",
       "       '1/9/2012', '5/11/2015', '9/16/2009', '1/25/2010', '6/15/2009',\n",
       "       '3/10/2009', '5/14/2013', '5/6/2013', '8/12/2010', '1/14/2011',\n",
       "       '12/9/2009', '10/16/2013', '1/20/2015', '11/10/2010', '6/25/2010',\n",
       "       '3/28/2011', '11/3/2009', '11/16/2012', '9/20/2010', '10/29/2010',\n",
       "       '8/21/2009', '2/13/2012', '5/28/2012', '8/20/2013', '3/30/2010',\n",
       "       '4/3/2011', '9/20/2012', '12/15/2011', '8/19/2011', '11/14/2014',\n",
       "       '4/10/2014', '1/13/2010', '6/27/2011', '5/5/2015', '7/23/2014',\n",
       "       '2/24/2010', '4/29/2013', '1/3/2011', '1/5/2011', '2/28/2011',\n",
       "       '8/10/2010', '1/18/2012', '2/5/2011', '10/20/2010', '2/21/2014',\n",
       "       '1/22/2013', '5/22/2012', '1/31/2014', '6/4/2012', '1/4/2010',\n",
       "       '1/15/2013', '2/19/2014', '4/20/2012', '7/7/2015', '1/31/2013',\n",
       "       '5/11/2012', '12/14/2012', '3/24/2010', '10/13/2009', '10/27/2009',\n",
       "       '3/26/2015', '6/20/2010', '12/5/2011', '10/28/2013', '10/18/2011',\n",
       "       '7/12/2011', '1/8/2013', '12/14/2011', '1/15/2015', '2/4/2014',\n",
       "       '9/13/2010', '11/17/2014', '6/30/2015', '11/16/2009', '7/11/2012',\n",
       "       '8/23/2013', '9/18/2012', '7/14/2010', '1/4/2011', '10/7/2014',\n",
       "       '1/11/2011', '1/12/2015', '7/16/2013', '2/26/2014', '6/9/2015',\n",
       "       '2/4/2011', '7/28/2014', '11/7/2012', '8/4/2014', '9/24/2013',\n",
       "       '9/21/2010', '10/7/2009', '12/5/2014', '3/1/2010', '7/2/2013',\n",
       "       '5/21/2012', '6/7/2012', '10/15/2013', '4/9/2014', '4/23/2012',\n",
       "       '7/14/2009', '8/21/2012', '1/6/2014', '3/31/2011', '1/28/2014',\n",
       "       '6/13/2012', '8/30/2011', '9/7/2013', '3/1/2012', '2/25/2011',\n",
       "       '8/26/2010', '7/11/2011', '3/12/2010', '2/5/2015', '10/3/2011',\n",
       "       '2/13/2014', '4/10/2013', '5/9/2013', '2/17/2011', '4/3/2012',\n",
       "       '8/27/2010', '1/9/2013', '9/18/2009', '8/10/2009', '3/30/2015',\n",
       "       '4/3/2015', '11/16/2010', '8/5/2009', '9/13/2012', '7/23/2012',\n",
       "       '12/12/2012', '5/30/2011', '8/25/2009', '7/1/2015', '9/14/2011',\n",
       "       '1/17/2013', '7/13/2011', '7/23/2010', '1/27/2012', '6/15/2015',\n",
       "       '10/31/2010', '11/28/2013', '6/6/2011', '8/24/2012', '1/18/2013',\n",
       "       '12/23/2013', '10/23/2009', '7/19/2013', '1/7/2010', '1/15/2010',\n",
       "       '3/30/2011', '5/31/2013', '5/16/2012', '1/26/2011', '6/11/2012',\n",
       "       '6/27/2013', '10/7/2010', '12/17/2014', '11/19/2009', '8/1/2013',\n",
       "       '2/24/2012', '7/31/2013', '1/3/2012', '10/29/2009', '9/13/2011',\n",
       "       '10/28/2010', '9/14/2010', '1/26/2015', '9/3/2013', '1/8/2015',\n",
       "       '11/18/2013', '5/7/2010', '7/6/2015', '6/4/2013', '4/5/2010',\n",
       "       '8/9/2011', '3/12/2012', '4/23/2015', '2/9/2010', '7/15/2009',\n",
       "       '11/28/2011', '7/16/2010', '7/1/2009', '8/30/2010', '5/4/2012',\n",
       "       '9/3/2014', '1/6/2015', '3/29/2012', '8/7/2010', '4/27/2011',\n",
       "       '5/12/2014', '9/16/2011', '6/28/2011', '10/25/2010', '7/17/2009',\n",
       "       '2/28/2014', '4/18/2014', '1/11/2010', '10/21/2009', '10/22/2013',\n",
       "       '1/20/2010', '1/28/2010', '6/29/2010', '12/2/2009', '1/26/2012',\n",
       "       '7/30/2009', '2/19/2010', '10/8/2014', '12/29/2010', '7/10/2012',\n",
       "       '3/1/2013', '5/12/2011', '1/3/2013', '5/6/2011', '4/8/2013',\n",
       "       '4/10/2012', '6/2/2011', '12/21/2010', '6/15/2012', '2/25/2013',\n",
       "       '4/16/2010', '6/30/2014', '2/1/2012', '6/19/2012', '11/4/2009',\n",
       "       '9/22/2009', '6/9/2014', '5/31/2012', '11/4/2014', '11/21/2014',\n",
       "       '4/1/2010', '8/6/2009', '5/26/2009', '3/17/2009', '7/27/2009',\n",
       "       '10/15/2009', '9/17/2009', '2/26/2009', '9/23/2009', '9/14/2009',\n",
       "       '11/6/2009', '3/2/2010', '6/9/2010', '10/28/2009', '3/3/2010',\n",
       "       '5/20/2010', '3/25/2010', '5/27/2010', '2/18/2010', '9/23/2010',\n",
       "       '10/13/2010', '11/8/2010', '8/25/2010', '8/3/2010', '9/29/2010',\n",
       "       '2/11/2011', '2/14/2011', '2/21/2011', '5/4/2011', '3/1/2011',\n",
       "       '1/24/2011', '9/2/2011', '5/18/2011', '8/25/2011', '7/26/2011',\n",
       "       '12/12/2011', '8/22/2011', '2/3/2011', '11/21/2011', '11/6/2011',\n",
       "       '10/27/2011', '2/10/2012', '10/4/2011', '6/6/2012', '2/20/2012',\n",
       "       '9/27/2011', '3/16/2012', '4/26/2011', '5/9/2012', '3/8/2012',\n",
       "       '6/28/2012', '4/19/2012', '4/27/2012', '8/17/2012', '1/2/2012',\n",
       "       '9/6/2012', '5/23/2012', '7/18/2012', '5/15/2012', '8/30/2012',\n",
       "       '9/11/2012', '8/9/2012', '11/1/2012', '10/25/2012', '1/28/2013',\n",
       "       '3/19/2013', '11/6/2012', '11/12/2012', '12/30/2012', '4/22/2013',\n",
       "       '5/8/2013', '4/2/2013', '7/4/2013', '8/2/2013', '6/28/2013',\n",
       "       '12/17/2013', '1/15/2014', '10/21/2013', '1/16/2014', '9/10/2013',\n",
       "       '10/1/2013', '5/7/2014', '11/19/2013', '2/2/2014', '4/25/2014',\n",
       "       '4/16/2014', '12/24/2013', '6/5/2014', '5/23/2014', '1/17/2014',\n",
       "       '7/2/2014', '12/9/2013', '1/29/2014', '4/2/2014', '7/14/2014',\n",
       "       '6/4/2014', '11/19/2014', '12/22/2014', '11/3/2014', '8/12/2014',\n",
       "       '7/11/2014', '3/31/2015', '9/25/2009', '6/3/2009', '6/28/2010',\n",
       "       '8/6/2010', '8/16/2010', '9/24/2010', '7/2/2010', '8/20/2010',\n",
       "       '12/7/2010', '1/7/2011', '5/15/2011', '10/4/2010', '5/11/2011',\n",
       "       '8/12/2011', '12/20/2011', '4/4/2012', '4/9/2012', '4/2/2012',\n",
       "       '6/18/2012', '6/26/2012', '12/21/2011', '7/24/2012', '10/30/2012',\n",
       "       '11/20/2012', '3/4/2013', '6/11/2013', '6/24/2013', '2/28/2013',\n",
       "       '8/6/2013', '10/9/2013', '3/5/2014', '7/18/2014', '4/24/2014',\n",
       "       '8/21/2014', '9/19/2014', '5/14/2015', '5/27/2015', '8/17/2009',\n",
       "       '11/26/2009', '1/27/2010', '3/4/2010', '3/29/2010', '4/7/2010',\n",
       "       '4/6/2010', '5/2/2010', '9/16/2010', '9/1/2010', '3/7/2011',\n",
       "       '10/15/2010', '6/13/2011', '9/11/2011', '10/31/2011', '1/30/2012',\n",
       "       '1/31/2012', '8/13/2012', '5/2/2012', '2/15/2012', '1/23/2013',\n",
       "       '3/6/2013', '8/31/2012', '1/24/2014', '3/4/2014', '10/16/2014',\n",
       "       '4/15/2015', '6/29/2015', '4/7/2015', '12/3/2009', '2/23/2010',\n",
       "       '7/26/2010', '9/22/2010', '4/26/2012', '3/26/2013', '11/28/2012',\n",
       "       '11/22/2013', '12/18/2013', '2/7/2014', '1/14/2010', '12/22/2010',\n",
       "       '3/22/2011', '7/4/2011', '3/28/2012', '2/27/2013', '6/20/2013',\n",
       "       '10/10/2013', '8/30/2013', '11/25/2014', '4/16/2015', '9/10/2010',\n",
       "       '6/17/2011', '11/1/2011', '1/16/2012', '3/16/2013', '2/26/2015',\n",
       "       '2/12/2010', '12/3/2013', '12/19/2014', '8/2/2011', '2/2/2012',\n",
       "       '8/29/2013'], dtype=object)"
      ]
     },
     "execution_count": 217,
     "metadata": {},
     "output_type": "execute_result"
    }
   ],
   "source": [
    "df['pq first sent to client date'].unique()"
   ]
  },
  {
   "cell_type": "markdown",
   "metadata": {},
   "source": [
    "## Total 2476 pre pq process, and 205 date not captured"
   ]
  },
  {
   "cell_type": "code",
   "execution_count": 219,
   "metadata": {},
   "outputs": [
    {
     "data": {
      "text/plain": [
       "(2476, 33)"
      ]
     },
     "execution_count": 219,
     "metadata": {},
     "output_type": "execute_result"
    }
   ],
   "source": [
    "df[df['pq first sent to client date'] == 'Pre-PQ Process'].shape"
   ]
  },
  {
   "cell_type": "code",
   "execution_count": 220,
   "metadata": {},
   "outputs": [
    {
     "data": {
      "text/plain": [
       "(205, 33)"
      ]
     },
     "execution_count": 220,
     "metadata": {},
     "output_type": "execute_result"
    }
   ],
   "source": [
    "df[df['pq first sent to client date'] == 'Date Not Captured'].shape"
   ]
  },
  {
   "cell_type": "code",
   "execution_count": null,
   "metadata": {},
   "outputs": [],
   "source": []
  },
  {
   "cell_type": "markdown",
   "metadata": {},
   "source": [
    "# Column 12 - po (purchase order) sent to vendor date"
   ]
  },
  {
   "cell_type": "markdown",
   "metadata": {},
   "source": [
    "Not applicable for from RDC deliveries (\"NA - From RDC\"). \"Date Not Captured\" where date was not captured."
   ]
  },
  {
   "cell_type": "code",
   "execution_count": 223,
   "metadata": {},
   "outputs": [
    {
     "data": {
      "text/plain": [
       "0"
      ]
     },
     "execution_count": 223,
     "metadata": {},
     "output_type": "execute_result"
    }
   ],
   "source": [
    "df['po sent to vendor date'].isnull().sum()"
   ]
  },
  {
   "cell_type": "code",
   "execution_count": 221,
   "metadata": {},
   "outputs": [
    {
     "data": {
      "text/plain": [
       "897"
      ]
     },
     "execution_count": 221,
     "metadata": {},
     "output_type": "execute_result"
    }
   ],
   "source": [
    "df['po sent to vendor date'].nunique()"
   ]
  },
  {
   "cell_type": "code",
   "execution_count": 224,
   "metadata": {},
   "outputs": [
    {
     "data": {
      "text/plain": [
       "array(['Date Not Captured', '11/13/2006', '12/1/2006', '12/22/2006',\n",
       "       '1/10/2007', '8/15/2012', '4/12/2007', '5/13/2007', '5/17/2007',\n",
       "       '7/13/2007', '7/4/2007', '7/26/2007', '10/3/2007', '8/28/2007',\n",
       "       '11/12/2007', '11/19/2007', '11/21/2007', '12/10/2007', '1/4/2008',\n",
       "       '2/27/2008', '3/3/2008', '2/28/2008', '2/29/2008', '3/17/2008',\n",
       "       '3/13/2008', '3/18/2008', '3/31/2008', '2/20/2008', '4/4/2008',\n",
       "       '5/14/2008', '5/15/2008', '5/20/2008', '5/23/2008', '7/1/2008',\n",
       "       '7/2/2008', '7/3/2008', '7/24/2008', '7/25/2008', '7/31/2008',\n",
       "       '8/26/2008', '8/27/2008', '9/3/2008', '3/6/2009', '9/24/2008',\n",
       "       '10/2/2008', '12/5/2007', '11/19/2008', '12/19/2008', '1/5/2009',\n",
       "       '1/16/2009', '10/21/2008', '2/5/2009', '2/18/2009', '3/4/2009',\n",
       "       '3/18/2009', '6/15/2009', '3/27/2009', '3/25/2009', '3/30/2009',\n",
       "       '4/2/2009', '4/4/2009', '4/9/2009', '4/15/2009', '4/29/2009',\n",
       "       '5/27/2009', '5/18/2009', '6/2/2009', '6/5/2009', '4/19/2006',\n",
       "       '11/15/2006', '11/17/2006', '1/9/2007', '12/14/2006', '2/7/2007',\n",
       "       '5/9/2007', '7/3/2007', '11/30/2007', '12/3/2007', '2/4/2008',\n",
       "       '1/29/2008', '2/19/2008', '2/25/2008', '6/12/2008', '4/7/2008',\n",
       "       '5/13/2008', '6/13/2008', '8/21/2008', '7/18/2008', '7/28/2008',\n",
       "       '7/30/2008', '8/22/2008', '10/27/2008', '10/28/2008', '11/3/2008',\n",
       "       '11/20/2008', '12/23/2008', '1/13/2009', '2/3/2009', '3/11/2009',\n",
       "       '3/19/2009', '3/31/2009', '4/1/2009', '4/7/2009', '4/27/2009',\n",
       "       '5/8/2009', '6/6/2009', '7/15/2009', '11/14/2006', '3/8/2007',\n",
       "       '5/1/2007', '6/8/2007', '6/21/2007', '7/20/2007', '8/15/2007',\n",
       "       '7/31/2007', '11/16/2007', '1/3/2008', '1/24/2008', '1/21/2008',\n",
       "       '3/11/2008', '4/28/2008', '6/20/2008', '8/29/2008', '9/18/2008',\n",
       "       '9/17/2008', '10/14/2008', '10/17/2008', '11/14/2008',\n",
       "       '12/10/2008', '12/11/2008', '3/13/2009', '5/14/2009', '4/20/2009',\n",
       "       '4/24/2009', '12/28/2006', '12/29/2006', '4/4/2007', '7/25/2007',\n",
       "       '7/11/2007', '9/18/2007', '12/6/2007', '2/15/2008', '2/26/2008',\n",
       "       '8/20/2008', '9/19/2008', '11/4/2008', '11/24/2008', '12/30/2008',\n",
       "       '12/12/2008', '1/27/2009', '2/6/2009', '4/10/2009', '5/28/2009',\n",
       "       '6/4/2009', '11/29/2006', '1/19/2007', '1/25/2007', '4/2/2007',\n",
       "       '7/6/2007', '10/18/2007', '11/22/2007', '2/6/2008', '3/14/2008',\n",
       "       '4/10/2008', '7/4/2008', '7/15/2008', '7/23/2008', '8/28/2008',\n",
       "       '10/22/2008', '1/14/2009', '4/30/2009', '5/25/2009', '12/2/2006',\n",
       "       '12/5/2006', '5/7/2007', '5/30/2007', '7/17/2007', '8/27/2007',\n",
       "       '10/2/2007', '1/7/2008', '3/21/2008', '6/2/2008', '2/24/2009',\n",
       "       '3/9/2009', '5/11/2009', '3/1/2007', '4/30/2007', '9/28/2007',\n",
       "       '11/27/2007', '12/20/2007', '1/5/2008', '8/5/2008', '9/23/2008',\n",
       "       '10/24/2008', '12/2/2008', '7/13/2009', '6/6/2007', '10/23/2007',\n",
       "       '1/8/2008', 'N/A - From RDC', '6/10/2008', '8/6/2008', '6/30/2008',\n",
       "       '8/15/2008', '10/10/2008', '10/30/2008', '1/26/2009', '4/6/2009',\n",
       "       '5/4/2009', '5/26/2009', '6/1/2009', '10/5/2009', '12/2/2009',\n",
       "       '5/15/2013', '9/19/2014', '2/24/2012', '4/1/2013', '11/7/2014',\n",
       "       '3/14/2013', '4/9/2012', '12/29/2011', '3/10/2014', '3/24/2011',\n",
       "       '5/11/2015', '5/8/2014', '5/10/2013', '4/30/2014', '8/27/2014',\n",
       "       '10/16/2012', '6/23/2014', '8/24/2011', '3/19/2010', '7/9/2009',\n",
       "       '2/17/2015', '8/14/2009', '9/29/2010', '1/17/2012', '10/31/2012',\n",
       "       '9/24/2009', '1/26/2015', '11/14/2014', '7/31/2014', '9/7/2011',\n",
       "       '8/8/2014', '3/9/2015', '7/1/2014', '7/13/2011', '4/17/2012',\n",
       "       '3/17/2015', '6/29/2009', '8/3/2011', '12/17/2013', '1/28/2014',\n",
       "       '3/22/2013', '7/7/2009', '6/15/2012', '8/11/2014', '8/29/2014',\n",
       "       '8/31/2009', '5/19/2014', '11/13/2009', '10/9/2014', '11/12/2014',\n",
       "       '7/3/2013', '10/26/2011', '11/28/2014', '8/6/2013', '10/8/2013',\n",
       "       '6/4/2014', '2/6/2013', '5/21/2013', '10/15/2009', '2/3/2010',\n",
       "       '5/29/2013', '8/6/2014', '7/18/2011', '5/16/2014', '5/27/2011',\n",
       "       '12/2/2013', '9/30/2011', '2/20/2015', '11/26/2013', '10/30/2013',\n",
       "       '2/5/2013', '1/13/2010', '8/9/2012', '4/29/2014', '8/14/2012',\n",
       "       '5/23/2011', '10/3/2014', '10/28/2013', '3/28/2011', '9/21/2010',\n",
       "       '12/7/2010', '11/4/2014', '11/2/2011', '12/23/2009', '7/14/2015',\n",
       "       '11/19/2010', '4/1/2011', '5/5/2011', '8/13/2012', '3/11/2013',\n",
       "       '3/7/2013', '8/20/2014', '6/2/2010', '8/2/2010', '4/28/2014',\n",
       "       '9/24/2010', '2/28/2014', '4/3/2014', '1/3/2013', '11/7/2012',\n",
       "       '6/16/2010', '5/7/2015', '12/12/2014', '8/25/2010', '5/25/2010',\n",
       "       '4/5/2012', '7/21/2009', '5/3/2012', '9/28/2010', '7/26/2012',\n",
       "       '5/20/2014', '5/22/2013', '2/15/2011', '6/17/2010', '10/1/2010',\n",
       "       '6/2/2014', '3/31/2011', '11/9/2012', '4/11/2013', '11/4/2013',\n",
       "       '9/27/2010', '1/7/2015', '12/12/2012', '7/30/2014', '8/12/2011',\n",
       "       '5/1/2015', '8/23/2013', '12/29/2009', '5/31/2012', '6/15/2011',\n",
       "       '3/4/2015', '10/4/2011', '10/18/2012', '6/25/2015', '12/13/2011',\n",
       "       '11/11/2009', '12/22/2009', '4/29/2010', '12/14/2010', '7/16/2013',\n",
       "       '10/5/2011', '10/10/2013', '12/30/2011', '12/24/2014', '2/1/2011',\n",
       "       '8/4/2011', '8/5/2014', '5/2/2011', '6/18/2014', '6/14/2012',\n",
       "       '1/23/2012', '7/16/2009', '12/27/2013', '2/3/2014', '3/14/2012',\n",
       "       '10/21/2013', '2/3/2011', '5/27/2010', '7/10/2013', '6/12/2012',\n",
       "       '1/22/2013', '1/2/2013', '1/12/2010', '12/4/2013', '6/26/2014',\n",
       "       '4/16/2012', '12/10/2014', '7/30/2013', '6/24/2010', '3/21/2012',\n",
       "       '11/23/2009', '7/22/2013', '4/28/2011', '11/3/2009', '4/21/2011',\n",
       "       '4/14/2011', '4/21/2010', '8/12/2013', '1/29/2010', '9/2/2013',\n",
       "       '5/6/2014', '11/6/2012', '10/18/2010', '7/31/2012', '2/12/2015',\n",
       "       '8/13/2014', '8/7/2009', '8/28/2014', '10/10/2012', '6/19/2014',\n",
       "       '10/16/2014', '5/30/2014', '11/5/2009', '12/6/2010', '6/2/2015',\n",
       "       '4/18/2014', '5/23/2014', '10/3/2011', '8/23/2010', '10/30/2014',\n",
       "       '5/26/2014', '1/25/2011', '9/17/2013', '12/2/2010', '5/23/2013',\n",
       "       '4/23/2010', '3/6/2013', '3/9/2012', '3/30/2011', '5/14/2013',\n",
       "       '12/14/2009', '8/1/2011', '3/16/2015', '8/3/2009', '10/22/2013',\n",
       "       '5/13/2009', '9/14/2011', '1/28/2010', '8/21/2012', '8/4/2014',\n",
       "       '2/26/2014', '3/13/2015', '2/17/2012', '11/11/2010', '11/19/2014',\n",
       "       '3/28/2013', '5/5/2010', '5/7/2012', '3/31/2010', '12/8/2014',\n",
       "       '8/9/2013', '7/1/2010', '11/5/2014', '6/27/2014', '10/29/2014',\n",
       "       '9/30/2009', '6/30/2014', '5/17/2013', '9/12/2012', '8/12/2009',\n",
       "       '6/11/2012', '7/3/2012', '6/7/2010', '3/19/2015', '12/4/2014',\n",
       "       '4/23/2014', '11/10/2010', '10/14/2010', '2/2/2011', '4/28/2015',\n",
       "       '2/13/2013', '5/28/2014', '11/19/2013', '1/21/2011', '8/2/2013',\n",
       "       '9/3/2009', '6/28/2012', '11/16/2011', '12/9/2010', '6/28/2010',\n",
       "       '8/24/2009', '5/19/2011', '3/27/2014', '6/11/2013', '10/7/2010',\n",
       "       '11/24/2014', '9/10/2013', '6/25/2014', '7/31/2013', '7/9/2012',\n",
       "       '7/18/2012', '3/31/2014', '1/30/2014', '5/21/2014', '10/27/2010',\n",
       "       '3/25/2010', '6/13/2013', '8/11/2015', '9/22/2009', '1/15/2013',\n",
       "       '8/10/2012', '6/26/2009', '8/5/2009', '5/5/2014', '10/23/2013',\n",
       "       '12/18/2012', '12/18/2014', '1/30/2015', '8/14/2014', '11/2/2009',\n",
       "       '10/11/2011', '2/26/2013', '11/9/2011', '3/25/2011', '7/18/2014',\n",
       "       '3/2/2015', '1/20/2010', '5/2/2012', '3/23/2011', '3/8/2012',\n",
       "       '8/27/2013', '2/9/2011', '7/11/2014', '1/19/2015', '12/9/2011',\n",
       "       '10/16/2013', '1/12/2011', '2/10/2014', '7/8/2011', '9/14/2009',\n",
       "       '3/29/2010', '8/24/2015', '9/11/2013', '1/19/2012', '2/19/2014',\n",
       "       '7/14/2009', '2/6/2012', '11/18/2011', '9/2/2010', '9/11/2009',\n",
       "       '8/18/2009', '11/28/2013', '5/18/2015', '11/22/2010', '6/1/2012',\n",
       "       '2/12/2014', '3/24/2010', '1/20/2015', '7/17/2009', '10/25/2012',\n",
       "       '8/29/2011', '6/21/2010', '2/12/2010', '2/11/2013', '1/24/2012',\n",
       "       '3/5/2010', '10/6/2009', '12/8/2009', '7/9/2014', '11/24/2010',\n",
       "       '11/9/2009', '5/13/2015', '7/16/2012', '2/27/2015', '5/29/2015',\n",
       "       '4/11/2014', '2/9/2010', '8/30/2011', '5/15/2012', '12/22/2010',\n",
       "       '9/13/2013', '7/25/2013', '9/17/2010', '9/19/2011', '2/27/2013',\n",
       "       '7/20/2011', '5/1/2012', '1/22/2014', '6/21/2011', '4/4/2012',\n",
       "       '8/2/2012', '5/26/2015', '1/25/2010', '10/12/2012', '4/14/2014',\n",
       "       '2/4/2013', '11/1/2013', '1/9/2012', '12/15/2014', '7/17/2015',\n",
       "       '11/21/2012', '6/20/2012', '12/16/2014', '7/8/2014', '3/27/2012',\n",
       "       '12/18/2009', '5/12/2011', '3/20/2014', '1/28/2015', '2/10/2010',\n",
       "       '7/30/2012', '1/5/2010', '2/14/2013', '2/1/2012', '5/22/2015',\n",
       "       '10/23/2009', '2/8/2011', '12/10/2009', '3/19/2012', '12/1/2010',\n",
       "       '7/20/2010', '6/8/2012', '7/24/2013', '8/28/2011', '12/19/2013',\n",
       "       '6/17/2011', '11/24/2009', '12/31/2014', '6/1/2010', '12/6/2012',\n",
       "       '5/9/2013', '11/9/2010', '6/28/2013', '1/11/2013', '6/30/2010',\n",
       "       '7/4/2012', '6/13/2012', '6/8/2010', '10/5/2012', '9/22/2011',\n",
       "       '1/16/2012', '4/25/2013', '3/2/2011', '11/17/2014', '8/19/2013',\n",
       "       '2/5/2010', '4/24/2014', '5/27/2015', '8/19/2014', '7/7/2011',\n",
       "       '3/30/2010', '6/12/2013', '1/7/2011', '4/4/2011', '5/27/2014',\n",
       "       '9/10/2010', '11/6/2013', '11/4/2010', '8/13/2013', '2/12/2013',\n",
       "       '4/20/2012', '9/19/2013', '12/9/2013', '3/3/2014', '1/7/2010',\n",
       "       '2/15/2013', '3/21/2014', '8/3/2012', '8/4/2015', '8/25/2014',\n",
       "       '7/11/2012', '5/15/2014', '10/31/2013', '4/15/2014', '11/6/2009',\n",
       "       '11/25/2014', '11/21/2013', '3/19/2014', '10/29/2009', '3/11/2011',\n",
       "       '4/2/2015', '8/10/2010', '1/12/2012', '11/22/2013', '1/18/2012',\n",
       "       '10/31/2011', '8/19/2009', '5/13/2013', '1/23/2013', '2/23/2015',\n",
       "       '1/17/2013', '6/21/2012', '4/10/2014', '3/17/2013', '7/30/2010',\n",
       "       '1/11/2010', '10/17/2012', '7/12/2012', '7/28/2015', '1/5/2012',\n",
       "       '11/25/2009', '6/13/2011', '10/24/2013', '1/29/2015', '7/22/2010',\n",
       "       '9/24/2012', '1/28/2011', '8/15/2013', '5/8/2013', '2/25/2011',\n",
       "       '4/23/2012', '4/26/2010', '4/20/2011', '5/12/2015', '2/15/2012',\n",
       "       '7/10/2014', '1/27/2012', '2/24/2015', '1/8/2010', '5/9/2014',\n",
       "       '5/4/2011', '10/18/2013', '12/7/2012', '10/6/2010', '10/13/2009',\n",
       "       '11/17/2009', '3/12/2010', '7/25/2012', '11/13/2013', '8/26/2014',\n",
       "       '6/6/2012', '7/4/2014', '5/18/2011', '2/9/2015', '8/5/2013',\n",
       "       '9/5/2012', '6/10/2013', '4/22/2015', '10/15/2010', '2/4/2014',\n",
       "       '1/15/2010', '7/2/2012', '9/9/2011', '1/6/2012', '9/16/2010',\n",
       "       '7/27/2011', '3/18/2010', '9/4/2014', '3/12/2015', '10/22/2014',\n",
       "       '10/21/2011', '9/4/2013', '1/8/2014', '2/28/2011', '4/18/2011',\n",
       "       '1/14/2010', '6/5/2012', '9/23/2010', '11/12/2013', '10/25/2013',\n",
       "       '7/31/2009', '4/20/2015', '1/25/2012', '11/18/2014', '4/29/2011',\n",
       "       '8/19/2010', '10/4/2012', '10/7/2013', '8/22/2012', '9/10/2009',\n",
       "       '7/10/2015', '4/19/2013', '2/1/2013', '7/28/2014', '7/25/2009',\n",
       "       '8/27/2010', '2/3/2012', '7/7/2015', '3/22/2012', '11/18/2010',\n",
       "       '2/17/2010', '6/26/2012', '12/13/2013', '5/1/2014', '3/8/2013',\n",
       "       '6/22/2011', '2/14/2014', '4/3/2012', '12/17/2014', '5/7/2014',\n",
       "       '9/7/2012', '2/8/2013', '11/11/2011', '9/25/2009', '12/5/2012',\n",
       "       '5/1/2013', '1/16/2014', '2/7/2013', '11/19/2009', '1/21/2010',\n",
       "       '8/15/2011', '6/23/2010', '5/8/2015', '4/15/2010', '3/13/2012',\n",
       "       '10/22/2009', '6/14/2013', '8/18/2011', '9/25/2014', '10/15/2013',\n",
       "       '7/14/2011', '9/9/2013', '4/2/2014', '1/13/2012', '7/27/2012',\n",
       "       '11/1/2010', '3/5/2014', '8/4/2010', '10/10/2011', '8/22/2013',\n",
       "       '9/1/2009', '7/28/2011', '4/19/2012', '7/25/2014', '11/5/2012',\n",
       "       '5/12/2014', '6/23/2009', '2/19/2015', '2/5/2014', '6/24/2013',\n",
       "       '11/29/2011', '6/20/2014', '9/15/2011', '9/29/2009', '1/24/2013',\n",
       "       '9/7/2010', '2/11/2014', '2/6/2015', '4/24/2012', '1/14/2015',\n",
       "       '8/21/2009', '11/15/2014', '12/19/2014', '7/17/2012', '8/7/2013',\n",
       "       '3/28/2012', '6/16/2015', '9/6/2012', '4/17/2015', '7/2/2009',\n",
       "       '7/6/2011', '1/16/2015', '2/22/2013', '5/28/2013', '2/23/2012',\n",
       "       '7/21/2010', '3/14/2014', '3/26/2013', '5/30/2011', '6/4/2013',\n",
       "       '9/21/2011', '11/2/2010', '3/7/2014', '11/1/2011', '2/4/2010',\n",
       "       '1/22/2010', '9/12/2014', '6/9/2014', '2/2/2010', '11/26/2009',\n",
       "       '7/1/2013', '5/18/2012', '3/9/2011', '1/30/2012', '6/27/2012',\n",
       "       '8/11/2009', '2/27/2014', '3/4/2010', '10/23/2014', '9/18/2014',\n",
       "       '1/5/2011', '12/16/2013', '6/7/2013', '3/1/2013', '5/31/2011',\n",
       "       '12/26/2012', '10/22/2012', '11/17/2010', '4/17/2013', '4/24/2015',\n",
       "       '5/29/2014', '10/14/2013', '5/4/2012', '9/16/2013', '6/14/2011',\n",
       "       '1/6/2011', '3/26/2010', '10/7/2009', '9/25/2013', '2/25/2013',\n",
       "       '4/22/2010', '6/16/2011', '1/31/2012', '3/7/2010', '10/8/2012',\n",
       "       '6/3/2014', '8/11/2010', '5/26/2011', '10/13/2011', '2/20/2013',\n",
       "       '9/26/2012', '12/3/2013', '3/9/2010', '8/29/2012'], dtype=object)"
      ]
     },
     "execution_count": 224,
     "metadata": {},
     "output_type": "execute_result"
    }
   ],
   "source": [
    "df['po sent to vendor date'].unique()"
   ]
  },
  {
   "cell_type": "markdown",
   "metadata": {},
   "source": [
    "## 328 DATE not captured"
   ]
  },
  {
   "cell_type": "code",
   "execution_count": 225,
   "metadata": {},
   "outputs": [
    {
     "data": {
      "text/plain": [
       "(328, 33)"
      ]
     },
     "execution_count": 225,
     "metadata": {},
     "output_type": "execute_result"
    }
   ],
   "source": [
    "df[df['po sent to vendor date'] == 'Date Not Captured'].shape"
   ]
  },
  {
   "cell_type": "code",
   "execution_count": 232,
   "metadata": {},
   "outputs": [
    {
     "data": {
      "text/plain": [
       "dtype('O')"
      ]
     },
     "execution_count": 232,
     "metadata": {},
     "output_type": "execute_result"
    }
   ],
   "source": [
    "df['po sent to vendor date'].dtype"
   ]
  },
  {
   "cell_type": "markdown",
   "metadata": {},
   "source": [
    "## Changing the data type of column, but first replace 'data not captured'  to nan value"
   ]
  },
  {
   "cell_type": "code",
   "execution_count": 347,
   "metadata": {},
   "outputs": [],
   "source": [
    "df['po sent to vendor date'] = df['po sent to vendor date'].replace('Date Not Captured',np.nan, inplace = True)"
   ]
  },
  {
   "cell_type": "code",
   "execution_count": 348,
   "metadata": {},
   "outputs": [],
   "source": [
    "df['po sent to vendor date'] = pd.to_datetime(df['po sent to vendor date'])"
   ]
  },
  {
   "cell_type": "markdown",
   "metadata": {},
   "source": [
    "# Column 13 - Scheduled Delivery Date"
   ]
  },
  {
   "attachments": {},
   "cell_type": "markdown",
   "metadata": {},
   "source": [
    "## Current anticipated delivery date"
   ]
  },
  {
   "cell_type": "code",
   "execution_count": 227,
   "metadata": {},
   "outputs": [
    {
     "data": {
      "text/plain": [
       "2006"
      ]
     },
     "execution_count": 227,
     "metadata": {},
     "output_type": "execute_result"
    }
   ],
   "source": [
    "df['scheduled delivery date'].nunique()"
   ]
  },
  {
   "cell_type": "code",
   "execution_count": 228,
   "metadata": {},
   "outputs": [
    {
     "data": {
      "text/plain": [
       "0"
      ]
     },
     "execution_count": 228,
     "metadata": {},
     "output_type": "execute_result"
    }
   ],
   "source": [
    "df['scheduled delivery date'].isnull().sum()"
   ]
  },
  {
   "cell_type": "code",
   "execution_count": 229,
   "metadata": {},
   "outputs": [
    {
     "data": {
      "text/plain": [
       "array(['2-Jun-06', '14-Nov-06', '27-Aug-06', ..., '27-Oct-13',\n",
       "       '29-Jan-14', '9-Sep-15'], dtype=object)"
      ]
     },
     "execution_count": 229,
     "metadata": {},
     "output_type": "execute_result"
    }
   ],
   "source": [
    "df['scheduled delivery date'].unique()"
   ]
  },
  {
   "cell_type": "code",
   "execution_count": 231,
   "metadata": {},
   "outputs": [
    {
     "data": {
      "text/plain": [
       "dtype('O')"
      ]
     },
     "execution_count": 231,
     "metadata": {},
     "output_type": "execute_result"
    }
   ],
   "source": [
    "df['scheduled delivery date'].dtypes"
   ]
  },
  {
   "cell_type": "code",
   "execution_count": 234,
   "metadata": {},
   "outputs": [],
   "source": [
    "df['scheduled delivery date'] = pd.to_datetime(df['scheduled delivery date'])"
   ]
  },
  {
   "cell_type": "code",
   "execution_count": 235,
   "metadata": {},
   "outputs": [
    {
     "data": {
      "text/plain": [
       "dtype('<M8[ns]')"
      ]
     },
     "execution_count": 235,
     "metadata": {},
     "output_type": "execute_result"
    }
   ],
   "source": [
    "df['scheduled delivery date'].dtypes"
   ]
  },
  {
   "cell_type": "code",
   "execution_count": 236,
   "metadata": {},
   "outputs": [
    {
     "data": {
      "text/plain": [
       "0   2006-06-02\n",
       "1   2006-11-14\n",
       "2   2006-08-27\n",
       "3   2006-09-01\n",
       "4   2006-08-11\n",
       "Name: scheduled delivery date, dtype: datetime64[ns]"
      ]
     },
     "execution_count": 236,
     "metadata": {},
     "output_type": "execute_result"
    }
   ],
   "source": [
    "df['scheduled delivery date'].head()"
   ]
  },
  {
   "cell_type": "code",
   "execution_count": null,
   "metadata": {},
   "outputs": [],
   "source": []
  },
  {
   "cell_type": "markdown",
   "metadata": {},
   "source": [
    "# Column 14 - Delivered to Client Date"
   ]
  },
  {
   "cell_type": "markdown",
   "metadata": {},
   "source": [
    "Transactions are included in the dataset only after the goods have been delivered to the client"
   ]
  },
  {
   "cell_type": "code",
   "execution_count": 238,
   "metadata": {},
   "outputs": [
    {
     "data": {
      "text/plain": [
       "0"
      ]
     },
     "execution_count": 238,
     "metadata": {},
     "output_type": "execute_result"
    }
   ],
   "source": [
    "df['delivered to client date'].isnull().sum()"
   ]
  },
  {
   "cell_type": "code",
   "execution_count": 237,
   "metadata": {},
   "outputs": [
    {
     "data": {
      "text/plain": [
       "2093"
      ]
     },
     "execution_count": 237,
     "metadata": {},
     "output_type": "execute_result"
    }
   ],
   "source": [
    "df['delivered to client date'].nunique()"
   ]
  },
  {
   "cell_type": "code",
   "execution_count": 239,
   "metadata": {},
   "outputs": [
    {
     "data": {
      "text/plain": [
       "dtype('O')"
      ]
     },
     "execution_count": 239,
     "metadata": {},
     "output_type": "execute_result"
    }
   ],
   "source": [
    "df['delivered to client date'].dtype"
   ]
  },
  {
   "cell_type": "code",
   "execution_count": 240,
   "metadata": {},
   "outputs": [],
   "source": [
    "df['delivered to client date'] = pd.to_datetime(df['delivered to client date'])"
   ]
  },
  {
   "cell_type": "code",
   "execution_count": 242,
   "metadata": {},
   "outputs": [
    {
     "data": {
      "text/plain": [
       "dtype('<M8[ns]')"
      ]
     },
     "execution_count": 242,
     "metadata": {},
     "output_type": "execute_result"
    }
   ],
   "source": [
    "df['delivered to client date'].dtype"
   ]
  },
  {
   "cell_type": "code",
   "execution_count": 243,
   "metadata": {},
   "outputs": [
    {
     "data": {
      "text/plain": [
       "0   2006-06-02\n",
       "1   2006-11-14\n",
       "2   2006-08-27\n",
       "3   2006-09-01\n",
       "4   2006-08-11\n",
       "Name: delivered to client date, dtype: datetime64[ns]"
      ]
     },
     "execution_count": 243,
     "metadata": {},
     "output_type": "execute_result"
    }
   ],
   "source": [
    "df['delivered to client date'].head()"
   ]
  },
  {
   "cell_type": "code",
   "execution_count": 244,
   "metadata": {},
   "outputs": [
    {
     "data": {
      "text/plain": [
       "0"
      ]
     },
     "execution_count": 244,
     "metadata": {},
     "output_type": "execute_result"
    }
   ],
   "source": [
    "df['delivered to client date'].isnull().sum()"
   ]
  },
  {
   "cell_type": "markdown",
   "metadata": {},
   "source": [
    "# Total cases where actual delivery date and expected delivery date are same"
   ]
  },
  {
   "cell_type": "code",
   "execution_count": 248,
   "metadata": {},
   "outputs": [
    {
     "data": {
      "text/plain": [
       "(9138, 33)"
      ]
     },
     "execution_count": 248,
     "metadata": {},
     "output_type": "execute_result"
    }
   ],
   "source": [
    "df[df['delivered to client date'] <=  df['scheduled delivery date']].shape"
   ]
  },
  {
   "cell_type": "code",
   "execution_count": 249,
   "metadata": {},
   "outputs": [
    {
     "data": {
      "text/plain": [
       "(1186, 33)"
      ]
     },
     "execution_count": 249,
     "metadata": {},
     "output_type": "execute_result"
    }
   ],
   "source": [
    "df[df['delivered to client date'] >  df['scheduled delivery date']].shape"
   ]
  },
  {
   "cell_type": "code",
   "execution_count": 250,
   "metadata": {},
   "outputs": [
    {
     "data": {
      "text/plain": [
       "(10324, 33)"
      ]
     },
     "execution_count": 250,
     "metadata": {},
     "output_type": "execute_result"
    }
   ],
   "source": [
    "df.shape"
   ]
  },
  {
   "cell_type": "code",
   "execution_count": 252,
   "metadata": {},
   "outputs": [
    {
     "data": {
      "image/png": "[encoded data removed]",
      "text/plain": [
       "<Figure size 432x288 with 1 Axes>"
      ]
     },
     "metadata": {
      "needs_background": "light"
     },
     "output_type": "display_data"
    }
   ],
   "source": [
    "plt.bar(['ontime', 'delayed'],[9138, 1186], width = 0.5)\n",
    "plt.show()"
   ]
  },
  {
   "cell_type": "code",
   "execution_count": 255,
   "metadata": {
    "scrolled": true
   },
   "outputs": [
    {
     "data": {
      "text/html": [
       "<div>\n",
       "<style scoped>\n",
       "    .dataframe tbody tr th:only-of-type {\n",
       "        vertical-align: middle;\n",
       "    }\n",
       "\n",
       "    .dataframe tbody tr th {\n",
       "        vertical-align: top;\n",
       "    }\n",
       "\n",
       "    .dataframe thead th {\n",
       "        text-align: right;\n",
       "    }\n",
       "</style>\n",
       "<table border=\"1\" class=\"dataframe\">\n",
       "  <thead>\n",
       "    <tr style=\"text-align: right;\">\n",
       "      <th></th>\n",
       "      <th>delivered to client date</th>\n",
       "      <th>scheduled delivery date</th>\n",
       "    </tr>\n",
       "  </thead>\n",
       "  <tbody>\n",
       "    <tr>\n",
       "      <td>25</td>\n",
       "      <td>2007-08-21</td>\n",
       "      <td>2007-08-13</td>\n",
       "    </tr>\n",
       "    <tr>\n",
       "      <td>73</td>\n",
       "      <td>2009-04-08</td>\n",
       "      <td>2009-03-10</td>\n",
       "    </tr>\n",
       "    <tr>\n",
       "      <td>124</td>\n",
       "      <td>2009-07-10</td>\n",
       "      <td>2009-06-12</td>\n",
       "    </tr>\n",
       "    <tr>\n",
       "      <td>146</td>\n",
       "      <td>2007-03-30</td>\n",
       "      <td>2007-03-15</td>\n",
       "    </tr>\n",
       "    <tr>\n",
       "      <td>204</td>\n",
       "      <td>2008-07-14</td>\n",
       "      <td>2008-07-10</td>\n",
       "    </tr>\n",
       "  </tbody>\n",
       "</table>\n",
       "</div>"
      ],
      "text/plain": [
       "    delivered to client date scheduled delivery date\n",
       "25                2007-08-21              2007-08-13\n",
       "73                2009-04-08              2009-03-10\n",
       "124               2009-07-10              2009-06-12\n",
       "146               2007-03-30              2007-03-15\n",
       "204               2008-07-14              2008-07-10"
      ]
     },
     "execution_count": 255,
     "metadata": {},
     "output_type": "execute_result"
    }
   ],
   "source": [
    "df[df['delivered to client date'] >  df['scheduled delivery date']][['delivered to client date', 'scheduled delivery date']].head()"
   ]
  },
  {
   "cell_type": "markdown",
   "metadata": {},
   "source": [
    "# List of country and frequency of delays"
   ]
  },
  {
   "cell_type": "code",
   "execution_count": 265,
   "metadata": {},
   "outputs": [],
   "source": [
    "a = (df[df['delivered to client date'] >  df['scheduled delivery date']]).groupby('country')['id'].count()"
   ]
  },
  {
   "cell_type": "code",
   "execution_count": 268,
   "metadata": {
    "scrolled": true
   },
   "outputs": [
    {
     "data": {
      "text/plain": [
       "country\n",
       "Benin                   3\n",
       "Botswana                2\n",
       "Burundi                38\n",
       "Cameroon                7\n",
       "Congo, DRC             83\n",
       "Côte d'Ivoire         134\n",
       "Dominican Republic      4\n",
       "Ethiopia               12\n",
       "Ghana                   8\n",
       "Guatemala               2\n",
       "Guyana                 24\n",
       "Haiti                  62\n",
       "Kenya                  14\n",
       "Libya                   1\n",
       "Mozambique            116\n",
       "Namibia                 1\n",
       "Nigeria               142\n",
       "Rwanda                 37\n",
       "Senegal                 1\n",
       "South Africa          115\n",
       "South Sudan            21\n",
       "Swaziland               3\n",
       "Tanzania               66\n",
       "Togo                    1\n",
       "Uganda                 98\n",
       "Vietnam                 6\n",
       "Zambia                108\n",
       "Zimbabwe               77\n",
       "Name: id, dtype: int64"
      ]
     },
     "execution_count": 268,
     "metadata": {},
     "output_type": "execute_result"
    }
   ],
   "source": [
    "a"
   ]
  },
  {
   "cell_type": "markdown",
   "metadata": {},
   "source": [
    "# Total delivery  sent"
   ]
  },
  {
   "cell_type": "code",
   "execution_count": 266,
   "metadata": {},
   "outputs": [],
   "source": [
    "b = df.groupby('country')['id'].count()"
   ]
  },
  {
   "cell_type": "code",
   "execution_count": 272,
   "metadata": {
    "scrolled": true
   },
   "outputs": [
    {
     "data": {
      "text/plain": [
       "country\n",
       "Afghanistan              3\n",
       "Angola                   7\n",
       "Belize                   1\n",
       "Benin                   13\n",
       "Botswana                70\n",
       "Burkina Faso             2\n",
       "Burundi                 98\n",
       "Cameroon                75\n",
       "Congo, DRC             333\n",
       "Côte d'Ivoire         1083\n",
       "Dominican Republic      52\n",
       "Ethiopia               216\n",
       "Ghana                   58\n",
       "Guatemala               15\n",
       "Guinea                   1\n",
       "Guyana                 237\n",
       "Haiti                  655\n",
       "Kazakhstan               2\n",
       "Kenya                  111\n",
       "Kyrgyzstan               2\n",
       "Lebanon                  8\n",
       "Lesotho                  4\n",
       "Liberia                  6\n",
       "Libya                    8\n",
       "Malawi                  14\n",
       "Mali                    17\n",
       "Mozambique             631\n",
       "Namibia                 95\n",
       "Nigeria               1194\n",
       "Pakistan                15\n",
       "Rwanda                 430\n",
       "Senegal                  3\n",
       "Sierra Leone             4\n",
       "South Africa          1406\n",
       "South Sudan            164\n",
       "Sudan                   46\n",
       "Swaziland               35\n",
       "Tanzania               519\n",
       "Togo                     3\n",
       "Uganda                 779\n",
       "Vietnam                688\n",
       "Zambia                 683\n",
       "Zimbabwe               538\n",
       "Name: id, dtype: int64"
      ]
     },
     "execution_count": 272,
     "metadata": {},
     "output_type": "execute_result"
    }
   ],
   "source": [
    "b"
   ]
  },
  {
   "cell_type": "code",
   "execution_count": 296,
   "metadata": {
    "scrolled": true
   },
   "outputs": [
    {
     "name": "stderr",
     "output_type": "stream",
     "text": [
      "C:\\Users\\Delight Com\\Anaconda3\\lib\\site-packages\\ipykernel_launcher.py:1: FutureWarning: Sorting because non-concatenation axis is not aligned. A future version\n",
      "of pandas will change to not sort by default.\n",
      "\n",
      "To accept the future behavior, pass 'sort=False'.\n",
      "\n",
      "To retain the current behavior and silence the warning, pass 'sort=True'.\n",
      "\n",
      "  \"\"\"Entry point for launching an IPython kernel.\n"
     ]
    }
   ],
   "source": [
    "df5 = pd.concat([b,a], axis =1)"
   ]
  },
  {
   "cell_type": "markdown",
   "metadata": {},
   "source": [
    "# Total deliveries vs delayed deliveries, and % age of time delivery is late"
   ]
  },
  {
   "cell_type": "code",
   "execution_count": 297,
   "metadata": {},
   "outputs": [],
   "source": [
    "df5.columns = ['total delivery', 'late delivery']"
   ]
  },
  {
   "cell_type": "code",
   "execution_count": 298,
   "metadata": {},
   "outputs": [],
   "source": [
    "df5['late delivery'].fillna(0, inplace = True)"
   ]
  },
  {
   "cell_type": "code",
   "execution_count": 299,
   "metadata": {},
   "outputs": [],
   "source": [
    "df5['% on time'] =  (df5['late delivery']/df5['total delivery'])*100"
   ]
  },
  {
   "cell_type": "code",
   "execution_count": 301,
   "metadata": {
    "scrolled": true
   },
   "outputs": [
    {
     "data": {
      "text/html": [
       "<div>\n",
       "<style scoped>\n",
       "    .dataframe tbody tr th:only-of-type {\n",
       "        vertical-align: middle;\n",
       "    }\n",
       "\n",
       "    .dataframe tbody tr th {\n",
       "        vertical-align: top;\n",
       "    }\n",
       "\n",
       "    .dataframe thead th {\n",
       "        text-align: right;\n",
       "    }\n",
       "</style>\n",
       "<table border=\"1\" class=\"dataframe\">\n",
       "  <thead>\n",
       "    <tr style=\"text-align: right;\">\n",
       "      <th></th>\n",
       "      <th>total delivery</th>\n",
       "      <th>late delivery</th>\n",
       "      <th>% on time</th>\n",
       "    </tr>\n",
       "  </thead>\n",
       "  <tbody>\n",
       "    <tr>\n",
       "      <td>Burundi</td>\n",
       "      <td>98</td>\n",
       "      <td>38.0</td>\n",
       "      <td>38.775510</td>\n",
       "    </tr>\n",
       "    <tr>\n",
       "      <td>Senegal</td>\n",
       "      <td>3</td>\n",
       "      <td>1.0</td>\n",
       "      <td>33.333333</td>\n",
       "    </tr>\n",
       "    <tr>\n",
       "      <td>Togo</td>\n",
       "      <td>3</td>\n",
       "      <td>1.0</td>\n",
       "      <td>33.333333</td>\n",
       "    </tr>\n",
       "    <tr>\n",
       "      <td>Congo, DRC</td>\n",
       "      <td>333</td>\n",
       "      <td>83.0</td>\n",
       "      <td>24.924925</td>\n",
       "    </tr>\n",
       "    <tr>\n",
       "      <td>Benin</td>\n",
       "      <td>13</td>\n",
       "      <td>3.0</td>\n",
       "      <td>23.076923</td>\n",
       "    </tr>\n",
       "    <tr>\n",
       "      <td>Mozambique</td>\n",
       "      <td>631</td>\n",
       "      <td>116.0</td>\n",
       "      <td>18.383518</td>\n",
       "    </tr>\n",
       "    <tr>\n",
       "      <td>Zambia</td>\n",
       "      <td>683</td>\n",
       "      <td>108.0</td>\n",
       "      <td>15.812592</td>\n",
       "    </tr>\n",
       "    <tr>\n",
       "      <td>Zimbabwe</td>\n",
       "      <td>538</td>\n",
       "      <td>77.0</td>\n",
       "      <td>14.312268</td>\n",
       "    </tr>\n",
       "    <tr>\n",
       "      <td>Ghana</td>\n",
       "      <td>58</td>\n",
       "      <td>8.0</td>\n",
       "      <td>13.793103</td>\n",
       "    </tr>\n",
       "    <tr>\n",
       "      <td>Guatemala</td>\n",
       "      <td>15</td>\n",
       "      <td>2.0</td>\n",
       "      <td>13.333333</td>\n",
       "    </tr>\n",
       "    <tr>\n",
       "      <td>South Sudan</td>\n",
       "      <td>164</td>\n",
       "      <td>21.0</td>\n",
       "      <td>12.804878</td>\n",
       "    </tr>\n",
       "    <tr>\n",
       "      <td>Tanzania</td>\n",
       "      <td>519</td>\n",
       "      <td>66.0</td>\n",
       "      <td>12.716763</td>\n",
       "    </tr>\n",
       "    <tr>\n",
       "      <td>Kenya</td>\n",
       "      <td>111</td>\n",
       "      <td>14.0</td>\n",
       "      <td>12.612613</td>\n",
       "    </tr>\n",
       "    <tr>\n",
       "      <td>Uganda</td>\n",
       "      <td>779</td>\n",
       "      <td>98.0</td>\n",
       "      <td>12.580231</td>\n",
       "    </tr>\n",
       "    <tr>\n",
       "      <td>Libya</td>\n",
       "      <td>8</td>\n",
       "      <td>1.0</td>\n",
       "      <td>12.500000</td>\n",
       "    </tr>\n",
       "    <tr>\n",
       "      <td>Côte d'Ivoire</td>\n",
       "      <td>1083</td>\n",
       "      <td>134.0</td>\n",
       "      <td>12.373038</td>\n",
       "    </tr>\n",
       "    <tr>\n",
       "      <td>Nigeria</td>\n",
       "      <td>1194</td>\n",
       "      <td>142.0</td>\n",
       "      <td>11.892797</td>\n",
       "    </tr>\n",
       "    <tr>\n",
       "      <td>Guyana</td>\n",
       "      <td>237</td>\n",
       "      <td>24.0</td>\n",
       "      <td>10.126582</td>\n",
       "    </tr>\n",
       "    <tr>\n",
       "      <td>Haiti</td>\n",
       "      <td>655</td>\n",
       "      <td>62.0</td>\n",
       "      <td>9.465649</td>\n",
       "    </tr>\n",
       "    <tr>\n",
       "      <td>Cameroon</td>\n",
       "      <td>75</td>\n",
       "      <td>7.0</td>\n",
       "      <td>9.333333</td>\n",
       "    </tr>\n",
       "    <tr>\n",
       "      <td>Rwanda</td>\n",
       "      <td>430</td>\n",
       "      <td>37.0</td>\n",
       "      <td>8.604651</td>\n",
       "    </tr>\n",
       "    <tr>\n",
       "      <td>Swaziland</td>\n",
       "      <td>35</td>\n",
       "      <td>3.0</td>\n",
       "      <td>8.571429</td>\n",
       "    </tr>\n",
       "    <tr>\n",
       "      <td>South Africa</td>\n",
       "      <td>1406</td>\n",
       "      <td>115.0</td>\n",
       "      <td>8.179232</td>\n",
       "    </tr>\n",
       "    <tr>\n",
       "      <td>Dominican Republic</td>\n",
       "      <td>52</td>\n",
       "      <td>4.0</td>\n",
       "      <td>7.692308</td>\n",
       "    </tr>\n",
       "    <tr>\n",
       "      <td>Ethiopia</td>\n",
       "      <td>216</td>\n",
       "      <td>12.0</td>\n",
       "      <td>5.555556</td>\n",
       "    </tr>\n",
       "    <tr>\n",
       "      <td>Botswana</td>\n",
       "      <td>70</td>\n",
       "      <td>2.0</td>\n",
       "      <td>2.857143</td>\n",
       "    </tr>\n",
       "    <tr>\n",
       "      <td>Namibia</td>\n",
       "      <td>95</td>\n",
       "      <td>1.0</td>\n",
       "      <td>1.052632</td>\n",
       "    </tr>\n",
       "    <tr>\n",
       "      <td>Vietnam</td>\n",
       "      <td>688</td>\n",
       "      <td>6.0</td>\n",
       "      <td>0.872093</td>\n",
       "    </tr>\n",
       "    <tr>\n",
       "      <td>Sudan</td>\n",
       "      <td>46</td>\n",
       "      <td>0.0</td>\n",
       "      <td>0.000000</td>\n",
       "    </tr>\n",
       "    <tr>\n",
       "      <td>Sierra Leone</td>\n",
       "      <td>4</td>\n",
       "      <td>0.0</td>\n",
       "      <td>0.000000</td>\n",
       "    </tr>\n",
       "    <tr>\n",
       "      <td>Afghanistan</td>\n",
       "      <td>3</td>\n",
       "      <td>0.0</td>\n",
       "      <td>0.000000</td>\n",
       "    </tr>\n",
       "    <tr>\n",
       "      <td>Pakistan</td>\n",
       "      <td>15</td>\n",
       "      <td>0.0</td>\n",
       "      <td>0.000000</td>\n",
       "    </tr>\n",
       "    <tr>\n",
       "      <td>Mali</td>\n",
       "      <td>17</td>\n",
       "      <td>0.0</td>\n",
       "      <td>0.000000</td>\n",
       "    </tr>\n",
       "    <tr>\n",
       "      <td>Malawi</td>\n",
       "      <td>14</td>\n",
       "      <td>0.0</td>\n",
       "      <td>0.000000</td>\n",
       "    </tr>\n",
       "    <tr>\n",
       "      <td>Liberia</td>\n",
       "      <td>6</td>\n",
       "      <td>0.0</td>\n",
       "      <td>0.000000</td>\n",
       "    </tr>\n",
       "    <tr>\n",
       "      <td>Angola</td>\n",
       "      <td>7</td>\n",
       "      <td>0.0</td>\n",
       "      <td>0.000000</td>\n",
       "    </tr>\n",
       "    <tr>\n",
       "      <td>Lebanon</td>\n",
       "      <td>8</td>\n",
       "      <td>0.0</td>\n",
       "      <td>0.000000</td>\n",
       "    </tr>\n",
       "    <tr>\n",
       "      <td>Kyrgyzstan</td>\n",
       "      <td>2</td>\n",
       "      <td>0.0</td>\n",
       "      <td>0.000000</td>\n",
       "    </tr>\n",
       "    <tr>\n",
       "      <td>Kazakhstan</td>\n",
       "      <td>2</td>\n",
       "      <td>0.0</td>\n",
       "      <td>0.000000</td>\n",
       "    </tr>\n",
       "    <tr>\n",
       "      <td>Guinea</td>\n",
       "      <td>1</td>\n",
       "      <td>0.0</td>\n",
       "      <td>0.000000</td>\n",
       "    </tr>\n",
       "    <tr>\n",
       "      <td>Burkina Faso</td>\n",
       "      <td>2</td>\n",
       "      <td>0.0</td>\n",
       "      <td>0.000000</td>\n",
       "    </tr>\n",
       "    <tr>\n",
       "      <td>Belize</td>\n",
       "      <td>1</td>\n",
       "      <td>0.0</td>\n",
       "      <td>0.000000</td>\n",
       "    </tr>\n",
       "    <tr>\n",
       "      <td>Lesotho</td>\n",
       "      <td>4</td>\n",
       "      <td>0.0</td>\n",
       "      <td>0.000000</td>\n",
       "    </tr>\n",
       "  </tbody>\n",
       "</table>\n",
       "</div>"
      ],
      "text/plain": [
       "                    total delivery  late delivery  % on time\n",
       "Burundi                         98           38.0  38.775510\n",
       "Senegal                          3            1.0  33.333333\n",
       "Togo                             3            1.0  33.333333\n",
       "Congo, DRC                     333           83.0  24.924925\n",
       "Benin                           13            3.0  23.076923\n",
       "Mozambique                     631          116.0  18.383518\n",
       "Zambia                         683          108.0  15.812592\n",
       "Zimbabwe                       538           77.0  14.312268\n",
       "Ghana                           58            8.0  13.793103\n",
       "Guatemala                       15            2.0  13.333333\n",
       "South Sudan                    164           21.0  12.804878\n",
       "Tanzania                       519           66.0  12.716763\n",
       "Kenya                          111           14.0  12.612613\n",
       "Uganda                         779           98.0  12.580231\n",
       "Libya                            8            1.0  12.500000\n",
       "Côte d'Ivoire                 1083          134.0  12.373038\n",
       "Nigeria                       1194          142.0  11.892797\n",
       "Guyana                         237           24.0  10.126582\n",
       "Haiti                          655           62.0   9.465649\n",
       "Cameroon                        75            7.0   9.333333\n",
       "Rwanda                         430           37.0   8.604651\n",
       "Swaziland                       35            3.0   8.571429\n",
       "South Africa                  1406          115.0   8.179232\n",
       "Dominican Republic              52            4.0   7.692308\n",
       "Ethiopia                       216           12.0   5.555556\n",
       "Botswana                        70            2.0   2.857143\n",
       "Namibia                         95            1.0   1.052632\n",
       "Vietnam                        688            6.0   0.872093\n",
       "Sudan                           46            0.0   0.000000\n",
       "Sierra Leone                     4            0.0   0.000000\n",
       "Afghanistan                      3            0.0   0.000000\n",
       "Pakistan                        15            0.0   0.000000\n",
       "Mali                            17            0.0   0.000000\n",
       "Malawi                          14            0.0   0.000000\n",
       "Liberia                          6            0.0   0.000000\n",
       "Angola                           7            0.0   0.000000\n",
       "Lebanon                          8            0.0   0.000000\n",
       "Kyrgyzstan                       2            0.0   0.000000\n",
       "Kazakhstan                       2            0.0   0.000000\n",
       "Guinea                           1            0.0   0.000000\n",
       "Burkina Faso                     2            0.0   0.000000\n",
       "Belize                           1            0.0   0.000000\n",
       "Lesotho                          4            0.0   0.000000"
      ]
     },
     "execution_count": 301,
     "metadata": {},
     "output_type": "execute_result"
    }
   ],
   "source": [
    "df5.sort_values(by ='% on time', ascending = False)"
   ]
  },
  {
   "cell_type": "code",
   "execution_count": null,
   "metadata": {},
   "outputs": [],
   "source": []
  },
  {
   "cell_type": "markdown",
   "metadata": {},
   "source": [
    "# Column 15 - delivery recorded date"
   ]
  },
  {
   "cell_type": "code",
   "execution_count": 304,
   "metadata": {},
   "outputs": [
    {
     "data": {
      "text/plain": [
       "0"
      ]
     },
     "execution_count": 304,
     "metadata": {},
     "output_type": "execute_result"
    }
   ],
   "source": [
    "df['delivery recorded date'].isnull().sum()"
   ]
  },
  {
   "cell_type": "code",
   "execution_count": 305,
   "metadata": {},
   "outputs": [
    {
     "data": {
      "text/plain": [
       "2042"
      ]
     },
     "execution_count": 305,
     "metadata": {},
     "output_type": "execute_result"
    }
   ],
   "source": [
    "df['delivery recorded date'].nunique()"
   ]
  },
  {
   "cell_type": "code",
   "execution_count": 306,
   "metadata": {},
   "outputs": [],
   "source": [
    "df['delivery recorded date'] =pd.to_datetime(df['delivery recorded date'])"
   ]
  },
  {
   "cell_type": "code",
   "execution_count": 307,
   "metadata": {},
   "outputs": [
    {
     "data": {
      "text/plain": [
       "dtype('<M8[ns]')"
      ]
     },
     "execution_count": 307,
     "metadata": {},
     "output_type": "execute_result"
    }
   ],
   "source": [
    "df['delivery recorded date'].dtype"
   ]
  },
  {
   "cell_type": "markdown",
   "metadata": {},
   "source": [
    "# every date data, is not recorded on the day of delivery"
   ]
  },
  {
   "cell_type": "code",
   "execution_count": 308,
   "metadata": {},
   "outputs": [
    {
     "data": {
      "text/plain": [
       "(1911, 33)"
      ]
     },
     "execution_count": 308,
     "metadata": {},
     "output_type": "execute_result"
    }
   ],
   "source": [
    "df[df['delivery recorded date']!= df['delivered to client date']].shape"
   ]
  },
  {
   "cell_type": "code",
   "execution_count": 320,
   "metadata": {},
   "outputs": [],
   "source": [
    "df6 = df[df['delivery recorded date']!= df['delivered to client date']][['id','delivery recorded date', 'delivered to client date' ]].head()"
   ]
  },
  {
   "cell_type": "code",
   "execution_count": 321,
   "metadata": {},
   "outputs": [
    {
     "data": {
      "text/html": [
       "<div>\n",
       "<style scoped>\n",
       "    .dataframe tbody tr th:only-of-type {\n",
       "        vertical-align: middle;\n",
       "    }\n",
       "\n",
       "    .dataframe tbody tr th {\n",
       "        vertical-align: top;\n",
       "    }\n",
       "\n",
       "    .dataframe thead th {\n",
       "        text-align: right;\n",
       "    }\n",
       "</style>\n",
       "<table border=\"1\" class=\"dataframe\">\n",
       "  <thead>\n",
       "    <tr style=\"text-align: right;\">\n",
       "      <th></th>\n",
       "      <th>id</th>\n",
       "      <th>delivery recorded date</th>\n",
       "      <th>delivered to client date</th>\n",
       "    </tr>\n",
       "  </thead>\n",
       "  <tbody>\n",
       "    <tr>\n",
       "      <td>431</td>\n",
       "      <td>4190</td>\n",
       "      <td>2008-01-24</td>\n",
       "      <td>2007-01-24</td>\n",
       "    </tr>\n",
       "    <tr>\n",
       "      <td>2684</td>\n",
       "      <td>12959</td>\n",
       "      <td>2015-05-14</td>\n",
       "      <td>2015-05-12</td>\n",
       "    </tr>\n",
       "    <tr>\n",
       "      <td>2691</td>\n",
       "      <td>13027</td>\n",
       "      <td>2014-08-06</td>\n",
       "      <td>2014-07-29</td>\n",
       "    </tr>\n",
       "    <tr>\n",
       "      <td>2696</td>\n",
       "      <td>13106</td>\n",
       "      <td>2014-10-01</td>\n",
       "      <td>2014-09-16</td>\n",
       "    </tr>\n",
       "    <tr>\n",
       "      <td>2699</td>\n",
       "      <td>13148</td>\n",
       "      <td>2014-02-07</td>\n",
       "      <td>2014-01-14</td>\n",
       "    </tr>\n",
       "  </tbody>\n",
       "</table>\n",
       "</div>"
      ],
      "text/plain": [
       "         id delivery recorded date delivered to client date\n",
       "431    4190             2008-01-24               2007-01-24\n",
       "2684  12959             2015-05-14               2015-05-12\n",
       "2691  13027             2014-08-06               2014-07-29\n",
       "2696  13106             2014-10-01               2014-09-16\n",
       "2699  13148             2014-02-07               2014-01-14"
      ]
     },
     "execution_count": 321,
     "metadata": {},
     "output_type": "execute_result"
    }
   ],
   "source": [
    "df6.head()"
   ]
  },
  {
   "cell_type": "code",
   "execution_count": 322,
   "metadata": {},
   "outputs": [],
   "source": [
    "df6['recorded delivery year'] = pd.DatetimeIndex(df6['delivery recorded date']).year"
   ]
  },
  {
   "cell_type": "code",
   "execution_count": 323,
   "metadata": {},
   "outputs": [],
   "source": [
    "df6['client delivery year'] = pd.DatetimeIndex(df6['delivered to client date']).year"
   ]
  },
  {
   "cell_type": "code",
   "execution_count": 324,
   "metadata": {},
   "outputs": [
    {
     "data": {
      "text/html": [
       "<div>\n",
       "<style scoped>\n",
       "    .dataframe tbody tr th:only-of-type {\n",
       "        vertical-align: middle;\n",
       "    }\n",
       "\n",
       "    .dataframe tbody tr th {\n",
       "        vertical-align: top;\n",
       "    }\n",
       "\n",
       "    .dataframe thead th {\n",
       "        text-align: right;\n",
       "    }\n",
       "</style>\n",
       "<table border=\"1\" class=\"dataframe\">\n",
       "  <thead>\n",
       "    <tr style=\"text-align: right;\">\n",
       "      <th></th>\n",
       "      <th>id</th>\n",
       "      <th>delivery recorded date</th>\n",
       "      <th>delivered to client date</th>\n",
       "      <th>recorded delivery year</th>\n",
       "      <th>client delivery year</th>\n",
       "    </tr>\n",
       "  </thead>\n",
       "  <tbody>\n",
       "    <tr>\n",
       "      <td>431</td>\n",
       "      <td>4190</td>\n",
       "      <td>2008-01-24</td>\n",
       "      <td>2007-01-24</td>\n",
       "      <td>2008</td>\n",
       "      <td>2007</td>\n",
       "    </tr>\n",
       "    <tr>\n",
       "      <td>2684</td>\n",
       "      <td>12959</td>\n",
       "      <td>2015-05-14</td>\n",
       "      <td>2015-05-12</td>\n",
       "      <td>2015</td>\n",
       "      <td>2015</td>\n",
       "    </tr>\n",
       "    <tr>\n",
       "      <td>2691</td>\n",
       "      <td>13027</td>\n",
       "      <td>2014-08-06</td>\n",
       "      <td>2014-07-29</td>\n",
       "      <td>2014</td>\n",
       "      <td>2014</td>\n",
       "    </tr>\n",
       "    <tr>\n",
       "      <td>2696</td>\n",
       "      <td>13106</td>\n",
       "      <td>2014-10-01</td>\n",
       "      <td>2014-09-16</td>\n",
       "      <td>2014</td>\n",
       "      <td>2014</td>\n",
       "    </tr>\n",
       "    <tr>\n",
       "      <td>2699</td>\n",
       "      <td>13148</td>\n",
       "      <td>2014-02-07</td>\n",
       "      <td>2014-01-14</td>\n",
       "      <td>2014</td>\n",
       "      <td>2014</td>\n",
       "    </tr>\n",
       "  </tbody>\n",
       "</table>\n",
       "</div>"
      ],
      "text/plain": [
       "         id delivery recorded date delivered to client date  \\\n",
       "431    4190             2008-01-24               2007-01-24   \n",
       "2684  12959             2015-05-14               2015-05-12   \n",
       "2691  13027             2014-08-06               2014-07-29   \n",
       "2696  13106             2014-10-01               2014-09-16   \n",
       "2699  13148             2014-02-07               2014-01-14   \n",
       "\n",
       "      recorded delivery year  client delivery year  \n",
       "431                     2008                  2007  \n",
       "2684                    2015                  2015  \n",
       "2691                    2014                  2014  \n",
       "2696                    2014                  2014  \n",
       "2699                    2014                  2014  "
      ]
     },
     "execution_count": 324,
     "metadata": {},
     "output_type": "execute_result"
    }
   ],
   "source": [
    "df6.head()"
   ]
  },
  {
   "cell_type": "markdown",
   "metadata": {},
   "source": [
    "## Only one value where year is written wrong, by mistake"
   ]
  },
  {
   "cell_type": "code",
   "execution_count": 325,
   "metadata": {},
   "outputs": [
    {
     "data": {
      "text/html": [
       "<div>\n",
       "<style scoped>\n",
       "    .dataframe tbody tr th:only-of-type {\n",
       "        vertical-align: middle;\n",
       "    }\n",
       "\n",
       "    .dataframe tbody tr th {\n",
       "        vertical-align: top;\n",
       "    }\n",
       "\n",
       "    .dataframe thead th {\n",
       "        text-align: right;\n",
       "    }\n",
       "</style>\n",
       "<table border=\"1\" class=\"dataframe\">\n",
       "  <thead>\n",
       "    <tr style=\"text-align: right;\">\n",
       "      <th></th>\n",
       "      <th>id</th>\n",
       "      <th>delivery recorded date</th>\n",
       "      <th>delivered to client date</th>\n",
       "      <th>recorded delivery year</th>\n",
       "      <th>client delivery year</th>\n",
       "    </tr>\n",
       "  </thead>\n",
       "  <tbody>\n",
       "    <tr>\n",
       "      <td>431</td>\n",
       "      <td>4190</td>\n",
       "      <td>2008-01-24</td>\n",
       "      <td>2007-01-24</td>\n",
       "      <td>2008</td>\n",
       "      <td>2007</td>\n",
       "    </tr>\n",
       "  </tbody>\n",
       "</table>\n",
       "</div>"
      ],
      "text/plain": [
       "       id delivery recorded date delivered to client date  \\\n",
       "431  4190             2008-01-24               2007-01-24   \n",
       "\n",
       "     recorded delivery year  client delivery year  \n",
       "431                    2008                  2007  "
      ]
     },
     "execution_count": 325,
     "metadata": {},
     "output_type": "execute_result"
    }
   ],
   "source": [
    "df6[df6['recorded delivery year'] != df6['client delivery year']].head()"
   ]
  },
  {
   "cell_type": "code",
   "execution_count": 336,
   "metadata": {},
   "outputs": [
    {
     "data": {
      "text/plain": [
       "Int64Index([431], dtype='int64')"
      ]
     },
     "execution_count": 336,
     "metadata": {},
     "output_type": "execute_result"
    }
   ],
   "source": [
    "df[df['id'] ==  4190].index"
   ]
  },
  {
   "cell_type": "markdown",
   "metadata": {},
   "source": [
    "## Change the year of delivery to client date"
   ]
  },
  {
   "cell_type": "code",
   "execution_count": 342,
   "metadata": {},
   "outputs": [],
   "source": [
    "df.loc[431,'delivered to client date'] = pd.datetime(2008,1,24)"
   ]
  },
  {
   "cell_type": "code",
   "execution_count": 343,
   "metadata": {},
   "outputs": [
    {
     "data": {
      "text/plain": [
       "431   2008-01-24\n",
       "Name: delivered to client date, dtype: datetime64[ns]"
      ]
     },
     "execution_count": 343,
     "metadata": {},
     "output_type": "execute_result"
    }
   ],
   "source": [
    "df[df['id'] ==  4190]['delivered to client date']"
   ]
  },
  {
   "cell_type": "code",
   "execution_count": 350,
   "metadata": {
    "scrolled": true
   },
   "outputs": [
    {
     "data": {
      "text/plain": [
       "id                                       int32\n",
       "project code                            object\n",
       "pq #                                    object\n",
       "po / so #                               object\n",
       "asn/dn #                                object\n",
       "country                                 object\n",
       "managed by                              object\n",
       "fulfill via                             object\n",
       "vendor inco term                        object\n",
       "shipment mode                           object\n",
       "pq first sent to client date            object\n",
       "po sent to vendor date          datetime64[ns]\n",
       "scheduled delivery date         datetime64[ns]\n",
       "delivered to client date        datetime64[ns]\n",
       "delivery recorded date          datetime64[ns]\n",
       "product group                           object\n",
       "sub classification                      object\n",
       "vendor                                  object\n",
       "item description                        object\n",
       "molecule/test type                      object\n",
       "brand                                   object\n",
       "dosage                                  object\n",
       "dosage form                             object\n",
       "unit of measure (per pack)              object\n",
       "line item quantity                      object\n",
       "line item value                         object\n",
       "pack price                              object\n",
       "unit price                             float64\n",
       "manufacturing site                      object\n",
       "first line designation                    bool\n",
       "weight (kilograms)                      object\n",
       "freight cost (usd)                      object\n",
       "line item insurance (usd)               object\n",
       "dtype: object"
      ]
     },
     "execution_count": 350,
     "metadata": {},
     "output_type": "execute_result"
    }
   ],
   "source": [
    "df.dtypes"
   ]
  },
  {
   "cell_type": "code",
   "execution_count": null,
   "metadata": {},
   "outputs": [],
   "source": []
  }
 ],
 "metadata": {
  "kernelspec": {
   "display_name": "Python 3",
   "language": "python",
   "name": "python3"
  },
  "language_info": {
   "codemirror_mode": {
    "name": "ipython",
    "version": 3
   },
   "file_extension": ".py",
   "mimetype": "text/x-python",
   "name": "python",
   "nbconvert_exporter": "python",
   "pygments_lexer": "ipython3",
   "version": "3.7.4"
  }
 },
 "nbformat": 4,
 "nbformat_minor": 2
}
